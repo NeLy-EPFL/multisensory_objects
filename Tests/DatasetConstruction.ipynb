{
 "cells": [
  {
   "cell_type": "code",
   "execution_count": null,
   "metadata": {
    "pycharm": {
     "name": "#%%\n"
    }
   },
   "outputs": [],
   "source": [
    "import matplotlib.pyplot as plt\n",
    "import matplotlib.patches as patches\n",
    "import numpy as np\n",
    "import pandas as pd\n",
    "import os\n",
    "from os import listdir\n",
    "from os.path import isfile, join\n",
    "\n",
    "import numpy as np\n",
    "#import holoviews as hv\n",
    "#from holoviews import opts\n",
    "#hv.extension('bokeh')"
   ]
  },
  {
   "cell_type": "code",
   "execution_count": null,
   "metadata": {
    "pycharm": {
     "name": "#%%\n"
    }
   },
   "outputs": [],
   "source": [
    "filepath = '/Volumes/Universal_HD/VideoAnalysis/GatedArenas/Results/Csvs/All/'\n",
    "#outpath =\n",
    "File = 'Ctrl_Starved_noWater_4.csv'"
   ]
  },
  {
   "cell_type": "code",
   "execution_count": null,
   "metadata": {
    "pycharm": {
     "name": "#%%\n"
    }
   },
   "outputs": [],
   "source": [
    "df = pd.read_csv(filepath+File)\n",
    "df.head()"
   ]
  },
  {
   "cell_type": "code",
   "execution_count": null,
   "metadata": {
    "pycharm": {
     "name": "#%%\n"
    }
   },
   "outputs": [],
   "source": [
    "\n",
    "plt.figure(figsize=(5,5))\n",
    "plt.scatter(df['pos_x'], df['pos_y'], c=df['frame'], alpha=0.5)\n",
    "plt.xlabel('X', fontsize=16)\n",
    "plt.ylabel('Y', fontsize=16)\n",
    "#plt.gca().invert_yaxis()\n",
    "plt.tight_layout()\n",
    "#plt.savefig(path+'figs/trajectory.eps', format='eps', dpi=300)\n",
    "plt.show()\n",
    "\n",
    "plt.figure(figsize=(5,5))\n",
    "plt.hist2d(df['pos_x'], df['pos_y'], bins=30, cmap='plasma')\n",
    "plt.xlabel('X', fontsize=16)\n",
    "plt.ylabel('Y', fontsize=16)\n",
    "#plt.gca().invert_yaxis()\n",
    "\n",
    "plt.tight_layout()\n",
    "\n",
    "#plt.savefig(path+'figs/heatmap.eps', format='eps', dpi=300)\n",
    "plt.show()"
   ]
  },
  {
   "cell_type": "code",
   "execution_count": null,
   "metadata": {
    "pycharm": {
     "name": "#%%\n"
    }
   },
   "outputs": [],
   "source": [
    "X = df['pos_x']\n",
    "Y = df['pos_y']"
   ]
  },
  {
   "cell_type": "code",
   "execution_count": null,
   "metadata": {
    "pycharm": {
     "name": "#%%\n"
    }
   },
   "outputs": [],
   "source": [
    "df['pos_x'][3]"
   ]
  },
  {
   "cell_type": "code",
   "execution_count": null,
   "metadata": {
    "pycharm": {
     "name": "#%%\n"
    }
   },
   "outputs": [],
   "source": [
    "X = df['pos_x']\n",
    "Center_X = min(X)+((max(X)-min(X))/2)\n",
    "Center_Y = min(Y)+((max(Y)-min(Y))/2)\n",
    "Quarter_X = min(X)+((Center_X-min(X))/2)\n",
    "TQuarter_X=Center_X+((max(X)-Center_X)/2)"
   ]
  },
  {
   "cell_type": "code",
   "execution_count": null,
   "metadata": {
    "pycharm": {
     "name": "#%%\n"
    }
   },
   "outputs": [],
   "source": [
    "plt.figure(figsize=(5,5))\n",
    "plt.scatter(df['pos_x'], df['pos_y'], c=df['frame'], alpha=0.5)\n",
    "plt.plot(Center_X, Center_Y, 'xr')\n",
    "plt.plot(Quarter_X, Center_Y, 'xr')\n",
    "plt.plot(TQuarter_X, Center_Y, 'xr')\n",
    "plt.xlabel('X', fontsize=16)\n",
    "plt.ylabel('Y', fontsize=16)\n",
    "#plt.gca().invert_yaxis()\n",
    "plt.tight_layout()\n",
    "#plt.savefig(path+'figs/trajectory.eps', format='eps', dpi=300)\n",
    "plt.show()"
   ]
  },
  {
   "cell_type": "code",
   "execution_count": null,
   "metadata": {
    "pycharm": {
     "name": "#%%\n"
    }
   },
   "outputs": [],
   "source": [
    "rect = patches.Rectangle((250,300),50,50, edgecolor='r', facecolor=\"none\") # (x,y), width, height\n",
    "\n",
    "plt.figure(figsize=(5,5))\n",
    "plt.scatter(df['pos_x'], df['pos_y'], c=df['frame'], alpha=0.5)\n",
    "plt.plot(Center_X, Center_Y, 'xr')\n",
    "plt.plot(Quarter_X, Center_Y, 'xr')\n",
    "plt.plot(TQuarter_X, Center_Y, 'xr')\n",
    "plt.xlabel('X', fontsize=16)\n",
    "plt.ylabel('Y', fontsize=16)\n",
    "#plt.gca().invert_yaxis()\n",
    "plt.tight_layout()\n",
    "#plt.savefig(path+'figs/trajectory.eps', format='eps', dpi=300)\n",
    "plt.gca().add_patch(rect)\n",
    "plt.show()"
   ]
  },
  {
   "cell_type": "code",
   "execution_count": null,
   "metadata": {
    "pycharm": {
     "name": "#%%\n"
    }
   },
   "outputs": [],
   "source": [
    "plt.figure(figsize=(5,5))\n",
    "plt.scatter(df['pos_x'], df['pos_y'], c=df['frame'], alpha=0.5)\n",
    "plt.plot(Center_X, Center_Y, 'xr')\n",
    "plt.plot(Quarter_X, Center_Y, 'xr')\n",
    "plt.plot(TQuarter_X, Center_Y, 'xr')\n",
    "plt.vlines(x=[Center_X,Quarter_X,TQuarter_X], ymin=min(Y), ymax=max(Y), colors='red')\n",
    "plt.xlabel('X', fontsize=16)\n",
    "plt.ylabel('Y', fontsize=16)\n",
    "#plt.gca().invert_yaxis()\n",
    "plt.tight_layout()\n",
    "plt.savefig(\"/Volumes/Universal_HD/VideoAnalysis/GatedArenas/Results/Zones.eps\", format='eps', dpi=300)\n",
    "plt.show()"
   ]
  },
  {
   "cell_type": "code",
   "execution_count": null,
   "metadata": {
    "pycharm": {
     "name": "#%%\n"
    }
   },
   "outputs": [],
   "source": [
    "Left = len(X[X<Center_X])\n",
    "Right = len(X[X>Center_X])\n",
    "\n",
    "Ratio  = (Left-Right)/(Left+Right)"
   ]
  },
  {
   "cell_type": "code",
   "execution_count": null,
   "metadata": {
    "pycharm": {
     "name": "#%%\n"
    }
   },
   "outputs": [],
   "source": [
    "xLin = np.linspace(min(X), max(X),100)\n",
    "yLin = np.linspace(min(Y), max(Y), 100)\n",
    "NegyLin = np.linspace(max(Y), min(Y), 100)"
   ]
  },
  {
   "cell_type": "code",
   "execution_count": null,
   "metadata": {
    "pycharm": {
     "name": "#%%\n"
    }
   },
   "outputs": [],
   "source": [
    "plt.figure(figsize=(5,5))\n",
    "plt.scatter(df['pos_x'], df['pos_y'], c=df['frame'], alpha=0.5)\n",
    "plt.plot(Center_X, Center_Y, 'xr')\n",
    "plt.plot(xLin,yLin, '-r')\n",
    "plt.plot(xLin,NegyLin, '-r')\n",
    "plt.xlabel('X', fontsize=16)\n",
    "plt.ylabel('Y', fontsize=16)\n",
    "#plt.gca().invert_yaxis()\n",
    "plt.tight_layout()\n",
    "#plt.savefig(path+'figs/trajectory.eps', format='eps', dpi=300)\n",
    "plt.show()"
   ]
  },
  {
   "cell_type": "code",
   "execution_count": null,
   "metadata": {
    "pycharm": {
     "name": "#%%\n"
    }
   },
   "outputs": [],
   "source": [
    "Left = len(df['pos_x'][df['pos_x']<Center_X])\n",
    "Right = len(df['pos_x'][df['pos_x']>Center_X])"
   ]
  },
  {
   "cell_type": "code",
   "execution_count": null,
   "metadata": {
    "pycharm": {
     "name": "#%%\n"
    }
   },
   "outputs": [],
   "source": [
    "Data = pd. DataFrame(columns=('Date','Training','Starvation','TimeLeft', 'TimeRight', 'PI'))"
   ]
  },
  {
   "cell_type": "code",
   "execution_count": null,
   "metadata": {
    "pycharm": {
     "name": "#%%\n"
    }
   },
   "outputs": [],
   "source": [
    "#Data['HemiLeft'] = [Left]\n",
    "#Data['HemiRight'] = [Right]\n",
    "Data['Performance'] = [(Left-Right)/(Left+Right)]"
   ]
  },
  {
   "cell_type": "code",
   "execution_count": null,
   "metadata": {
    "pycharm": {
     "name": "#%%\n"
    }
   },
   "outputs": [],
   "source": [
    "Data['HemiLeft'].add(4)"
   ]
  },
  {
   "cell_type": "markdown",
   "metadata": {
    "pycharm": {
     "name": "#%% md\n"
    }
   },
   "source": [
    "To do : Test 832x832 scale\n",
    "Find out how to attribute each frame position to a specific arena area."
   ]
  },
  {
   "cell_type": "code",
   "execution_count": null,
   "metadata": {
    "pycharm": {
     "name": "#%%\n"
    }
   },
   "outputs": [],
   "source": [
    "# Gather csv files and give them actionnable names\n",
    "\n",
    "#os.system(\"find /Volumes/Universal_HD/VideoAnalysis/GatedArenas/220304/Ctrl/Starved_noWater -name '*.csv'\")\n",
    "\n",
    "os.system(\"echo for file in /Volumes/Universal_HD/VideoAnalysis/GatedArenas/220304/Ctrl/Starved_noWater/*/*.csv; cp '$file' '/Volumes/Universal_HD/VideoAnalysis/GatedArenas/Results/Csvs/Ctrl_noWater/Tracking_%.csv'\")"
   ]
  },
  {
   "cell_type": "code",
   "execution_count": null,
   "metadata": {
    "pycharm": {
     "name": "#%%\n"
    }
   },
   "outputs": [],
   "source": [
    "# Create a csv table\n",
    "\n",
    "Data = pd. DataFrame(columns=('Date','Training','Starvation', 'Performance'))\n",
    "\n",
    "#Data. to_csv('/Volumes/Universal_HD/VideoAnalysis/GatedArenas/Results/Estimates.csv')"
   ]
  },
  {
   "cell_type": "code",
   "execution_count": null,
   "metadata": {
    "pycharm": {
     "name": "#%%\n"
    }
   },
   "outputs": [],
   "source": [
    "from os import walk\n",
    "\n",
    "f = []\n",
    "for (dirpath, dirnames, filenames) in walk(filepath):\n",
    "    f.extend(filenames)\n",
    "    break"
   ]
  },
  {
   "cell_type": "code",
   "execution_count": null,
   "metadata": {
    "pycharm": {
     "name": "#%%\n"
    }
   },
   "outputs": [],
   "source": [
    "f[1]"
   ]
  },
  {
   "cell_type": "code",
   "execution_count": null,
   "metadata": {
    "pycharm": {
     "name": "#%%\n"
    }
   },
   "outputs": [],
   "source": [
    "Data_old = pd. DataFrame(columns=('Date','Training','Starvation', 'Relative Time Left', 'Relative Time Right','Relative Time far Left', 'Relative Time far Right'))\n",
    "\n",
    "for file in f :\n",
    "    Out = []\n",
    "    df = pd.read_csv(filepath+file)\n",
    "    X = df['pos_x']\n",
    "    Center_X = min(X)+((max(X)-min(X))/2)\n",
    "    Center_Y = min(Y)+((max(Y)-min(Y))/2)\n",
    "    Quarter_X = min(X)+((Center_X-min(X))/2)\n",
    "    TQuarter_X=Center_X+((max(X)-Center_X)/2)\n",
    "\n",
    "    Left = len(X[X<Center_X])\n",
    "    FarLeft = len(X[X<Quarter_X])\n",
    "    Right = len(X[X>Center_X])\n",
    "    FarRight = len(X[X>TQuarter_X])\n",
    "\n",
    "    RelTimeLeft = Left / len(X)\n",
    "    RelTimeFarLeft = FarLeft / len(X)\n",
    "    RelTimeRight = Right / len(X)\n",
    "    RelTimeFarRight = FarRight / len(X)\n",
    "\n",
    "    Out.append(\n",
    "        {\n",
    "            'Date': \"22-03-04\" if any(x in file for x in ('1', '2', '3')) else \"22-03-10\",\n",
    "            'Training' : 'Trained' if ('Trained' in file) else 'Ctrl',\n",
    "            'Starvation' : 'Overnight no Water' if ('noWater' in file) else 'Overnight with Water',\n",
    "            'Relative Time Left' : RelTimeLeft,\n",
    "            'Relative Time Right' : RelTimeRight,\n",
    "            'Relative Time far Left' : RelTimeFarLeft,\n",
    "            'Relative Time far Right' : RelTimeFarRight\n",
    "\n",
    "        }\n",
    "    )\n",
    "    Out = pd.DataFrame(Out)\n",
    "    Data_old = Data_old.append(Out)\n",
    "\n"
   ]
  },
  {
   "cell_type": "code",
   "execution_count": null,
   "metadata": {
    "pycharm": {
     "name": "#%%\n"
    }
   },
   "outputs": [],
   "source": [
    "DataPath = \"/Volumes/Ramdya-Lab/DURRIEU_Matthias/Experimental_data/MultiSensory_Project/GatedArenas_Agar\"\n",
    "Data = pd. DataFrame(columns=('Date','Training','Starvation', 'Relative Time Left', 'Relative Time Right','Relative Time far Left', 'Relative Time far Right'))\n",
    "\n",
    "for dirpath, dirnames, filenames in os.walk(DataPath):\n",
    "    if 'Results' in dirnames:\n",
    "        dirnames.remove('Results')\n",
    "    for filename in [f for f in filenames if f.endswith(\".csv\")]:\n",
    "        print (dirpath)\n",
    "\n",
    "        Out = []\n",
    "        file_path = os.path.join(dirpath, filename)\n",
    "        print(file_path)\n",
    "        df = pd.read_csv(file_path)\n",
    "        X = df['pos_x']\n",
    "        Y = df['pos_y']\n",
    "        Center_X = min(X)+((max(X)-min(X))/2)\n",
    "        Center_Y = min(Y)+((max(Y)-min(Y))/2)\n",
    "        Quarter_X = min(X)+((Center_X-min(X))/2)\n",
    "        TQuarter_X=Center_X+((max(X)-Center_X)/2)\n",
    "\n",
    "        Left = len(X[X<Center_X])\n",
    "        FarLeft = len(X[X<Quarter_X])\n",
    "        Right = len(X[X>Center_X])\n",
    "        FarRight = len(X[X>TQuarter_X])\n",
    "\n",
    "        RelTimeLeft = Left / len(X)\n",
    "        RelTimeFarLeft = FarLeft / len(X)\n",
    "        RelTimeRight = Right / len(X)\n",
    "        RelTimeFarRight = FarRight / len(X)\n",
    "\n",
    "        VisitsLeft_gate = []\n",
    "\n",
    "        timer=0\n",
    "\n",
    "        for ypos in df.pos_y[df.pos_x<250] :\n",
    "            if (ypos < 400 and ypos > 250) or (ypos < 600 and ypos > 475) in df.pos_y:\n",
    "                timer += 1\n",
    "                #print (timer)\n",
    "            elif timer !=0 :\n",
    "                VisitsLeft_gate.append(timer)\n",
    "                timer = 0\n",
    "\n",
    "        VisitsLeft_gate_Front = []\n",
    "\n",
    "        timer=0\n",
    "\n",
    "        for ypos in df.pos_y[(df.pos_x<350) & df.pos_x>200] :\n",
    "            if (ypos < 500 and ypos > 300) in df.pos_y:\n",
    "                timer += 1\n",
    "                #print (timer)\n",
    "            elif timer !=0 :\n",
    "                VisitsLeft_gate_Front.append(timer)\n",
    "                timer = 0\n",
    "\n",
    "        VisitsRight_gate = []\n",
    "\n",
    "        timer=0\n",
    "\n",
    "        for ypos in df.pos_y[df.pos_x>575] :\n",
    "            if (ypos < 400 and ypos > 250) or (ypos < 600 and ypos > 475) in df.pos_y:\n",
    "                timer += 1\n",
    "                #print (timer)\n",
    "            elif timer !=0 :\n",
    "                VisitsRight_gate.append(timer)\n",
    "                timer = 0\n",
    "\n",
    "        VisitsRight_gate_Front = []\n",
    "\n",
    "        timer=0\n",
    "\n",
    "        for ypos in df.pos_y[(df.pos_x>500) & (df.pos_x<650)] :\n",
    "            if (ypos < 500 and ypos > 300) in df.pos_y:\n",
    "                timer += 1\n",
    "                #print (timer)\n",
    "            elif timer !=0 :\n",
    "                VisitsRight_gate_Front.append(timer)\n",
    "                timer = 0\n",
    "\n",
    "        VisitsTop_gate = []\n",
    "\n",
    "        timer=0\n",
    "\n",
    "        for xpos in df.pos_x[df.pos_y<275] :\n",
    "            if (xpos < 350 and xpos > 250) or (xpos < 600 and xpos > 500) in df.pos_x:\n",
    "                timer += 1\n",
    "                #print (timer)\n",
    "            elif timer !=0 :\n",
    "                VisitsTop_gate.append(timer)\n",
    "                timer = 0\n",
    "\n",
    "        VisitsTop_gate_Front = []\n",
    "\n",
    "        timer=0\n",
    "\n",
    "        for xpos in df.pos_x[(df.pos_y<350) & (df.pos_y>200)] :\n",
    "            if (xpos < 500 and xpos > 300) in df.pos_x:\n",
    "                timer += 1\n",
    "                #print (timer)\n",
    "            elif timer !=0 :\n",
    "                VisitsTop_gate_Front.append(timer)\n",
    "                timer = 0\n",
    "\n",
    "        Peeks_Left = sum(1 for i in VisitsLeft_gate if i > 160)\n",
    "        Peeks_Right = sum(1 for i in VisitsRight_gate if i > 160)\n",
    "        Peeks_Top = sum(1 for i in VisitsTop_gate if i > 160)\n",
    "        LongPeeks_Left = sum(1 for i in VisitsLeft_gate if i > 320)\n",
    "        LongPeeks_Right = sum(1 for i in VisitsRight_gate if i > 320)\n",
    "        LongPeeks_Top = sum(1 for i in VisitsTop_gate if i > 320)\n",
    "        Face_Left = sum(1 for i in VisitsLeft_gate_Front if i > 160)\n",
    "        Face_Right = sum(1 for i in VisitsRight_gate_Front if i > 160)\n",
    "        Face_Top = sum(1 for i in VisitsTop_gate_Front if i > 160)\n",
    "\n",
    "        Out.append(\n",
    "            {\n",
    "                'Date': \"22-03-04\" if ('220304' in dirpath) else \"22-03-10\",\n",
    "                'Training' : 'Trained' if ('Trained' in dirpath) else 'Ctrl',\n",
    "                'Starvation' : 'Overnight no Water' if ('noWater' in dirpath) else 'Overnight with Water',\n",
    "                'Reinforced_side' : 'Right' if ('RightRew' in dirpath) else 'Left' if ('LeftRew' in dirpath) else 'Empty',\n",
    "                'Relative Time Left' : RelTimeLeft,\n",
    "                'Relative Time Right' : RelTimeRight,\n",
    "                'Relative Time far Left' : RelTimeFarLeft,\n",
    "                'Relative Time far Right' : RelTimeFarRight,\n",
    "                'Peeks Left' : Peeks_Left,\n",
    "                'Peeks Right' : Peeks_Right,\n",
    "                'Peeks Top' : Peeks_Top,\n",
    "                'Face Left' : Face_Left,\n",
    "                'Face Right' : Face_Right,\n",
    "                'Face Top' : Face_Top,\n",
    "                'Long Peeks Left' : LongPeeks_Left,\n",
    "                'Long Peeks Right' : LongPeeks_Right,\n",
    "                'Long Peeks Top' : LongPeeks_Top\n",
    "\n",
    "            }\n",
    "        )\n",
    "        Out = pd.DataFrame(Out)\n",
    "        Data = Data.append(Out)\n",
    "\n",
    "Data.to_csv(DataPath + '/Results/DataSet.csv')"
   ]
  },
  {
   "cell_type": "code",
   "execution_count": null,
   "metadata": {
    "pycharm": {
     "name": "#%%\n"
    }
   },
   "outputs": [],
   "source": [
    "Data.head()"
   ]
  },
  {
   "cell_type": "code",
   "execution_count": null,
   "metadata": {
    "pycharm": {
     "name": "#%%\n"
    }
   },
   "outputs": [],
   "source": [
    "TestData = pd.read_csv('/Volumes/Universal_HD/VideoAnalysis/GatedArenas/DataSet.csv')\n",
    "TestData.head()"
   ]
  },
  {
   "cell_type": "code",
   "execution_count": null,
   "metadata": {
    "pycharm": {
     "name": "#%%\n"
    }
   },
   "outputs": [],
   "source": [
    "Partial = pd.DataFrame(Out)\n",
    "Data.append(Partial)"
   ]
  },
  {
   "cell_type": "code",
   "execution_count": null,
   "metadata": {
    "pycharm": {
     "name": "#%%\n"
    }
   },
   "outputs": [],
   "source": [
    "np.mean(Data['Relative Time Left'])"
   ]
  },
  {
   "cell_type": "code",
   "execution_count": null,
   "metadata": {
    "pycharm": {
     "name": "#%%\n"
    }
   },
   "outputs": [],
   "source": [
    "boxplotLeft =hv.BoxWhisker(Data,kdims=['Training', 'Starvation'],vdims=['Relative Time Left'])\n",
    "boxplotLeft*hv.HLine(0.5).opts(\n",
    "    opts.HLine(color='red',linewidth=4),\n",
    "    opts.BoxWhisker(width=800, height=800)\n",
    ")"
   ]
  },
  {
   "cell_type": "code",
   "execution_count": null,
   "metadata": {
    "pycharm": {
     "name": "#%%\n"
    }
   },
   "outputs": [],
   "source": [
    "boxplotFarLeft =hv.BoxWhisker(Data,kdims=['Training'],vdims=['Relative Time Left'])\n",
    "boxplotFarLeft.opts(width=800, height=800)\n",
    "hv.save(boxplotFarLeft, \"/Volumes/Universal_HD/VideoAnalysis/GatedArenas/Results/boxplot.html\", fmt='html')"
   ]
  },
  {
   "cell_type": "code",
   "execution_count": null,
   "metadata": {
    "pycharm": {
     "name": "#%%\n"
    }
   },
   "outputs": [],
   "source": [
    "boxplotFarRight =hv.BoxWhisker(Data,kdims=['Training', 'Starvation'],vdims=['Relative Time far Right'])\n",
    "boxplotFarRight.opts(width=800, height=800)"
   ]
  },
  {
   "cell_type": "code",
   "execution_count": null,
   "metadata": {
    "pycharm": {
     "name": "#%%\n"
    }
   },
   "outputs": [],
   "source": [
    "Data['Starvation']"
   ]
  },
  {
   "cell_type": "code",
   "execution_count": null,
   "metadata": {
    "pycharm": {
     "name": "#%%\n"
    }
   },
   "outputs": [],
   "source": [
    "hv.save(boxplot, \"/Volumes/Universal_HD/VideoAnalysis/GatedArenas/Results/boxplot.html\", fmt='html')"
   ]
  },
  {
   "cell_type": "code",
   "execution_count": null,
   "metadata": {
    "pycharm": {
     "name": "#%%\n"
    }
   },
   "outputs": [],
   "source": [
    "temp = Data.to_dict()"
   ]
  },
  {
   "cell_type": "code",
   "execution_count": null,
   "metadata": {
    "pycharm": {
     "name": "#%%\n"
    }
   },
   "outputs": [],
   "source": [
    "temp = pd.DataFrame(Data)"
   ]
  },
  {
   "cell_type": "code",
   "execution_count": null,
   "metadata": {
    "pycharm": {
     "name": "#%%\n"
    }
   },
   "outputs": [],
   "source": [
    "Data = Data.explode('Relative Time Left') # wtf\n",
    "Data['Relative Time Left'] = Data['Relative Time Left'].astype('float')\n",
    "violinLeft = hv.Violin(data=Data, kdims=['Training', 'Starvation', 'Date'], vdims=['Relative Time Left']).opts(\n",
    "    cmap='Set1',\n",
    "    split=hv.dim('Date'),\n",
    "    #violin_color=hv.dim('Training'),\n",
    "    height=800,\n",
    "    width=1200,\n",
    "    ylim=(0,1),\n",
    "    fontsize={'title': 20, 'labels': 16, 'xticks': 12, 'yticks': 12}\n",
    ")#.groupby(\n",
    "  #  'Date'\n",
    "#)\n",
    "violinLeft"
   ]
  },
  {
   "cell_type": "code",
   "execution_count": null,
   "metadata": {
    "pycharm": {
     "name": "#%%\n"
    }
   },
   "outputs": [],
   "source": [
    "Data = Data.explode('Relative Time far Left') # wtf\n",
    "Data['Relative Time far Left'] = Data['Relative Time far Left'].astype('float')\n",
    "\n",
    "violinfarLeft = hv.Violin(data=Data, kdims=['Training', 'Starvation','Date'], vdims=['Relative Time far Left']).opts(\n",
    "    cmap='Set1',\n",
    "    split=hv.dim('Date'),\n",
    "    #violin_color=hv.dim('Training'),\n",
    "    height=800,\n",
    "    width=1200,\n",
    "    ylim=(0,1),\n",
    "    fontsize={'title': 20, 'labels': 16, 'xticks': 12, 'yticks': 12}\n",
    ")\n",
    "violinfarLeft"
   ]
  },
  {
   "cell_type": "code",
   "execution_count": null,
   "metadata": {
    "pycharm": {
     "name": "#%%\n"
    }
   },
   "outputs": [],
   "source": [
    "Data = Data.explode('Relative Time far Right') # wtf\n",
    "Data['Relative Time far Right'] = Data['Relative Time far Right'].astype('float')\n",
    "\n",
    "violinfarRight = hv.Violin(data=Data, kdims=['Training', 'Starvation','Date'], vdims=['Relative Time far Right']).opts(\n",
    "    cmap='Set1',\n",
    "    split=hv.dim('Date'),\n",
    "    #violin_color=hv.dim('Training'),\n",
    "    height=800,\n",
    "    width=1200,\n",
    "    ylim=(0,1),\n",
    "    fontsize={'title': 20, 'labels': 16, 'xticks': 12, 'yticks': 12}\n",
    ")\n",
    "violinfarRight"
   ]
  },
  {
   "cell_type": "code",
   "execution_count": null,
   "metadata": {
    "pycharm": {
     "name": "#%%\n"
    }
   },
   "outputs": [],
   "source": [
    "Data = Data.explode('Relative Time Right') # wtf\n",
    "Data['Relative Time Right'] = Data['Relative Time Right'].astype('float')\n",
    "\n",
    "violinRight = hv.Violin(data=Data, kdims=['Training', 'Starvation','Date'], vdims=['Relative Time Right']).opts(\n",
    "    cmap='Set1',\n",
    "    split=hv.dim('Date'),\n",
    "    #violin_color=hv.dim('Training'),\n",
    "    height=800,\n",
    "    width=1200,\n",
    "    ylim=(0,1),\n",
    "    fontsize={'title': 20, 'labels': 16, 'xticks': 12, 'yticks': 12}\n",
    ")\n",
    "violinRight"
   ]
  },
  {
   "cell_type": "code",
   "execution_count": null,
   "metadata": {
    "pycharm": {
     "name": "#%%\n"
    }
   },
   "outputs": [],
   "source": [
    "layout = hv.Layout(violinLeft+violinRight+violinfarLeft+violinfarRight).cols(2)\n",
    "layout"
   ]
  },
  {
   "cell_type": "code",
   "execution_count": null,
   "metadata": {
    "pycharm": {
     "name": "#%%\n"
    }
   },
   "outputs": [],
   "source": [
    "hv.save(layout, \"/Volumes/Universal_HD/VideoAnalysis/GatedArenas/Results/GatedArenas1.png\", fmt='png')"
   ]
  },
  {
   "cell_type": "code",
   "execution_count": null,
   "metadata": {
    "pycharm": {
     "name": "#%%\n"
    }
   },
   "outputs": [],
   "source": [
    "import seaborn as sns"
   ]
  },
  {
   "cell_type": "code",
   "execution_count": null,
   "metadata": {
    "pycharm": {
     "name": "#%%\n"
    }
   },
   "outputs": [],
   "source": [
    "sns.boxplot(y=Data['Relative Time Left'])"
   ]
  },
  {
   "cell_type": "code",
   "execution_count": null,
   "metadata": {
    "pycharm": {
     "name": "#%%\n"
    }
   },
   "outputs": [],
   "source": [
    "Data = Data.explode('Relative Time Left') # wtf\n",
    "Data['Relative Time Left'] = Data['Relative Time Left'].astype('float')"
   ]
  },
  {
   "cell_type": "code",
   "execution_count": null,
   "metadata": {
    "pycharm": {
     "name": "#%%\n"
    }
   },
   "outputs": [],
   "source": [
    "sns.violinplot(y=Data['Relative Time Left'], )"
   ]
  },
  {
   "cell_type": "code",
   "execution_count": null,
   "metadata": {
    "pycharm": {
     "name": "#%%\n"
    }
   },
   "outputs": [],
   "source": [
    "Melted = pd.melt(Data, value_name='Relative Time', var_name=['Training', 'Starvation', 'TimeType'])\n",
    "Melted.head()"
   ]
  },
  {
   "cell_type": "code",
   "execution_count": null,
   "metadata": {
    "pycharm": {
     "name": "#%%\n"
    }
   },
   "outputs": [],
   "source": [
    "from os import walk\n",
    "\n",
    "f = []\n",
    "for (dirpath, dirnames, filenames) in walk(filepath):\n",
    "    f.extend(filenames)\n",
    "    break"
   ]
  },
  {
   "cell_type": "code",
   "execution_count": null,
   "metadata": {
    "pycharm": {
     "name": "#%%\n"
    }
   },
   "outputs": [],
   "source": [
    "Plots = []\n",
    "\n",
    "from os import walk\n",
    "\n",
    "f = []\n",
    "for (dirpath, dirnames, filenames) in walk(filepath):\n",
    "    f.extend(filenames)\n",
    "    break\n",
    "LenF = len(f)\n",
    "for file in f :\n",
    "\n",
    "    df = pd.read_csv(filepath+file)\n",
    "    plt.figure(figsize=(5,5))\n",
    "    plt.scatter(df['pos_x'], df['pos_y'], c=df['frame'], alpha=0.5)\n",
    "    plt.xlabel('X', fontsize=16)\n",
    "    plt.ylabel('Y', fontsize=16)\n",
    "    #plt.gca().invert_yaxis()\n",
    "    plt.tight_layout()\n",
    "    #plt.savefig(path+'figs/trajectory.eps', format='eps', dpi=300)\n",
    "    plt.show()\n",
    "\n",
    "    plt.figure(figsize=(5,5))\n",
    "    plt.hist2d(df['pos_x'], df['pos_y'], bins=30, cmap='plasma')\n",
    "    plt.xlabel('X', fontsize=16)\n",
    "    plt.ylabel('Y', fontsize=16)\n",
    "    #plt.gca().invert_yaxis()\n",
    "\n",
    "    plt.tight_layout()\n",
    "    Plots[f.index(file)] = plt\n",
    "    #plt.savefig(path+'figs/heatmap.eps', format='eps', dpi=300)\n",
    "    #plt.show()\n",
    "\n"
   ]
  },
  {
   "cell_type": "code",
   "execution_count": null,
   "metadata": {
    "pycharm": {
     "name": "#%%\n"
    }
   },
   "outputs": [],
   "source": [
    "DataPath = \"/Volumes/Ramdya-Lab/DURRIEU_Matthias/Experimental_data/MultiSensory_Project/GatedArenas_Agar\"\n",
    "DataTest = pd.read_csv('/Volumes/Ramdya-Lab/DURRIEU_Matthias/Experimental_data/MultiSensory_Project/GatedArenas_Agar/220715/Trained_Agar/091847_s0a0_p0-0_RightRew/Trained_Agar_Starved_noWater_p0-0_80fps_Trimmed_tracked.csv')"
   ]
  },
  {
   "cell_type": "code",
   "execution_count": null,
   "metadata": {
    "pycharm": {
     "name": "#%%\n"
    }
   },
   "outputs": [],
   "source": [
    "DataTest"
   ]
  },
  {
   "cell_type": "code",
   "execution_count": null,
   "metadata": {
    "pycharm": {
     "name": "#%%\n"
    }
   },
   "outputs": [],
   "source": [
    "VisitsLeft_gate_Front = [[],\n",
    "                         []]\n",
    "\n",
    "timer=0\n",
    "\n",
    "for count, ypos in enumerate(DataTest.pos_y[(DataTest.pos_x<350) & (DataTest.pos_x>200)]) :\n",
    "    if (ypos < 500 and ypos > 300):\n",
    "        timer += 1\n",
    "        #frame = count + 3\n",
    "        #print (frame)\n",
    "    elif timer !=0 :\n",
    "        VisitsLeft_gate_Front[1].append(timer)\n",
    "        frame = count + 3 - timer\n",
    "        VisitsLeft_gate_Front[0].append(frame)\n",
    "        timer = 0\n",
    "\n",
    "VisitsLeft_gate_Front"
   ]
  },
  {
   "cell_type": "code",
   "execution_count": null,
   "metadata": {
    "pycharm": {
     "name": "#%%\n"
    }
   },
   "outputs": [],
   "source": [
    "VisitsLeft_gate = []\n",
    "\n",
    "timer=0\n",
    "\n",
    "for ypos in df.pos_y[df.pos_x<250] :\n",
    "    if (ypos < 400 and ypos > 250) or (ypos < 600 and ypos > 475) in df.pos_y:\n",
    "        timer += 1\n",
    "        #print (timer)\n",
    "    elif timer !=0 :\n",
    "        VisitsLeft_gate.append(timer)\n",
    "        timer = 0\n",
    "\n",
    "VisitsLeft_gate"
   ]
  },
  {
   "cell_type": "code",
   "execution_count": null,
   "metadata": {
    "pycharm": {
     "name": "#%%\n"
    }
   },
   "outputs": [],
   "source": [
    "VisuData = pd.read_csv('/Volumes/Ramdya-Lab/DURRIEU_Matthias/Experimental_data/MultiSensory_Project/GatedArenas_Agar/Results/DataSetTest.csv')"
   ]
  },
  {
   "cell_type": "code",
   "execution_count": null,
   "metadata": {
    "pycharm": {
     "name": "#%%\n"
    }
   },
   "outputs": [],
   "source": [
    "VisuData"
   ]
  },
  {
   "cell_type": "markdown",
   "metadata": {
    "pycharm": {
     "name": "#%% md\n"
    }
   },
   "source": [
    "# This Part is a test to check what my Visits and durations code is doing"
   ]
  },
  {
   "cell_type": "code",
   "execution_count": null,
   "metadata": {
    "pycharm": {
     "name": "#%%\n"
    }
   },
   "outputs": [],
   "source": [
    "DataTest = pd.read_csv('/Volumes/Ramdya-Lab/DURRIEU_Matthias/Experimental_data/MultiSensory_Project/GatedArenas_Agar/220715/Trained_Agar/091847_s0a0_p0-0_RightRew/Trained_Agar_Starved_noWater_p0-0_80fps_Trimmed_tracked.csv')"
   ]
  },
  {
   "cell_type": "code",
   "execution_count": null,
   "metadata": {
    "pycharm": {
     "name": "#%%\n"
    }
   },
   "outputs": [],
   "source": [
    "\n",
    "\n",
    "VisitsLeft_gate = [[],\n",
    "                    []]\n",
    "\n",
    "timer = 0\n",
    "\n",
    "for count, ypos in enumerate(DataTest.pos_y[DataTest.pos_x < 250]):\n",
    "    if (ypos < 400 and ypos > 250) or (ypos < 600 and ypos > 475) in DataTest.pos_y:\n",
    "        timer += 1\n",
    "        print(DataTest.frame.index)\n",
    "        # print (timer)\n",
    "    elif timer != 0:\n",
    "        VisitsLeft_gate[1].append(timer)\n",
    "        frame = count + 3 - timer\n",
    "        VisitsLeft_gate[0].append(frame)\n",
    "\n",
    "        timer = 0"
   ]
  },
  {
   "cell_type": "code",
   "execution_count": null,
   "metadata": {
    "pycharm": {
     "name": "#%%\n"
    }
   },
   "outputs": [],
   "source": [
    "VisitsLeft_gate = [[],\n",
    "                    []]\n",
    "\n",
    "timer = 0\n",
    "\n",
    "for frame, ypos in DataTest.pos_y[DataTest.pos_x < 250].iteritems():\n",
    "    if (ypos < 400 and ypos > 250) or (ypos < 600 and ypos > 475) in DataTest.pos_y:\n",
    "        timer += 1\n",
    "        print(frame)\n",
    "        # print (timer)\n",
    "    elif timer != 0:\n",
    "        VisitsLeft_gate[1].append(timer)\n",
    "        timestamp = frame - timer\n",
    "        VisitsLeft_gate[0].append(timestamp)\n",
    "\n",
    "        timer = 0"
   ]
  },
  {
   "cell_type": "code",
   "execution_count": null,
   "metadata": {
    "pycharm": {
     "name": "#%%\n"
    }
   },
   "outputs": [],
   "source": [
    "VisitsLeft_gate"
   ]
  },
  {
   "cell_type": "markdown",
   "metadata": {
    "pycharm": {
     "name": "#%% md\n"
    }
   },
   "source": [
    "# This part is to test solutions to find experiment date automatically"
   ]
  },
  {
   "cell_type": "code",
   "execution_count": null,
   "metadata": {
    "pycharm": {
     "name": "#%%\n"
    }
   },
   "outputs": [],
   "source": [
    "TestPath = '/Volumes/Ramdya-Lab/DURRIEU_Matthias/Experimental_data/MultiSensory_Project/GatedArenas_Agar'"
   ]
  },
  {
   "cell_type": "code",
   "execution_count": null,
   "metadata": {
    "pycharm": {
     "name": "#%%\n"
    }
   },
   "outputs": [],
   "source": [
    "from pathlib import Path\n",
    "\n",
    "import glob"
   ]
  },
  {
   "cell_type": "code",
   "execution_count": null,
   "metadata": {
    "pycharm": {
     "name": "#%%\n"
    }
   },
   "outputs": [],
   "source": [
    "Path(TestPath).is_dir('220406')"
   ]
  },
  {
   "cell_type": "code",
   "execution_count": null,
   "metadata": {
    "pycharm": {
     "name": "#%%\n"
    }
   },
   "outputs": [],
   "source": [
    "for dirpath, dirnames, filenames in os.walk(TestPath):\n",
    "    if \"Results\" in dirnames:\n",
    "        dirnames.remove(\"Results\")\n",
    "    for filename in [f for f in filenames if f.endswith(\".csv\")]:\n",
    "        if \"BadExp\" not in dirpath:\n",
    "            print(dirpath)"
   ]
  },
  {
   "cell_type": "code",
   "execution_count": null,
   "metadata": {
    "pycharm": {
     "name": "#%%\n"
    }
   },
   "outputs": [],
   "source": [
    "LibPath = Path('/Volumes/Ramdya-Lab/DURRIEU_Matthias/Experimental_data/MultiSensory_Project/GatedArenas_Agar')"
   ]
  },
  {
   "cell_type": "code",
   "execution_count": null,
   "metadata": {
    "pycharm": {
     "name": "#%%\n"
    }
   },
   "outputs": [],
   "source": [
    "filesurvey = []\n",
    "\n",
    "for row in os.walk(LibPath):\n",
    "\n",
    "    print('row 0 is:', row[0]) # row 0 is root : focal directory path\n",
    "    print('row 1 is:', row[1]) # row 1 is the list of directories in this focal directory\n",
    "    print('row 2 is:', row[2]) # row 2 is the list of files in this focal directory\n",
    "\n",
    "    for filename in row[2]:\n",
    "\n",
    "        full_path : Path = Path(row[0])/ Path(filename)\n",
    "        if filename.endswith('.csv'):\n",
    "            print (full_path)\n",
    "\n",
    "        filesurvey.append([LibPath, filename, full_path.stat().st_mtime, full_path.stat().st_size])\n"
   ]
  },
  {
   "cell_type": "code",
   "execution_count": null,
   "metadata": {
    "pycharm": {
     "name": "#%%\n"
    }
   },
   "outputs": [],
   "source": [
    "os.walk(LibPath)"
   ]
  },
  {
   "cell_type": "code",
   "execution_count": null,
   "metadata": {
    "pycharm": {
     "name": "#%%\n"
    }
   },
   "outputs": [],
   "source": [
    "Full = list(LibPath.glob('**/*.csv'))"
   ]
  },
  {
   "cell_type": "code",
   "execution_count": null,
   "metadata": {
    "pycharm": {
     "name": "#%%\n"
    }
   },
   "outputs": [],
   "source": [
    "list(LibPath.rglob('*.csv'))"
   ]
  },
  {
   "cell_type": "code",
   "execution_count": null,
   "metadata": {
    "pycharm": {
     "name": "#%%\n"
    }
   },
   "outputs": [],
   "source": [
    "noRest = list(item for item in Full if \"Results\" not in item)"
   ]
  },
  {
   "cell_type": "code",
   "execution_count": null,
   "metadata": {
    "pycharm": {
     "name": "#%%\n"
    }
   },
   "outputs": [],
   "source": [
    "Files2 = []\n",
    "\n",
    "Filters = ['Results', 'BadExp']\n",
    "\n",
    "for i in LibPath.rglob('*.csv'):\n",
    "    path = i\n",
    "    if any(match in path.as_posix() for match in Filters) == False:\n",
    "        Files2.append(path)"
   ]
  },
  {
   "cell_type": "code",
   "execution_count": null,
   "metadata": {
    "pycharm": {
     "name": "#%%\n"
    }
   },
   "outputs": [],
   "source": [
    "Files3 = [path for path in LibPath.rglob('*.csv') if any(match in path.as_posix() for match in Filters) == False]"
   ]
  },
  {
   "cell_type": "code",
   "execution_count": null,
   "metadata": {
    "pycharm": {
     "name": "#%%\n"
    }
   },
   "outputs": [],
   "source": [
    "Files3[1].parts"
   ]
  },
  {
   "cell_type": "code",
   "execution_count": null,
   "metadata": {
    "pycharm": {
     "name": "#%%\n"
    }
   },
   "outputs": [],
   "source": [
    "ExamplePath = Files3[1]"
   ]
  },
  {
   "cell_type": "code",
   "execution_count": null,
   "metadata": {
    "pycharm": {
     "name": "#%%\n"
    }
   },
   "outputs": [],
   "source": [
    "ExamplePath.parts"
   ]
  },
  {
   "cell_type": "code",
   "execution_count": null,
   "metadata": {
    "pycharm": {
     "name": "#%%\n"
    }
   },
   "outputs": [],
   "source": [
    "for part in ExamplePath.parts:\n",
    "    if part.isdecimal():\n",
    "        Date = part\n",
    "\n",
    "Date = [part for part in ExamplePath.parts if part.isdecimal()][0]\n"
   ]
  },
  {
   "cell_type": "code",
   "execution_count": null,
   "metadata": {
    "pycharm": {
     "name": "#%%\n"
    }
   },
   "outputs": [],
   "source": [
    "file = ExamplePath.name"
   ]
  },
  {
   "cell_type": "code",
   "execution_count": null,
   "metadata": {
    "pycharm": {
     "name": "#%%\n"
    }
   },
   "outputs": [],
   "source": [
    "for file in Files3:\n",
    "    print(file.name)"
   ]
  },
  {
   "cell_type": "code",
   "execution_count": null,
   "metadata": {
    "pycharm": {
     "name": "#%%\n"
    }
   },
   "outputs": [],
   "source": [
    "import pathlib\n",
    "from pathlib import Path"
   ]
  },
  {
   "cell_type": "code",
   "execution_count": null,
   "metadata": {
    "pycharm": {
     "name": "#%%\n"
    }
   },
   "outputs": [],
   "source": [
    "Vidpath = pathlib.PurePath(TestPath).joinpath('video'.mp4')\n",
    "Vidpath"
   ]
  },
  {
   "cell_type": "code",
   "execution_count": null,
   "metadata": {
    "pycharm": {
     "name": "#%%\n"
    }
   },
   "outputs": [],
   "source": [
    "Test2Path = Path('/Volumes/Ramdya-Lab/DURRIEU_Matthias/Experimental_data/Optogenetics/Optobot/Ctrl/Starved_Water_Agar/220406/105905_s0a0_p6-0/Ctrl_Starved_Water_Agar_p6-0_80fps.mp4')"
   ]
  },
  {
   "cell_type": "code",
   "execution_count": null,
   "metadata": {
    "pycharm": {
     "name": "#%%\n"
    }
   },
   "outputs": [],
   "source": [
    "Test2PathMod = Path(str(Test2Path).replace(Test2Path.stem, Test2Path.stem+\" Test\"))"
   ]
  },
  {
   "cell_type": "code",
   "execution_count": null,
   "metadata": {
    "pycharm": {
     "name": "#%%\n"
    }
   },
   "outputs": [],
   "source": [
    "Test2Path.joinpath('MyNewFile')"
   ]
  },
  {
   "cell_type": "code",
   "execution_count": null,
   "metadata": {
    "pycharm": {
     "name": "#%%\n"
    }
   },
   "outputs": [],
   "source": [
    "file = Path('/Users/ulric/Desktop/105905_s0a0_p6-0')\n",
    "\n",
    "file.joinpath( \"Background_Generator.mp4\").unlink()"
   ]
  },
  {
   "cell_type": "code",
   "execution_count": null,
   "metadata": {
    "pycharm": {
     "name": "#%%\n"
    }
   },
   "outputs": [],
   "source": [
    "Test2Path.with_suffix('.csv')"
   ]
  },
  {
   "cell_type": "code",
   "execution_count": null,
   "metadata": {
    "pycharm": {
     "name": "#%%\n"
    }
   },
   "outputs": [],
   "source": [
    "Test2Path.with_stem('ohlala')"
   ]
  },
  {
   "cell_type": "code",
   "execution_count": null,
   "metadata": {
    "pycharm": {
     "name": "#%%\n"
    }
   },
   "outputs": [],
   "source": [
    "Test2Path.with_stem(Test2Path.stem + 'ohlala')"
   ]
  }
 ],
 "metadata": {
  "kernelspec": {
   "display_name": "Python 3",
   "language": "python",
   "name": "python3"
  },
  "language_info": {
   "codemirror_mode": {
    "name": "ipython",
    "version": 2
   },
   "file_extension": ".py",
   "mimetype": "text/x-python",
   "name": "python",
   "nbconvert_exporter": "python",
   "pygments_lexer": "ipython2",
   "version": "2.7.6"
  }
 },
 "nbformat": 4,
 "nbformat_minor": 0
}
