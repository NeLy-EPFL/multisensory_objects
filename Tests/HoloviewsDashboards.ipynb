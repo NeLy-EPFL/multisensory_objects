{
 "cells": [
  {
   "cell_type": "code",
   "execution_count": null,
   "id": "0",
   "metadata": {
    "pycharm": {
     "name": "#%%\n"
    }
   },
   "outputs": [],
   "source": [
    "import pandas as pd\n",
    "import numpy as np\n",
    "import ast\n",
    "import iqplot\n",
    "import bokeh.layouts\n",
    "import bokeh.models\n",
    "import bokeh.plotting\n",
    "import holoviews as hv\n",
    "import panel as pn\n",
    "import colorcet\n",
    "\n",
    "from holoviews.operation.timeseries import rolling\n",
    "\n",
    "hv.extension('bokeh')\n",
    "notebook_url='localhost:8889'\n",
    "bokeh.io.output_notebook()"
   ]
  },
  {
   "cell_type": "code",
   "execution_count": null,
   "id": "1",
   "metadata": {
    "pycharm": {
     "name": "#%%\n"
    }
   },
   "outputs": [],
   "source": [
    "Data = pd.read_csv(\n",
    "    \"/Volumes/Ramdya-Lab/DURRIEU_Matthias/Experimental_data/MultiSensory_Project/GatedArenas/Results/DataSetNew.csv\"\n",
    ")\n",
    "\n",
    "\n",
    "\n",
    "ThreshSlider = pn.widgets.IntSlider(name='ThreshSlider', value=80, start=60, end=270, step=10)\n",
    "\n",
    "ThreshSlider"
   ]
  },
  {
   "cell_type": "code",
   "execution_count": null,
   "id": "2",
   "metadata": {},
   "outputs": [],
   "source": [
    "Data.head()"
   ]
  },
  {
   "cell_type": "code",
   "execution_count": null,
   "id": "3",
   "metadata": {
    "pycharm": {
     "name": "#%%\n"
    }
   },
   "outputs": [],
   "source": [
    "def slider_callback(ThreshSlider):\n",
    "    \n",
    "\n",
    "    for index, row in Data.iterrows():\n",
    "        # print(row['Durations Left Corner'])\n",
    "\n",
    "        # print (1 for i in row['Durations Left Corner'])\n",
    "        Data.loc[index, \"Peeks Left\"] = sum(\n",
    "            1 for i in ast.literal_eval(row[\"Durations Left Corner\"]) if i > ThreshSlider\n",
    "        )\n",
    "        # Data_noWater_Simple['Peeks Left'][rows]= sum(1 for i in Data['Durations Left Corner'][rows] if i > param)\n",
    "    #print(Data['Peeks Left'])\n",
    "    box = hv.BoxWhisker(data=Data,\n",
    "                    kdims=\"Training\",\n",
    "                    vdims=\"Peeks Left\").opts(framewise=True,\n",
    "                                            ylim=(0, 40),\n",
    "                                            box_fill_alpha=0,\n",
    "                                            invert_axes=True,\n",
    "                                            invert_yaxis=True,\n",
    "                                            #box_line_color=\"gray\",\n",
    "                                            )\n",
    "    points = hv.Scatter(data=Data,\n",
    "                    kdims=\"Training\",\n",
    "                    vdims=\"Peeks Left\").opts(framewise=True,\n",
    "                                             cmap=colorcet.b_glasbey_category10,\n",
    "                                             invert_axes=True,\n",
    "                                            invert_yaxis=True,\n",
    "                                            ylim=(0, 40),\n",
    "                                            color=\"Training\",\n",
    "                                            jitter=0.4,\n",
    "                                            )\n",
    "    \n",
    "    \n",
    "    return box * points\n",
    "\n",
    "dmap = hv.DynamicMap(pn.bind(slider_callback, ThreshSlider=ThreshSlider))\n",
    "#dmap = hv.DynamicMap(slider_callback)\n",
    "\n",
    "app = pn.Row(pn.WidgetBox('## Threshold Explorer', ThreshSlider), \n",
    "             dmap.opts(width=500, \n",
    "                       framewise=True,\n",
    "                      )).servable()\n",
    "app"
   ]
  },
  {
   "cell_type": "code",
   "execution_count": null,
   "id": "4",
   "metadata": {
    "pycharm": {
     "name": "#%%\n"
    }
   },
   "outputs": [],
   "source": [
    "iqplot.stripbox(data=df, q=\"mpg\", cats=\"origin\", title=\"strip-box\")"
   ]
  },
  {
   "cell_type": "code",
   "execution_count": null,
   "id": "5",
   "metadata": {
    "pycharm": {
     "name": "#%%\n"
    }
   },
   "outputs": [],
   "source": [
    "def slider_callback(ThreshSlider):\n",
    "    \n",
    "\n",
    "    for index, row in Data.iterrows():\n",
    "        # print(row['Durations Left Corner'])\n",
    "\n",
    "        # print (1 for i in row['Durations Left Corner'])\n",
    "        Data.loc[index, \"Peeks Left\"] = sum(\n",
    "            1 for i in ast.literal_eval(row[\"Durations Left Corner\"]) if i > ThreshSlider\n",
    "        )\n",
    "        # Data_noWater_Simple['Peeks Left'][rows]= sum(1 for i in Data['Durations Left Corner'][rows] if i > param)\n",
    "    #print(Data['Peeks Left'])\n",
    "    \n",
    "    return iqplot.stripbox(data=Data,\n",
    "                           q='Peeks Left',\n",
    "                           cats='Training').opts(framewise=True)\n",
    "\n",
    "dmap = hv.DynamicMap(pn.bind(slider_callback, ThreshSlider=ThreshSlider))\n",
    "#dmap = hv.DynamicMap(slider_callback)\n",
    "\n",
    "app = pn.Row(pn.WidgetBox('## Threshold Explorer', ThreshSlider), \n",
    "             dmap.opts(width=500, \n",
    "                       framewise=True,\n",
    "                      )).servable()\n",
    "app"
   ]
  },
  {
   "cell_type": "code",
   "execution_count": null,
   "id": "6",
   "metadata": {
    "pycharm": {
     "name": "#%%\n"
    }
   },
   "outputs": [],
   "source": [
    "# Prep dataset from data\n",
    "Melted = pd.melt(\n",
    "    Data,\n",
    "    id_vars=[\"Training\", \"ObjectsReinforced\", \"Reinforced_side\", \"Date\", \"Fly\"],\n",
    "    value_name=\"Durations\",\n",
    "    value_vars=[\n",
    "\n",
    "        \"Durations Left Corner\",\n",
    "\n",
    "        \"Durations Right Corner\",\n",
    "\n",
    "        \"Durations Top Corner\",\n",
    "\n",
    "        \"Durations Left Front\",\n",
    "\n",
    "        \"Durations Right Front\",\n",
    "\n",
    "        \"Durations Top Front\",\n",
    "    ],\n",
    "    var_name=\"Variable\",\n",
    ")\n",
    "\n",
    "\n",
    "conditions = [\n",
    "    (\n",
    "        Melted[\"Reinforced_side\"].str.contains(\"Right\")\n",
    "        & (Melted[\"Variable\"].str.contains(\"Right\")\n",
    "    )\n",
    "    ),\n",
    "    (\n",
    "        Melted[\"Reinforced_side\"].str.contains(\"Left\")\n",
    "        & (Melted[\"Variable\"].str.contains(\"Left\")\n",
    "    )\n",
    "    ),\n",
    "    (\n",
    "        Melted[\"Reinforced_side\"].str.contains(\"Right\")\n",
    "        & (Melted[\"Variable\"].str.contains(\"Left\")\n",
    "    )\n",
    "    ),\n",
    "    (\n",
    "        Melted[\"Reinforced_side\"].str.contains(\"Left\")\n",
    "        & (Melted[\"Variable\"].str.contains(\"Right\")\n",
    "     )\n",
    "    ),\n",
    "    (Melted[\"Variable\"].str.contains(\"Top\")\n",
    "     ),\n",
    "\n",
    "]\n",
    "\n",
    "values = [\n",
    "    \"Rewarded Side\",\n",
    "    \"Rewarded Side\",\n",
    "    \"Punished Side\",\n",
    "    \"Punished Side\",\n",
    "    \"Empty Side\",\n",
    "]\n",
    "Melted[\"Condition\"] = np.select(conditions, values)\n",
    "\n",
    "conditions = [\n",
    "    (\n",
    "            (Melted[\"Variable\"].str.contains(\"Corner\"))\n",
    "    ),\n",
    "    (\n",
    "            (Melted[\"Variable\"].str.contains(\"Front\")))\n",
    "\n",
    "]\n",
    "values = [\n",
    "    \"Corner\",\n",
    "    \"Front\",\n",
    "]\n",
    "Melted[\"Location\"] = np.select(conditions, values)\n",
    "\n",
    "ThreshSlider = pn.widgets.IntSlider(name='ThreshSlider', value=80, start=60, end=270, step=10)\n",
    "\n",
    "Condis = list(Melted['Condition'].unique())\n",
    "Condis.append('All')\n",
    "\n",
    "Condition = pn.widgets.RadioButtonGroup(options=Condis)\n",
    "\n",
    "Locs = list(Melted['Location'].unique())\n",
    "Locs.append('All')\n",
    "\n",
    "Location = pn.widgets.Select(options=Locs) \n",
    "\n",
    "Dates = list(Melted[\"Date\"].unique())\n",
    "Dates.insert(0, \"All\")\n",
    "\n",
    "Date = pn.widgets.Select(options=Dates)\n",
    "\n",
    "def slider_callback(Condition, Location, ThreshSlider):\n",
    "    \n",
    "    if ((Condition == \"All\") & (Location == \"All\")):\n",
    "        Subset = Melted\n",
    "        \n",
    "    elif ((Condition == \"All\") & (Location != \"All\")):\n",
    "        Subset = Melted[(Melted[\"Location\"] == Location)]\n",
    "            \n",
    "    elif ((Condition != \"All\") & (Location == \"All\")):\n",
    "        Subset = Melted[(Melted[\"Condition\"] == Condition)]\n",
    "    elif ((Condition != \"All\") & (Location != \"All\")): \n",
    "        Subset = Melted[(Melted[\"Condition\"] == Condition) & (Melted[\"Location\"] == Location)]\n",
    "    \n",
    "    \n",
    "    for index, row in Subset.iterrows():\n",
    "        # print(row['Durations Left Corner'])\n",
    "\n",
    "        # print (1 for i in row['Durations Left Corner'])\n",
    "        Subset.loc[index, \"Peeks\"] = sum(\n",
    "            1 for i in ast.literal_eval(row[\"Durations\"]) if i > ThreshSlider\n",
    "        )\n",
    "        # Data_noWater_Simple['Peeks Left'][rows]= sum(1 for i in Data['Durations Left Corner'][rows] if i > param)\n",
    "    # print(Data['Peeks Left'])\n",
    "    box = hv.BoxWhisker(data=Subset,\n",
    "                        kdims=['Training'],\n",
    "                        vdims=[\"Peeks\"]).opts(framewise=True,\n",
    "                                                 ylim=(0, 40),\n",
    "                                                 box_fill_alpha=0,\n",
    "                                                 invert_axes=True,\n",
    "                                                 invert_yaxis=True,\n",
    "\n",
    "                                                 # box_line_color=\"gray\",\n",
    "                                                 )\n",
    "    points = hv.Scatter(data=Subset,\n",
    "                        kdims=['Training'],\n",
    "                        vdims=[\"Peeks\"]).opts(framewise=True,\n",
    "                                                 cmap=colorcet.b_glasbey_category10,\n",
    "                                                 invert_axes=True,\n",
    "                                                 invert_yaxis=True,\n",
    "                                                 ylim=(0, 40),\n",
    "                                                 color=\"Training\",\n",
    "                                                 jitter=0.4,\n",
    "                                                 size=6,\n",
    "                                                 alpha=0.5,\n",
    "                                                 tools=['hover'],\n",
    "                                                 )\n",
    "\n",
    "    return box * points\n",
    "\n",
    "\n",
    "dmap = hv.DynamicMap(pn.bind(slider_callback,Condition=Condition,Location=Location , ThreshSlider=ThreshSlider))\n",
    "# dmap = hv.DynamicMap(slider_callback)\n",
    "\n",
    "app = pn.Row(pn.WidgetBox('## Threshold Explorer', ThreshSlider, Condition, Location),\n",
    "             pn.Spacer(width=50),\n",
    "             dmap.opts(width=500,\n",
    "                       framewise=True,\n",
    "                       )).servable()\n",
    "\n",
    "app\n",
    "\n",
    "#pn.serve(app)\n"
   ]
  },
  {
   "cell_type": "code",
   "execution_count": null,
   "id": "7",
   "metadata": {},
   "outputs": [],
   "source": [
    "Condis = list(Melted[\"Condition\"].unique())\n",
    "Condis.append(\"All\")\n",
    "\n",
    "Condition = pn.widgets.RadioButtonGroup(options=Condis,\n",
    "                                        #margin=25,\n",
    "                                        width=150,\n",
    "                                        )\n",
    "\n",
    "Condition"
   ]
  },
  {
   "cell_type": "code",
   "execution_count": null,
   "id": "8",
   "metadata": {},
   "outputs": [],
   "source": [
    "Melted.head()"
   ]
  },
  {
   "cell_type": "code",
   "execution_count": null,
   "id": "9",
   "metadata": {},
   "outputs": [],
   "source": [
    "list(Condis)"
   ]
  },
  {
   "cell_type": "code",
   "execution_count": null,
   "id": "10",
   "metadata": {},
   "outputs": [],
   "source": [
    "Locs.append(\"All\")\n",
    "Locs"
   ]
  }
 ],
 "metadata": {
  "kernelspec": {
   "display_name": "python (TrackingAnalysis)",
   "language": "python",
   "name": "trackinganalysis"
  },
  "language_info": {
   "codemirror_mode": {
    "name": "ipython",
    "version": 3
   },
   "file_extension": ".py",
   "mimetype": "text/x-python",
   "name": "python",
   "nbconvert_exporter": "python",
   "pygments_lexer": "ipython3",
   "version": "3.10.4"
  }
 },
 "nbformat": 4,
 "nbformat_minor": 5
}
