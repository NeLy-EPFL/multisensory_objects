{
 "cells": [
  {
   "cell_type": "code",
   "execution_count": null,
   "metadata": {},
   "outputs": [],
   "source": [
    "import matplotlib.pyplot as plt\n",
    "import matplotlib.patches as patches\n",
    "import numpy as np\n",
    "import pandas as pd\n",
    "import os\n",
    "from os import listdir\n",
    "from os.path import isfile, join\n",
    "import cv2\n",
    "\n",
    "import numpy as np"
   ]
  },
  {
   "cell_type": "code",
   "execution_count": null,
   "metadata": {},
   "outputs": [],
   "source": [
    "filepath = '/Volumes/Universal_HD/VideoAnalysis/GatedArenas/Results/Csvs/All/'\n",
    "#outpath =\n",
    "File = 'Ctrl_Starved_noWater_4.csv'\n",
    "\n",
    "df = pd.read_csv(filepath+File)\n",
    "df.head()"
   ]
  },
  {
   "cell_type": "code",
   "execution_count": null,
   "metadata": {},
   "outputs": [],
   "source": [
    "VisitsLeft = []\n",
    "\n",
    "timeleft=0\n",
    "for xpos in df.pos_x :\n",
    "    #print(xpos)\n",
    "\n",
    "    if xpos < 350 :\n",
    "        timeleft += 1\n",
    "        print (timeleft)\n",
    "    elif timeleft !=0 :\n",
    "        VisitsLeft.append(timeleft)\n",
    "        timeleft = 0"
   ]
  },
  {
   "cell_type": "code",
   "execution_count": null,
   "metadata": {},
   "outputs": [],
   "source": [
    "VisitsLeft"
   ]
  },
  {
   "cell_type": "code",
   "execution_count": null,
   "metadata": {},
   "outputs": [],
   "source": [
    "df.pos_x [df.pos_x < 250]"
   ]
  },
  {
   "cell_type": "code",
   "execution_count": null,
   "metadata": {},
   "outputs": [],
   "source": [
    "VisitsLeft_gate = []\n",
    "\n",
    "timer=0\n",
    "chrono = -1\n",
    "for xpos in df.pos_x :\n",
    "    chrono += 1\n",
    "    if xpos < 250 :\n",
    "\n",
    "        if ypos[chrono] < 450 and ypos[chrono] > 250 in df.pos_y:\n",
    "                timer += 1\n",
    "                print (timer)\n",
    "        elif timer !=0 :\n",
    "                VisitsLeft_gate.append(timer)\n",
    "                timer = 0"
   ]
  },
  {
   "cell_type": "code",
   "execution_count": null,
   "metadata": {},
   "outputs": [],
   "source": [
    "VisitsLeft_gate = []\n",
    "\n",
    "timer=0\n",
    "chrono = -1\n",
    "for ypos in df.pos_y[df.pos_x<250] :\n",
    "    if ypos < 450 and ypos > 250 in df.pos_y:\n",
    "        timer += 1\n",
    "        print (timer)\n",
    "    elif timer !=0 :\n",
    "        VisitsLeft_gate.append(timer)\n",
    "        timer = 0"
   ]
  },
  {
   "cell_type": "code",
   "execution_count": null,
   "metadata": {},
   "outputs": [],
   "source": [
    "VisitsLeft_gate"
   ]
  },
  {
   "cell_type": "code",
   "execution_count": null,
   "metadata": {},
   "outputs": [],
   "source": [
    "test=df.pos_y[(df.pos_x<250) & (df.pos_y<450) & (df.pos_y > 250)]"
   ]
  },
  {
   "cell_type": "code",
   "execution_count": null,
   "metadata": {},
   "outputs": [],
   "source": [
    "test"
   ]
  },
  {
   "cell_type": "code",
   "execution_count": null,
   "metadata": {},
   "outputs": [],
   "source": [
    "test.count().head(1)[0]"
   ]
  },
  {
   "cell_type": "code",
   "execution_count": null,
   "metadata": {},
   "outputs": [],
   "source": [
    "test2 = df[(df.pos_x<250) & (df.pos_y<450) & (df.pos_y > 250)]"
   ]
  },
  {
   "cell_type": "code",
   "execution_count": null,
   "metadata": {},
   "outputs": [],
   "source": [
    "test2.count().head(1)[0]"
   ]
  },
  {
   "cell_type": "code",
   "execution_count": null,
   "metadata": {},
   "outputs": [],
   "source": [
    "VisitsLeft_gate = []\n",
    "\n",
    "timer=0\n",
    "\n",
    "for ypos in df.pos_y[df.pos_x<250] :\n",
    "    if (ypos < 400 and ypos > 250) or (ypos < 600 and ypos > 475) in df.pos_y:\n",
    "        timer += 1\n",
    "        #print (timer)\n",
    "    elif timer !=0 :\n",
    "        VisitsLeft_gate.append(timer)\n",
    "        timer = 0\n",
    "\n",
    "VisitsRight_gate = []\n",
    "\n",
    "timer=0\n",
    "\n",
    "for ypos in df.pos_y[df.pos_x>575] :\n",
    "    if (ypos < 400 and ypos > 250) or (ypos < 600 and ypos > 475) in df.pos_y:\n",
    "        timer += 1\n",
    "        #print (timer)\n",
    "    elif timer !=0 :\n",
    "        VisitsRight_gate.append(timer)\n",
    "        timer = 0\n",
    "\n",
    "VisitsTop_gate = []\n",
    "\n",
    "timer=0\n",
    "\n",
    "for xpos in df.pos_x[df.pos_y<275] :\n",
    "    if (xpos < 350 and xpos > 250) or (xpos < 600 and xpos > 500) in df.pos_x:\n",
    "        timer += 1\n",
    "        #print (timer)\n",
    "    elif timer !=0 :\n",
    "        VisitsTop_gate.append(timer)\n",
    "        timer = 0\n",
    "\n",
    "Peeks_Left = sum(1 for i in VisitsLeft_gate if i > 160)\n",
    "Peeks_Right = sum(1 for i in VisitsRight_gate if i > 160)\n",
    "Peeks_Top = sum(1 for i in VisitsTop_gate if i > 160)\n",
    "LongPeeks_Left = sum(1 for i in VisitsLeft_gate if i > 320)\n",
    "LongPeeks_Right = sum(1 for i in VisitsRight_gate if i > 320)\n",
    "LongPeeks_Top = sum(1 for i in VisitsTop_gate if i > 320)"
   ]
  },
  {
   "cell_type": "code",
   "execution_count": null,
   "metadata": {},
   "outputs": [],
   "source": [
    "### Moving on to object location detection in background arena"
   ]
  },
  {
   "cell_type": "code",
   "execution_count": null,
   "metadata": {},
   "outputs": [],
   "source": [
    "BackG = cv2.imread('/Volumes/Universal_HD/VideoAnalysis/SingleObject/Ctrl_Agar/Starved_noWater_OrangeOnly/220421/104154_s0a0_p6-0/Background.jpg')"
   ]
  },
  {
   "cell_type": "code",
   "execution_count": null,
   "metadata": {},
   "outputs": [],
   "source": [
    "plt.imshow(BackG)"
   ]
  },
  {
   "cell_type": "code",
   "execution_count": null,
   "metadata": {},
   "outputs": [],
   "source": [
    "BackG [[[1]]]"
   ]
  },
  {
   "cell_type": "code",
   "execution_count": null,
   "metadata": {},
   "outputs": [],
   "source": [
    "gray = cv2.cvtColor(BackG, cv2.COLOR_BGR2GRAY)"
   ]
  },
  {
   "cell_type": "code",
   "execution_count": null,
   "metadata": {},
   "outputs": [],
   "source": [
    "plt.imshow(gray)"
   ]
  },
  {
   "cell_type": "code",
   "execution_count": null,
   "metadata": {},
   "outputs": [],
   "source": [
    "plt.imshow(gray)\n",
    "\n",
    "# Create figure and axes\n",
    "fig, ax = plt.subplots(1)\n",
    "\n",
    "# Display the image\n",
    "ax.imshow(gray)\n",
    "\n",
    "# Create a Rectangle patch\n",
    "rect = patches.Rectangle((25,350),150,150, edgecolor='r', facecolor=\"none\")\n",
    "\n",
    "# Add the patch to the Axes\n",
    "ax.add_patch(rect)\n",
    "plt.show()\n",
    "#plt.imshow(gray)\n",
    "#plt.ax.add_patch(rect)\n"
   ]
  }
 ],
 "metadata": {
  "kernelspec": {
   "display_name": "Python 3",
   "language": "python",
   "name": "python3"
  },
  "language_info": {
   "codemirror_mode": {
    "name": "ipython",
    "version": 2
   },
   "file_extension": ".py",
   "mimetype": "text/x-python",
   "name": "python",
   "nbconvert_exporter": "python",
   "pygments_lexer": "ipython2",
   "version": "2.7.6"
  }
 },
 "nbformat": 4,
 "nbformat_minor": 0
}
