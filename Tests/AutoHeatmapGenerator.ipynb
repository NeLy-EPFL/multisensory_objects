{
 "cells": [
  {
   "cell_type": "code",
   "execution_count": null,
   "metadata": {
    "pycharm": {
     "name": "#%%\n"
    }
   },
   "outputs": [],
   "source": [
    "import matplotlib.pyplot as plt\n",
    "import pandas as pd\n",
    "import os\n",
    "from os import listdir\n",
    "from os.path import isfile, join\n",
    "import os.path\n",
    "import numpy as np\n",
    "import matplotlib as mpl\n",
    "from os import walk\n",
    "import cv2\n",
    "from pathlib import Path\n",
    "\n",
    "import seaborn as sns"
   ]
  },
  {
   "cell_type": "code",
   "execution_count": null,
   "metadata": {
    "pycharm": {
     "name": "#%%\n"
    }
   },
   "outputs": [],
   "source": [
    "TestPath = Path( \"C:\\\\Users\\\\matth\\\\OneDrive\\\\Bureau\\\\Test\")\n",
    "\n",
    "list(TestPath.rglob(\"*.mp4\"))"
   ]
  },
  {
   "cell_type": "code",
   "execution_count": null,
   "metadata": {
    "pycharm": {
     "name": "#%%\n"
    }
   },
   "outputs": [],
   "source": [
    "DataPath = Path(\n",
    "    \"Z:\\DURRIEU_Matthias\\Experimental_data\\MultiSensory_Project\\GatedArenas_Agar\"\n",
    ")\n",
    "print(DataPath.as_posix())\n",
    "\n",
    "list(DataPath.rglob(\"*.csv\"))"
   ]
  },
  {
   "cell_type": "code",
   "execution_count": null,
   "metadata": {
    "pycharm": {
     "name": "#%%\n"
    }
   },
   "outputs": [],
   "source": [
    "\n",
    "DataPath = Path(\n",
    "    \"Z:\\DURRIEU_Matthias\\Experimental_data\\MultiSensory_Project\\GatedArenas_Agar\"\n",
    ")\n",
    "\n",
    "\n",
    "Filters = [\"Results\", \"BadExp\",]\n",
    "\n",
    "Files = [\n",
    "    path\n",
    "    for path in DataPath.rglob(\"*.csv\")\n",
    "    if any(match in path.as_posix() for match in Filters) is False\n",
    "]\n",
    "\n",
    "for file in Files:\n",
    "    print(file.as_posix())\n",
    "\n",
    "# Os based option (outdated)\n",
    "#DataPath = \"/Volumes/Ramdya-Lab/DURRIEU_Matthias/Experimental_data/MultiSensory_Project/GatedArenas_Agar\"\n",
    "\n",
    "#for dirpath, dirnames, filenames in os.walk(DataPath):\n",
    " #   if 'Results' in dirnames:\n",
    " #       dirnames.remove('Results')\n",
    "  #  for filename in [f for f in filenames if f.endswith(\".csv\")]:\n",
    "   #     print (os.path.join(dirpath, filename))"
   ]
  },
  {
   "cell_type": "code",
   "execution_count": null,
   "metadata": {
    "pycharm": {
     "name": "#%%\n"
    }
   },
   "outputs": [],
   "source": [
    "for dirpath, dirnames, filenames in os.walk(DataPath):\n",
    "    if 'Results' in dirnames:\n",
    "        dirnames.remove('Results')\n",
    "    for filename in [f for f in filenames if f.endswith(\".csv\")]:\n",
    "        print (dirpath)"
   ]
  },
  {
   "cell_type": "code",
   "execution_count": null,
   "metadata": {
    "pycharm": {
     "name": "#%%\n"
    }
   },
   "outputs": [],
   "source": [
    "Outpath =Path( \"Z:\\DURRIEU_Matthias\\Experimental_data\\MultiSensory_Project\\GatedArenas_Agar\\Results\\Heatmaps\")\n",
    "n=0\n",
    "Filters = [\"Results\", \"BadExp\",]\n",
    "\n",
    "Files = [\n",
    "    path\n",
    "    for path in DataPath.rglob(\"*.csv\")\n",
    "    if any(match in path.as_posix() for match in Filters) is False\n",
    "]\n",
    "\n",
    "for file in Files:\n",
    "    print(file.as_posix())\n",
    "\n",
    "\n",
    "    df = pd.read_csv(file.as_posix())\n",
    "    Background = cv2.imread((file.parent.joinpath(\"Background.jpg\")).as_posix())\n",
    "\n",
    "    Cond = 'Control' if 'Ctrl' in file.as_posix() else 'Trained'\n",
    "    Starvation = 'Starved with water' if 'Starved_Water' in file.as_posix() else 'Starved without water'\n",
    "    Color= 'Orange' if 'OrangeOnly' in file.as_posix() else 'Blue'\n",
    "\n",
    "\n",
    "\n",
    "    #plt.figure(figsize=(5, 5))\n",
    "    #plt.scatter(df['pos_x'], df['pos_y'], c=df['frame'], alpha=0.2)\n",
    "    #plt.xlabel('X', fontsize=16)\n",
    "    #plt.ylabel('Y', fontsize=16)\n",
    "    #plt.title(Cond+\"_\"+Starvation, fontsize=24)\n",
    "    #plt.xlim(0,832)\n",
    "    #plt.ylim(0,832)\n",
    "    #plt.gca().invert_yaxis()\n",
    "    #plt.tight_layout()\n",
    "\n",
    "    #plt.savefig(path + 'figs/trajectory.eps', format='eps', dpi=300)\n",
    "    #plt.imshow(Background)\n",
    "\n",
    "    plt.figure(figsize=(5, 5))\n",
    "    plt.hist2d(df['pos_x'], df['pos_y'],\n",
    "               bins=30,\n",
    "               norm=mpl.colors.LogNorm(),\n",
    "               cmap=mpl.cm.viridis,\n",
    "               range= np.array([(0,832), (0,832)]),\n",
    "               #alpha=0.7\n",
    "               )\n",
    "    plt.title(Cond+\"_\"+Starvation+Color, fontsize=24)\n",
    "    plt.xlabel('X', fontsize=16)\n",
    "    plt.ylabel('Y', fontsize=16)\n",
    "    #plt.colorbar()\n",
    "\n",
    "    plt.gca().invert_yaxis()\n",
    "\n",
    "    plt.tight_layout()\n",
    "\n",
    "\n",
    "    plt.imshow(Background)\n",
    "    n+=1\n",
    "    PlotName = Cond+\"_\"+Starvation+\"_\"+Color+'_'+str(n)+'.jpg'\n",
    "    plt.savefig(Outpath.as_posix()+ PlotName, format='jpg', dpi=300)\n"
   ]
  },
  {
   "cell_type": "code",
   "execution_count": null,
   "metadata": {
    "pycharm": {
     "name": "#%%\n"
    }
   },
   "outputs": [],
   "source": [
    "plt.figure(figsize =(15,12) )\n",
    "plt.subplots_adjust(hspace=0.5)\n",
    "plt.suptitle(\"Gated arenas position heatmaps\")\n",
    "n=0\n",
    "\n",
    "for dirpath, dirnames, filenames in os.walk(DataPath):\n",
    "    if 'Results' in dirnames:\n",
    "        dirnames.remove('Results')\n",
    "    for filename in [f for f in filenames if f.endswith(\".csv\")]:\n",
    "        print (os.path.join(dirpath, filename))\n",
    "        path = os.path.join(dirpath, filename)\n",
    "        df = pd.read_csv(path)\n",
    "        Background = cv2.imread(dirpath+'/Background.jpg')\n",
    "\n",
    "        Cond = 'Control' if 'Ctrl' in dirpath else 'Trained'\n",
    "        Starvation = 'Starved with water' if 'Starved_Water' in dirpath else 'Starved without water'\n",
    "\n",
    "\n",
    "        plt.subplot(8,4, n+1)\n",
    "        plt.hist2d(df['pos_x'], df['pos_y'],\n",
    "                   bins=30,\n",
    "                   norm=mpl.colors.LogNorm(),\n",
    "                   cmap=mpl.cm.viridis,\n",
    "                   range= np.array([(0,832), (0,832)]),\n",
    "                   #alpha=0.7\n",
    "                   )\n",
    "        plt.title(Cond+\"_\"+Starvation, fontsize=24)\n",
    "        plt.xlabel('X', fontsize=16)\n",
    "        plt.ylabel('Y', fontsize=16)\n",
    "        #plt.colorbar()\n",
    "\n",
    "        plt.gca().invert_yaxis()\n",
    "\n",
    "        plt.tight_layout()\n",
    "\n",
    "\n",
    "        plt.imshow(Background)"
   ]
  }
 ],
 "metadata": {
  "kernelspec": {
   "display_name": "Python 3",
   "language": "python",
   "name": "python3"
  },
  "language_info": {
   "codemirror_mode": {
    "name": "ipython",
    "version": 2
   },
   "file_extension": ".py",
   "mimetype": "text/x-python",
   "name": "python",
   "nbconvert_exporter": "python",
   "pygments_lexer": "ipython2",
   "version": "2.7.6"
  }
 },
 "nbformat": 4,
 "nbformat_minor": 0
}
