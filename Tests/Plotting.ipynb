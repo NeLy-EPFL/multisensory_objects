{
 "cells": [
  {
   "cell_type": "code",
   "execution_count": null,
   "metadata": {
    "pycharm": {
     "name": "#%%\n"
    }
   },
   "outputs": [],
   "source": [
    "import pandas as pd\n",
    "import seaborn as sns\n",
    "import matplotlib.pyplot as plt\n",
    "import scipy\n",
    "import numpy as np\n",
    "import ast\n",
    "\n",
    "import iqplot\n",
    "\n",
    "import bokeh.io\n",
    "import bokeh.models\n",
    "import bokeh.plotting\n",
    "\n",
    "bokeh.io.output_notebook()"
   ]
  },
  {
   "cell_type": "code",
   "execution_count": null,
   "metadata": {
    "pycharm": {
     "name": "#%%\n"
    }
   },
   "outputs": [],
   "source": [
    "import os\n",
    "print(os.environ['CONDA_DEFAULT_ENV'])"
   ]
  },
  {
   "cell_type": "code",
   "execution_count": null,
   "metadata": {
    "pycharm": {
     "name": "#%%\n"
    }
   },
   "outputs": [],
   "source": [
    "Data = pd.read_csv('/Users/ulric/Desktop/Gated_arenas_Beh_manual_All.csv')\n",
    "Data.head()"
   ]
  },
  {
   "cell_type": "code",
   "execution_count": null,
   "metadata": {
    "pycharm": {
     "name": "#%%\n"
    }
   },
   "outputs": [],
   "source": [
    "Data = Data.explode('Gate') # wtf\n",
    "Data['Gate'] = Data['Gate'].astype('string')\n",
    "Data = Data.explode('Count') # wtf\n",
    "Data['Count'] = Data['Count'].astype('float')\n"
   ]
  },
  {
   "cell_type": "code",
   "execution_count": null,
   "metadata": {
    "pycharm": {
     "name": "#%%\n"
    }
   },
   "outputs": [],
   "source": [
    "sns.boxplot(x=Data.Behaviour, y = Data.Count, hue=Data.Training)\n",
    "sns.stripplot(x=Data.Behaviour, y = Data.Count, hue=Data.Training, dodge=True)\n",
    "#sns.catplot(x=Data.Behaviour, y = Data.Count,\n",
    "        #    hue=Data.Training,\n",
    "         #   col=Data.Gate)\n",
    "plt.show"
   ]
  },
  {
   "cell_type": "code",
   "execution_count": null,
   "metadata": {
    "pycharm": {
     "name": "#%%\n"
    }
   },
   "outputs": [],
   "source": [
    "g=sns.catplot(x='Behaviour', y = 'Count',\n",
    "            hue='Training', showfliers = False,\n",
    "            col='Gate', kind=\"box\",\n",
    "            data= Data)\n",
    "g.map_dataframe(sns.stripplot,x='Behaviour', y = 'Count',\n",
    "            hue='Training', dodge=True,\n",
    "            palette=[\"#404040\"])\n",
    "plt.show"
   ]
  },
  {
   "cell_type": "code",
   "execution_count": null,
   "metadata": {
    "pycharm": {
     "name": "#%%\n"
    }
   },
   "outputs": [],
   "source": [
    "g=sns.catplot(x='Behaviour', y = 'Count',\n",
    "            hue='Training', showfliers = False,\n",
    "            col='Gate', kind=\"box\", row='Test',\n",
    "            data= Data)\n",
    "g.map_dataframe(sns.stripplot,x='Behaviour', y = 'Count',\n",
    "            hue='Training', dodge=True,\n",
    "            palette=[\"#404040\"])\n",
    "plt.show\n",
    "\n",
    "plt.savefig('/Volumes/Universal_HD/VideoAnalysis/GatedArenas/Plots/Estimates/ManualPlot.png')"
   ]
  },
  {
   "cell_type": "code",
   "execution_count": null,
   "metadata": {
    "pycharm": {
     "name": "#%%\n"
    }
   },
   "outputs": [],
   "source": [
    "g=sns.catplot(x='Behaviour', y = 'Count',\n",
    "            hue='Training', showfliers = False,\n",
    "            cut=0,\n",
    "            col='Gate', kind=\"violin\",\n",
    "            data= Data)\n",
    "g.map_dataframe(sns.stripplot,x='Behaviour', y = 'Count',\n",
    "            hue='Training', dodge=True,\n",
    "            palette=[\"#404040\"])\n",
    "plt.show"
   ]
  },
  {
   "cell_type": "code",
   "execution_count": null,
   "metadata": {
    "pycharm": {
     "name": "#%%\n"
    }
   },
   "outputs": [],
   "source": [
    "Peekings = Data[Data.Behaviour == 'Peeking']"
   ]
  },
  {
   "cell_type": "code",
   "execution_count": null,
   "metadata": {
    "pycharm": {
     "name": "#%%\n"
    }
   },
   "outputs": [],
   "source": [
    "Peekings"
   ]
  },
  {
   "cell_type": "code",
   "execution_count": null,
   "metadata": {
    "pycharm": {
     "name": "#%%\n"
    }
   },
   "outputs": [],
   "source": [
    "Peekings_Left = Peekings[Data.Gate == 'Left']\n",
    "\n",
    "Peekings_Left_Ctrl = Peekings_Left[Data.Training == 'Ctrl']"
   ]
  },
  {
   "cell_type": "code",
   "execution_count": null,
   "metadata": {
    "pycharm": {
     "name": "#%%\n"
    }
   },
   "outputs": [],
   "source": [
    "Peekings_Left_Ctrl"
   ]
  },
  {
   "cell_type": "code",
   "execution_count": null,
   "metadata": {
    "pycharm": {
     "name": "#%%\n"
    }
   },
   "outputs": [],
   "source": [
    "Set = Peekings_Left_Ctrl.Count\n",
    "Set = np.asarray(Set)"
   ]
  },
  {
   "cell_type": "code",
   "execution_count": null,
   "metadata": {
    "pycharm": {
     "name": "#%%\n"
    }
   },
   "outputs": [],
   "source": [
    "from scipy.stats import bootstrap\n",
    "\n",
    "\n",
    "\n",
    "res = bootstrap(Set, statistic=np.mean ,confidence_level=0.9)\n",
    "print(res.confidence_interval)"
   ]
  },
  {
   "cell_type": "code",
   "execution_count": null,
   "metadata": {
    "pycharm": {
     "name": "#%%\n"
    }
   },
   "outputs": [],
   "source": [
    "Sorted=Data.groupby(['Behaviour'])"
   ]
  },
  {
   "cell_type": "code",
   "execution_count": null,
   "metadata": {
    "pycharm": {
     "name": "#%%\n"
    }
   },
   "outputs": [],
   "source": [
    "np.mean(Data['Count'])"
   ]
  },
  {
   "cell_type": "code",
   "execution_count": null,
   "metadata": {
    "pycharm": {
     "name": "#%%\n"
    }
   },
   "outputs": [],
   "source": [
    "Stat_Data = Data.groupby(['Behaviour', 'Training'])['Count']\n",
    "\n",
    "Stat_Data.mean()"
   ]
  },
  {
   "cell_type": "code",
   "execution_count": null,
   "metadata": {
    "pycharm": {
     "name": "#%%\n"
    }
   },
   "outputs": [],
   "source": [
    "ExData = Data[(Data.Training == 'Ctrl') & (Data.Behaviour == 'Peeking')]\n",
    "\n",
    "Sample = ExData.Count"
   ]
  },
  {
   "cell_type": "code",
   "execution_count": null,
   "metadata": {
    "pycharm": {
     "name": "#%%\n"
    }
   },
   "outputs": [],
   "source": [
    "rg = np.random.default_rng()\n",
    "\n",
    "bs_sample = rg.choice(Sample, replace=True, size=len(Sample))"
   ]
  },
  {
   "cell_type": "code",
   "execution_count": null,
   "metadata": {
    "pycharm": {
     "name": "#%%\n"
    }
   },
   "outputs": [],
   "source": [
    "bs_sample"
   ]
  },
  {
   "cell_type": "code",
   "execution_count": null,
   "metadata": {
    "pycharm": {
     "name": "#%%\n"
    }
   },
   "outputs": [],
   "source": [
    "bs_replicate = np.mean(bs_sample)\n",
    "bs_replicate"
   ]
  },
  {
   "cell_type": "code",
   "execution_count": null,
   "metadata": {
    "pycharm": {
     "name": "#%%\n"
    }
   },
   "outputs": [],
   "source": [
    "# Number of replicatess\n",
    "n_reps = 2000\n",
    "\n",
    "# Initialize bootstrap replicas array\n",
    "bs_reps_1975 = np.empty(n_reps)\n",
    "\n",
    "# Compute replicates\n",
    "for i in range(n_reps):\n",
    "    bs_sample = rg.choice(Sample, size=len(Sample))\n",
    "    bs_reps_1975[i] = np.mean(bs_sample)"
   ]
  },
  {
   "cell_type": "code",
   "execution_count": null,
   "metadata": {
    "pycharm": {
     "name": "#%%\n"
    }
   },
   "outputs": [],
   "source": [
    "sns.ecdfplot(bs_reps_1975)"
   ]
  },
  {
   "cell_type": "code",
   "execution_count": null,
   "metadata": {
    "pycharm": {
     "name": "#%%\n"
    }
   },
   "outputs": [],
   "source": [
    "def draw_bs_rep(data, func, rg):\n",
    "    \"\"\"Compute a bootstrap replicate from data.\"\"\"\n",
    "    bs_sample = rg.choice(data, size=len(data))\n",
    "    return func(bs_sample)\n",
    "\n",
    "def draw_bs_ci(data, func=np.mean, rg=rg, n_reps=2000):\n",
    "    \"\"\"Sample bootstrap multiple times and compute confidence interval\"\"\"\n",
    "    bs_reps = np.array(\n",
    "        [draw_bs_rep(data, func, rg) for _ in range(n_reps)]\n",
    "    )\n",
    "    conf_int = np.percentile(bs_reps,[2.5, 97.5])\n",
    "    return(conf_int)"
   ]
  },
  {
   "cell_type": "code",
   "execution_count": null,
   "metadata": {
    "pycharm": {
     "name": "#%%\n"
    }
   },
   "outputs": [],
   "source": [
    "bs_reps_1975 = np.array(\n",
    "    [draw_bs_rep(Sample, np.mean, rg) for _ in range(n_reps)]\n",
    ")\n",
    "\n",
    "conf_int_1975 = np.percentile(bs_reps_1975, [2.5, 97.5])\n",
    "conf_int_1975"
   ]
  },
  {
   "cell_type": "code",
   "execution_count": null,
   "metadata": {
    "pycharm": {
     "name": "#%%\n"
    }
   },
   "outputs": [],
   "source": [
    "conf_int_1975 = draw_bs_ci(Sample, np.mean,rg, n_reps=2000)\n",
    "conf_int_1975"
   ]
  },
  {
   "cell_type": "code",
   "execution_count": null,
   "metadata": {
    "pycharm": {
     "name": "#%%\n"
    }
   },
   "outputs": [],
   "source": [
    "Stat_Data=Data.groupby(['Behaviour', 'Training'])\n",
    "\n",
    "Groups = list(Stat_Data.groups.keys())"
   ]
  },
  {
   "cell_type": "code",
   "execution_count": null,
   "metadata": {
    "pycharm": {
     "name": "#%%\n"
    }
   },
   "outputs": [],
   "source": [
    "ConfInts = Stat_Data['Count'].apply(lambda x: draw_bs_ci(x))\n",
    "Means = Stat_Data['Count'].mean()"
   ]
  },
  {
   "cell_type": "code",
   "execution_count": null,
   "metadata": {
    "pycharm": {
     "name": "#%%\n"
    }
   },
   "outputs": [],
   "source": [
    "CIs=sns.catplot(x='Behaviour', y = 'Count',\n",
    "            hue='Training', showfliers = False,\n",
    "            cut=0,\n",
    "            col='Gate', kind=\"violin\",\n",
    "            data= Data)\n",
    "CIs.map_dataframe(sns.stripplot,x='Behaviour', y = 'Count',\n",
    "            hue='Training', dodge=True,\n",
    "            palette=[\"#404040\"])\n",
    "plt.show"
   ]
  },
  {
   "cell_type": "code",
   "execution_count": null,
   "metadata": {
    "pycharm": {
     "name": "#%%\n"
    }
   },
   "outputs": [],
   "source": [
    "ConfInts.values"
   ]
  },
  {
   "cell_type": "code",
   "execution_count": null,
   "metadata": {
    "pycharm": {
     "name": "#%%\n"
    }
   },
   "outputs": [],
   "source": [
    "Intervals = ConfInts.values"
   ]
  },
  {
   "cell_type": "code",
   "execution_count": null,
   "metadata": {
    "pycharm": {
     "name": "#%%\n"
    }
   },
   "outputs": [],
   "source": [
    "#Categories = Means.axes[0]\n",
    "Categories = []\n",
    "for sublist in Means.axes:\n",
    "    for item in sublist:\n",
    "        Categories.append(item)\n"
   ]
  },
  {
   "cell_type": "code",
   "execution_count": null,
   "metadata": {
    "pycharm": {
     "name": "#%%\n"
    }
   },
   "outputs": [],
   "source": [
    "X_axis = ['_'.join(tups) for tups in Categories]"
   ]
  },
  {
   "cell_type": "code",
   "execution_count": null,
   "metadata": {
    "pycharm": {
     "name": "#%%\n"
    }
   },
   "outputs": [],
   "source": [
    "sns.pointplot(x=X_axis,y=Means.values, join = False)\n",
    "sns.lineplot(x=X_axis, y=ConfInts.values)\n"
   ]
  },
  {
   "cell_type": "code",
   "execution_count": null,
   "metadata": {
    "pycharm": {
     "name": "#%%\n"
    }
   },
   "outputs": [],
   "source": [
    "sns.lineplot(ConfInts.values[0])"
   ]
  },
  {
   "cell_type": "code",
   "execution_count": null,
   "metadata": {
    "pycharm": {
     "name": "#%%\n"
    }
   },
   "outputs": [],
   "source": [
    "ConfInts.values[1]"
   ]
  },
  {
   "cell_type": "code",
   "execution_count": null,
   "metadata": {
    "pycharm": {
     "name": "#%%\n"
    }
   },
   "outputs": [],
   "source": [
    "AutoData = pd.read_csv('/Volumes/Ramdya-Lab/DURRIEU_Matthias/Experimental_data/MultiSensory_Project/GatedArenas/Results/AutoDataSet.csv')\n",
    "AutoData.head()"
   ]
  },
  {
   "cell_type": "code",
   "execution_count": null,
   "metadata": {
    "pycharm": {
     "name": "#%%\n"
    }
   },
   "outputs": [],
   "source": [
    "#AutoData.columns=AutoData.columns.droplevel(0)\n",
    "Melted = pd.melt(AutoData, id_vars=['Training', 'Starvation', 'Date'], value_name = 'Count', value_vars=['Peeks Left', 'Peeks Right', 'Peeks Top', 'Long Peeks Left', 'Long Peeks Right', 'Long Peeks Top'], var_name='Gate')\n",
    "\n",
    "Melted = Melted.loc[Melted['Starvation'] == 'Overnight no Water']\n",
    "\n",
    "Melted['Beh'] = 'Value'\n",
    "Melted['Side'] = 'Value'"
   ]
  },
  {
   "cell_type": "code",
   "execution_count": null,
   "metadata": {
    "pycharm": {
     "name": "#%%\n"
    }
   },
   "outputs": [],
   "source": [
    "Melted['Beh'].loc[(Melted['Gate'].str.contains('Long'))] = 'Squeezing'\n",
    "Melted['Beh'].loc[(Melted['Gate'].str.contains('Long')==False)] = 'Peeking'\n",
    "\n",
    "Melted['Side'].loc[(Melted['Gate'].str.contains('Left'))] = 'Rewarded Side'\n",
    "Melted['Side'].loc[(Melted['Gate'].str.contains('Right'))] = 'Punished Side'\n",
    "Melted['Side'].loc[(Melted['Gate'].str.contains('Top'))] = 'Empty Side'"
   ]
  },
  {
   "cell_type": "code",
   "execution_count": null,
   "metadata": {
    "pycharm": {
     "name": "#%%\n"
    }
   },
   "outputs": [],
   "source": [
    "sns.set(font_scale=1.5)\n",
    "\n",
    "\n",
    "g=sns.catplot(x='Count', y = 'Side',\n",
    "            hue='Training', showfliers = False,\n",
    "            col='Beh',\n",
    "            kind=\"box\", #row='Starvation',\n",
    "            data= Melted)\n",
    "g.map_dataframe(sns.stripplot,x='Count', y = 'Side',\n",
    "            hue='Training', dodge=True,\n",
    "            palette=[\"#404040\"])\n",
    "g.set(\n",
    "      #xlabel=\"Relative time spent in 'rewarded' side\",\n",
    "      ylabel='',\n",
    "      #yticks=['Rewarded side', 'Punished side', 'Empty side'],\n",
    "      #xlim=(0,1),\n",
    "      #xticks=np.arange(0,1,0.1),\n",
    "      )\n",
    "\n",
    "plt.text(15, 3,\n",
    "         'n=9',\n",
    "         horizontalalignment='center',\n",
    "         verticalalignment='top',\n",
    "         )\n",
    "ax= g.axes\n",
    "ax[0][0].set_title('Peeking')\n",
    "ax[0][1].set_title('Squeezing')\n",
    "#g._legend.remove()\n",
    "plt.show\n",
    "\n",
    "plt.savefig('/Volumes/Ramdya-Lab/DURRIEU_Matthias/Experimental_data/MultiSensory_Project/GatedArenas/Results/AutoPlot_Old.png')"
   ]
  },
  {
   "cell_type": "code",
   "execution_count": null,
   "metadata": {
    "pycharm": {
     "name": "#%%\n"
    }
   },
   "outputs": [],
   "source": [
    "ax[0][0].set_title('TheTest')"
   ]
  },
  {
   "cell_type": "code",
   "execution_count": null,
   "metadata": {
    "pycharm": {
     "name": "#%%\n"
    }
   },
   "outputs": [],
   "source": [
    "TimeData = pd.read_csv('/Volumes/Ramdya-Lab/DURRIEU_Matthias/Experimental_data/MultiSensory_Project/GatedArenas_Agar/Results/DataSetTest.csv')\n",
    "\n",
    "TimeData.head()"
   ]
  },
  {
   "cell_type": "code",
   "execution_count": null,
   "metadata": {
    "pycharm": {
     "name": "#%%\n"
    }
   },
   "outputs": [],
   "source": [
    "not_list_cols = [col for col in TimeData.columns if col not in ['Visits Left Corner', 'Durations Left Corner']] #list of columns you are not exploding (assume col1 and col2 are being exploded)\n",
    "TimeData2 = TimeData.set_index(not_list_cols).apply(pd.Series.explode).reset_index()\n",
    "\n",
    "#TimeData2 = TimeData.explode('Visits Left Corner')\n",
    "\n",
    "#TimeData.explode(['Durations Left Corner', 'Visits Left Corner'])\n",
    "TimeData2\n",
    "#TimeMelted = pd.melt(Unpacked, id_vars=['Training', 'Starvation'], value_name = 'Timestamps', value_vars=['Visits Left Corner'], var_name='Gate')"
   ]
  },
  {
   "cell_type": "code",
   "execution_count": null,
   "metadata": {
    "pycharm": {
     "name": "#%%\n"
    }
   },
   "outputs": [],
   "source": [
    "TimeData = pd.read_csv('/Volumes/Ramdya-Lab/DURRIEU_Matthias/Experimental_data/MultiSensory_Project/GatedArenas_Agar/Results/DataSetTest.csv')\n",
    "TimeData.head()\n",
    "\n",
    "TimeData[['Visits Left Corner', 'Durations Left Corner',\n",
    "          'Visits Right Corner', 'Durations Right Corner',\n",
    "          'Visits Top Corner', 'Durations Top Corner',\n",
    "          'Visits Left Front', 'Durations Left Front',\n",
    "          'Visits Right Front', 'Durations Right Front',\n",
    "          'Visits Top Front', 'Durations Top Front']] = TimeData[['Visits Left Corner', 'Durations Left Corner',\n",
    "          'Visits Right Corner', 'Durations Right Corner',\n",
    "          'Visits Top Corner', 'Durations Top Corner',\n",
    "          'Visits Left Front', 'Durations Left Front',\n",
    "          'Visits Right Front', 'Durations Right Front',\n",
    "          'Visits Top Front', 'Durations Top Front']].applymap(ast.literal_eval)\n",
    "\n",
    "TimeData = TimeData.explode(['Visits Left Corner', 'Durations Left Corner',]).reset_index().drop(\"index\",1)\\\n",
    "    .explode(['Visits Right Corner', 'Durations Right Corner',]).reset_index().drop(\"index\",1)\\\n",
    "    .explode(['Visits Top Corner', 'Durations Top Corner',]).reset_index().drop(\"index\",1)\\\n",
    "    .explode(['Visits Left Front', 'Durations Left Front',]).reset_index().drop(\"index\",1)\\\n",
    "    .explode(['Visits Right Front', 'Durations Right Front',]).reset_index().drop(\"index\",1)\\\n",
    "    .explode(['Visits Top Front', 'Durations Top Front']).reset_index().drop(\"index\",1)\\\n",
    "\n",
    "\n",
    "\n",
    "#TimeData.loc[TimeData.astype(str).drop_duplicates().index]\n",
    "\n",
    "TimeData"
   ]
  },
  {
   "cell_type": "code",
   "execution_count": null,
   "metadata": {
    "pycharm": {
     "name": "#%%\n"
    }
   },
   "outputs": [],
   "source": [
    "print(TimeData2['Visits Left Corner'][0])\n",
    "print(TimeData2['Durations Left Corner'][0])"
   ]
  },
  {
   "cell_type": "code",
   "execution_count": null,
   "metadata": {
    "pycharm": {
     "name": "#%%\n"
    }
   },
   "outputs": [],
   "source": [
    "TimeMelted = pd.melt(TimeData, id_vars=['Training', 'Starvation', 'Date', 'Fly'], value_name = 'Values',\n",
    "                     value_vars=['Visits Left Corner', 'Durations Left Corner',\n",
    "          'Visits Right Corner', 'Durations Right Corner',\n",
    "          'Visits Top Corner', 'Durations Top Corner',\n",
    "          'Visits Left Front', 'Durations Left Front',\n",
    "          'Visits Right Front', 'Durations Right Front',\n",
    "          'Visits Top Front', 'Durations Top Front'],\n",
    "                     var_name=\"Variable\")\n",
    "\n",
    "TimeMelted[['Values',]] = TimeMelted[['Values',]].applymap(ast.literal_eval)\n",
    "TimeMelted = TimeMelted.explode('Values').drop_duplicates()"
   ]
  },
  {
   "cell_type": "code",
   "execution_count": null,
   "metadata": {
    "pycharm": {
     "name": "#%%\n"
    }
   },
   "outputs": [],
   "source": [
    "LeftCornerVisits = TimeMelted[TimeMelted['Variable'].isin(['Visits Left Corner', 'Durations Left Corner'])].reset_index().pivot_table(index = ['Fly', 'Training'], columns = 'Variable', values = 'Values').reset_index()"
   ]
  },
  {
   "cell_type": "code",
   "execution_count": null,
   "metadata": {
    "pycharm": {
     "name": "#%%\n"
    }
   },
   "outputs": [],
   "source": [
    "#LeftCornerVisits.pivot(columns = 'Variable')['Values']\n",
    "LeftCornerVisits=LeftCornerVisits.set_index(['Variable'])['Values'].unstack()\n",
    "LeftCornerVisits"
   ]
  },
  {
   "cell_type": "code",
   "execution_count": null,
   "metadata": {
    "pycharm": {
     "name": "#%%\n"
    }
   },
   "outputs": [],
   "source": [
    "# Create the figure, stored in variable `p`\n",
    "p = bokeh.plotting.figure(\n",
    "    frame_width=400,\n",
    "    frame_height=300,\n",
    "    x_axis_label='Visits time',\n",
    "    y_axis_label='Visits duration'\n",
    ")\n",
    "\n",
    "\n",
    "p.circle(\n",
    "    source= LeftCornerVisits[LeftCornerVisits['Training']== 'Trained'],\n",
    "    x='Visits Left Corner',\n",
    "    y='Durations Left Corner',\n",
    "    legend_label = 'Trained flies'\n",
    ")\n",
    "\n",
    "p.circle(\n",
    "    source=LeftCornerVisits[LeftCornerVisits['Training']== 'Ctrl'],\n",
    "    x='Visits Left Corner',\n",
    "    y='Durations Left Corner',\n",
    "    color = 'orange',\n",
    "    legend_label = 'Control flies'\n",
    ")\n",
    "\n",
    "bokeh.io.show(p)"
   ]
  },
  {
   "cell_type": "code",
   "execution_count": null,
   "metadata": {
    "pycharm": {
     "name": "#%%\n"
    }
   },
   "outputs": [],
   "source": [
    "# First time related plot\n",
    "\n",
    "Data = pd.read_csv('/Volumes/Ramdya-Lab/DURRIEU_Matthias/Experimental_data/MultiSensory_Project/GatedArenas/Results/DataSetAugust22.csv')\n",
    "Data.head()\n",
    "Data = Data[Data['Test Starvation'] == \"Overnight no Water\"]\n",
    "Data = Data[Data[\"Training Starvation\"] == \"Not starved\"]  #.reset_index()\n"
   ]
  },
  {
   "cell_type": "code",
   "execution_count": null,
   "metadata": {
    "pycharm": {
     "name": "#%%\n"
    }
   },
   "outputs": [],
   "source": [
    "Data['TimeSpentRewSide'] = 'i'\n",
    "\n",
    "conditions = [\n",
    "    ((Data[\"Reinforced_side\"].str.contains(\"Left\"))),\n",
    "    ((Data[\"Reinforced_side\"].str.contains(\"Right\"))),\n",
    "]\n",
    "values = [\n",
    "    Data['Relative Time Left'],\n",
    "    Data['Relative Time Right'],\n",
    "]\n",
    "Data[\"TimeSpentRewSide\"] = np.select(conditions, values)\n",
    "\n",
    "#Data['TimeSpentRewSide'] = Data['Relative Time Left'] if Data['Reinforced_side'].str.contains('Left') else Data['Relative Time Right']"
   ]
  },
  {
   "cell_type": "code",
   "execution_count": null,
   "metadata": {
    "pycharm": {
     "name": "#%%\n"
    }
   },
   "outputs": [],
   "source": [
    "sns.set_theme(font_scale=1.5)\n",
    "sns.set(rc={'figure.figsize':(10, 15)})\n",
    "\n",
    "g=sns.catplot(x='TimeSpentRewSide', y = 'Training',\n",
    "            hue='Training', showfliers = False,\n",
    "            #col='Gate',\n",
    "            kind=\"box\",\n",
    "            #row='Test',\n",
    "            data= Data)\n",
    "g.set_xticklabels(size= 10)\n",
    "g.map_dataframe(sns.stripplot,x='TimeSpentRewSide', y = 'Training',\n",
    "            hue='Training', dodge=True,\n",
    "            palette=[\"#404040\"])\n",
    "g.refline(x=0.5,\n",
    "          color = \"red\",\n",
    "          )\n",
    "g.set(\n",
    "      xlabel=\"Relative time spent in 'rewarded' side\",\n",
    "      ylabel='',\n",
    "      #xlim=(0,1),\n",
    "      #xticks=np.arange(0,1,0.1),\n",
    "      )\n",
    "plt.text(1, 1.5,\n",
    "         'n=30',\n",
    "         horizontalalignment='center',\n",
    "         verticalalignment='top',\n",
    "         )\n",
    "\n",
    "plt.show\n",
    "plt.savefig('/Volumes/Ramdya-Lab/DURRIEU_Matthias/Experimental_data/MultiSensory_Project/GatedArenas/Results/TimeSpentLR.png')"
   ]
  }
 ],
 "metadata": {
  "kernelspec": {
   "display_name": "Python 3",
   "language": "python",
   "name": "python3"
  },
  "language_info": {
   "codemirror_mode": {
    "name": "ipython",
    "version": 2
   },
   "file_extension": ".py",
   "mimetype": "text/x-python",
   "name": "python",
   "nbconvert_exporter": "python",
   "pygments_lexer": "ipython2",
   "version": "2.7.6"
  }
 },
 "nbformat": 4,
 "nbformat_minor": 0
}
