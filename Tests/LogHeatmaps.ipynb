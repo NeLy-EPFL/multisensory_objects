{
 "cells": [
  {
   "cell_type": "code",
   "execution_count": null,
   "metadata": {
    "pycharm": {
     "name": "#%%\n"
    }
   },
   "outputs": [],
   "source": [
    "import numpy as np\n",
    "import pandas as pd\n",
    "import os\n",
    "import math\n",
    "import matplotlib as mpl\n",
    "import cv2\n",
    "import matplotlib.pyplot as plt\n",
    "\n",
    "Ffmpeg = \"/usr/local/Cellar/ffmpeg/5.0-with-options_1/bin/ffmpeg\" #"
   ]
  },
  {
   "cell_type": "code",
   "execution_count": null,
   "metadata": {
    "pycharm": {
     "name": "#%%\n"
    }
   },
   "outputs": [],
   "source": [
    "path = '/Volumes/Universal_HD/VideoAnalysis/SingleObject/Trained_BlueOnly_Agar/Starved_Water_OrangeOnly/220421/140931_s0a0_p6-0/'\n",
    "source = 'Trained_BlueOnly_Agar_Starved_Water_OrangeOnly_p6-0_80fps'\n",
    "\n",
    "\n",
    "video = source + \"_Trimmed\"\n",
    "\n",
    "input_vidpath = path + video + '.mp4'\n",
    "output_vidpath = path + video + '_tracked.mp4'\n",
    "output_filepath = path + video + '_tracked.csv'\n",
    "codec = 'mp4v' # try other codecs if the default doesn't work ('DIVX', 'avc1', 'XVID') note: this list is non-exhaustive"
   ]
  },
  {
   "cell_type": "code",
   "execution_count": null,
   "metadata": {
    "pycharm": {
     "name": "#%%\n"
    }
   },
   "outputs": [],
   "source": [
    "df = pd.read_csv(output_filepath)\n",
    "df.head()\n",
    "#os.mkdir(path=path + 'figs/')\n",
    "import matplotlib.pyplot as plt\n",
    "\n",
    "plt.figure(figsize=(5, 5))\n",
    "plt.scatter(df['pos_x'], df['pos_y'], c=df['frame'], alpha=0.5)\n",
    "plt.xlabel('X', fontsize=16)\n",
    "plt.ylabel('Y', fontsize=16)\n",
    "plt.gca().invert_yaxis()\n",
    "plt.tight_layout()\n",
    "plt.savefig(path + 'figs/trajectory.eps', format='eps', dpi=300)\n",
    "plt.show()\n",
    "\n",
    "plt.figure(figsize=(5, 5))\n",
    "plt.hist2d(df['pos_x'], df['pos_y'], bins=30)\n",
    "plt.xlabel('X', fontsize=16)\n",
    "plt.ylabel('Y', fontsize=16)\n",
    "plt.gca().invert_yaxis()\n",
    "\n",
    "plt.tight_layout()\n",
    "\n",
    "#plt.savefig(path + 'figs/heatmap.eps', format='eps', dpi=300)\n",
    "plt.show()"
   ]
  },
  {
   "cell_type": "code",
   "execution_count": null,
   "metadata": {
    "pycharm": {
     "name": "#%%\n"
    }
   },
   "outputs": [],
   "source": [
    "plt.figure(figsize=(5, 5))\n",
    "plt.scatter(df['pos_x'], df['pos_y'], c=df['frame'], alpha=0.5)\n",
    "plt.xlabel('X', fontsize=16)\n",
    "plt.ylabel('Y', fontsize=16)\n",
    "plt.gca().invert_yaxis()\n",
    "plt.tight_layout()\n",
    "plt.savefig(path + 'figs/trajectory.eps', format='eps', dpi=300)\n",
    "plt.show()\n",
    "\n",
    "plt.figure(figsize=(5, 5))\n",
    "plt.hist2d(df['pos_x'], df['pos_y'], bins=30, norm=mpl.colors.LogNorm(), cmap=mpl.cm.viridis)\n",
    "plt.xlabel('X', fontsize=16)\n",
    "plt.ylabel('Y', fontsize=16)\n",
    "plt.colorbar()\n",
    "\n",
    "plt.gca().invert_yaxis()\n",
    "\n",
    "plt.tight_layout()\n",
    "\n",
    "plt.savefig(path + 'figs/heatmap.eps', format='eps', dpi=300)\n",
    "plt.show()"
   ]
  },
  {
   "cell_type": "code",
   "execution_count": null,
   "metadata": {
    "pycharm": {
     "name": "#%%\n"
    }
   },
   "outputs": [],
   "source": [
    "Background = cv2.imread(path+'Background.jpg')\n",
    "\n",
    "plt.figure(figsize=(5, 5))\n",
    "plt.scatter(df['pos_x'], df['pos_y'], c=df['frame'], alpha=0.2)\n",
    "plt.xlabel('X', fontsize=16)\n",
    "plt.ylabel('Y', fontsize=16)\n",
    "plt.xlim(0,832)\n",
    "plt.ylim(0,832)\n",
    "plt.gca().invert_yaxis()\n",
    "plt.tight_layout()\n",
    "\n",
    "#plt.savefig(path + 'figs/trajectory.eps', format='eps', dpi=300)\n",
    "plt.imshow(Background)\n",
    "\n",
    "plt.figure(figsize=(5, 5))\n",
    "plt.hist2d(df['pos_x'], df['pos_y'],\n",
    "           bins=30,\n",
    "           norm=mpl.colors.LogNorm(),\n",
    "           cmap=mpl.cm.viridis,\n",
    "           range= np.array([(0,832), (0,832)]),\n",
    "           #alpha=0.7\n",
    "           )\n",
    "plt.xlabel('X', fontsize=16)\n",
    "plt.ylabel('Y', fontsize=16)\n",
    "#plt.colorbar()\n",
    "\n",
    "plt.gca().invert_yaxis()\n",
    "\n",
    "plt.tight_layout()\n",
    "\n",
    "\n",
    "plt.imshow(Background)"
   ]
  },
  {
   "cell_type": "code",
   "execution_count": null,
   "metadata": {
    "pycharm": {
     "name": "#%%\n"
    }
   },
   "outputs": [],
   "source": [
    "Background = plt.imread(path+'Background.jpg')"
   ]
  },
  {
   "cell_type": "code",
   "execution_count": null,
   "metadata": {
    "pycharm": {
     "name": "#%%\n"
    }
   },
   "outputs": [],
   "source": [
    "Background"
   ]
  },
  {
   "cell_type": "code",
   "execution_count": null,
   "metadata": {
    "pycharm": {
     "name": "#%%\n"
    }
   },
   "outputs": [],
   "source": [
    "Background = plt.imread(path+'Background.jpg')\n",
    "\n",
    "Heatm = plt.figure(figsize=(5, 5))\n",
    "\n",
    "plt.imread(path+'Background.jpg')\n",
    "plt.hist2d(df['pos_x'], df['pos_y'],\n",
    "           bins=30,\n",
    "           norm=mpl.colors.LogNorm(),\n",
    "           cmap=mpl.cm.viridis,\n",
    "           range= np.array([(0,832), (0,832)]),\n",
    "           #alpha=0.7\n",
    "           )\n",
    "plt.xlabel('X', fontsize=16)\n",
    "plt.ylabel('Y', fontsize=16)\n",
    "#plt.colorbar()\n",
    "\n",
    "plt.gca().invert_yaxis()\n",
    "\n",
    "plt.tight_layout()\n",
    "\n",
    "Heatm\n",
    "#plt.imshow(Background)"
   ]
  }
 ],
 "metadata": {
  "kernelspec": {
   "display_name": "TrackingAnalysis",
   "language": "python",
   "name": "python3"
  },
  "language_info": {
   "codemirror_mode": {
    "name": "ipython",
    "version": 2
   },
   "file_extension": ".py",
   "mimetype": "text/x-python",
   "name": "python",
   "nbconvert_exporter": "python",
   "pygments_lexer": "ipython2",
   "version": "3.10.4"
  },
  "vscode": {
   "interpreter": {
    "hash": "a10dcd6c5ba4f841b08c213cb10df2391c63c1275edb19c558150bb17ce2d2c0"
   }
  }
 },
 "nbformat": 4,
 "nbformat_minor": 0
}
