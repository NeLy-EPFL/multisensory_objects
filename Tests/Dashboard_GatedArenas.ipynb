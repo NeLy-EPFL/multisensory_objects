{
 "cells": [
  {
   "cell_type": "code",
   "execution_count": null,
   "metadata": {
    "jupyter": {
     "outputs_hidden": false
    },
    "pycharm": {
     "name": "#%%\n"
    }
   },
   "outputs": [],
   "source": [
    "import pandas as pd\n",
    "import numpy as np\n",
    "import scipy.stats\n",
    "import ast\n",
    "\n",
    "import bokeh.io\n",
    "import bokeh.layouts\n",
    "import bokeh.models\n",
    "import bokeh.plotting\n",
    "\n",
    "\n",
    "bokeh.io.output_notebook()"
   ]
  },
  {
   "cell_type": "code",
   "execution_count": null,
   "metadata": {
    "pycharm": {
     "name": "#%%\n"
    }
   },
   "outputs": [],
   "source": [
    "notebook_url = 'localhost:8888'"
   ]
  },
  {
   "cell_type": "code",
   "execution_count": null,
   "metadata": {
    "jupyter": {
     "outputs_hidden": false
    },
    "pycharm": {
     "name": "#%%\n"
    }
   },
   "outputs": [],
   "source": [
    "# Read in data\n",
    "TimeData = pd.read_csv(\n",
    "    \"/Volumes/Ramdya-Lab/DURRIEU_Matthias/Experimental_data/MultiSensory_Project/GatedArenas/Results/DataSetNew.csv\"\n",
    ")\n",
    "\n",
    "# Prep dataset from data\n",
    "TimeMelted = pd.melt(\n",
    "    TimeData,\n",
    "    id_vars=[\"Training\", \"ObjectsReinforced\", \"Reinforced_side\", \"Date\", \"Fly\"],\n",
    "    value_name=\"Values\",\n",
    "    value_vars=[\n",
    "        \"Visits Left Corner\",\n",
    "        \"Durations Left Corner\",\n",
    "        \"Visits Right Corner\",\n",
    "        \"Durations Right Corner\",\n",
    "        \"Visits Top Corner\",\n",
    "        \"Durations Top Corner\",\n",
    "        \"Visits Left Front\",\n",
    "        \"Durations Left Front\",\n",
    "        \"Visits Right Front\",\n",
    "        \"Durations Right Front\",\n",
    "        \"Visits Top Front\",\n",
    "        \"Durations Top Front\",\n",
    "    ],\n",
    "    var_name=\"Variable\",\n",
    ")\n",
    "\n",
    "TimeMelted[[\"Values\",]] = TimeMelted[\n",
    "    [\n",
    "        \"Values\",\n",
    "    ]\n",
    "].applymap(ast.literal_eval)\n",
    "TimeMelted = TimeMelted.explode(\"Values\")#.drop_duplicates()#.dropna()#.reset_index()\n",
    "TimeMelted[\"EventIndex\"] = TimeMelted.groupby([\"Fly\", \"Variable\"]).cumcount()\n",
    "TimeMelted = TimeMelted.drop_duplicates().dropna()"
   ]
  },
  {
   "cell_type": "code",
   "execution_count": null,
   "metadata": {
    "pycharm": {
     "name": "#%%\n"
    }
   },
   "outputs": [],
   "source": [
    "\n",
    "conditions = [\n",
    "    (TimeMelted[\"Variable\"].str.contains(\"Durations\")),\n",
    "    (TimeMelted[\"Variable\"].str.contains(\"Visits\")),\n",
    "]\n",
    "\n",
    "values = [\"Durations\", \"Visits\"]\n",
    "TimeMelted[\"Kind\"] = np.select(conditions, values)\n",
    "\n",
    "conditions = [\n",
    "    (\n",
    "        TimeMelted[\"Reinforced_side\"].str.contains(\"Right\")\n",
    "        & (TimeMelted[\"Variable\"].str.contains(\"Right\")\n",
    "    )\n",
    "    ),\n",
    "    (\n",
    "        TimeMelted[\"Reinforced_side\"].str.contains(\"Left\")\n",
    "        & (TimeMelted[\"Variable\"].str.contains(\"Left\")\n",
    "    )\n",
    "    ),\n",
    "    (\n",
    "        TimeMelted[\"Reinforced_side\"].str.contains(\"Right\")\n",
    "        & (TimeMelted[\"Variable\"].str.contains(\"Left\")\n",
    "    )\n",
    "    ),\n",
    "    (\n",
    "        TimeMelted[\"Reinforced_side\"].str.contains(\"Left\")\n",
    "        & (TimeMelted[\"Variable\"].str.contains(\"Right\")\n",
    "     )\n",
    "    ),\n",
    "    (TimeMelted[\"Variable\"].str.contains(\"Top\")\n",
    "     ),\n",
    "\n",
    "]\n",
    "\n",
    "values = [\n",
    "    \"Rewarded Side\",\n",
    "    \"Rewarded Side\",\n",
    "    \"Punished Side\",\n",
    "    \"Punished Side\",\n",
    "    \"Empty Side\",\n",
    "]\n",
    "TimeMelted[\"Condition\"] = np.select(conditions, values)\n",
    "\n",
    "conditions = [\n",
    "    (\n",
    "            (TimeMelted[\"Variable\"].str.contains(\"Corner\"))\n",
    "    ),\n",
    "    (\n",
    "            (TimeMelted[\"Variable\"].str.contains(\"Front\")))\n",
    "\n",
    "]\n",
    "values = [\n",
    "    \"Corner\",\n",
    "    \"Front\",\n",
    "]\n",
    "TimeMelted[\"Location\"] = np.select(conditions, values)\n",
    "\n",
    "TimeMelted = TimeMelted#.reset_index()"
   ]
  },
  {
   "cell_type": "code",
   "execution_count": null,
   "metadata": {
    "pycharm": {
     "name": "#%%\n"
    }
   },
   "outputs": [],
   "source": [
    "print(TimeData[\"Visits Left Corner\"][1])\n",
    "print(TimeData[\"Durations Left Corner\"][1])"
   ]
  },
  {
   "cell_type": "code",
   "execution_count": null,
   "metadata": {
    "pycharm": {
     "name": "#%%\n"
    }
   },
   "outputs": [],
   "source": [
    "print(TimeData[\"Visits Top Corner Corner\"][1])\n",
    "print(TimeData[\"Durations Left Corner\"][1])"
   ]
  },
  {
   "cell_type": "code",
   "execution_count": null,
   "metadata": {
    "pycharm": {
     "name": "#%%\n"
    }
   },
   "outputs": [],
   "source": [
    "TimeMelted = TimeMelted.stack('Kind')"
   ]
  },
  {
   "cell_type": "code",
   "execution_count": null,
   "metadata": {
    "pycharm": {
     "name": "#%%\n"
    }
   },
   "outputs": [],
   "source": [
    "TimeMelted = (\n",
    "    TimeMelted.reset_index()\n",
    "    .pivot_table(\n",
    "        index=[\"Condition\",\"Fly\",\"EventIndex\",\"Training\", \"ObjectsReinforced\", ],\n",
    "        columns=\"Kind\",\n",
    "        values=\"Values\",\n",
    "    )\n",
    "    .reset_index()\n",
    ")"
   ]
  },
  {
   "cell_type": "code",
   "execution_count": null,
   "metadata": {
    "pycharm": {
     "name": "#%%\n"
    }
   },
   "outputs": [],
   "source": [
    "\n",
    "# Produce the subsets\n",
    "ReinforcedVisits_Corner = TimeMelted[TimeMelted[\"Condition\"] == \"Rewarded Corner\"]\n",
    "ReinforcedVisits_Front = TimeMelted[TimeMelted[\"Condition\"] == \"Rewarded Front\"]\n",
    "PunishedVisits_Corner = TimeMelted[TimeMelted[\"Condition\"] == \"Punished Corner\"]\n",
    "PunishedVisits_Front = TimeMelted[TimeMelted[\"Condition\"] == \"Punished Front\"]\n",
    "EmptyVisits_Corner = TimeMelted[TimeMelted[\"Condition\"] == \"Empty Corner\"]\n",
    "EmptyVisits_Front = TimeMelted[TimeMelted[\"Condition\"] == \"Empty Front\"]"
   ]
  },
  {
   "cell_type": "code",
   "execution_count": null,
   "metadata": {
    "jupyter": {
     "outputs_hidden": false
    },
    "pycharm": {
     "name": "#%%\n"
    }
   },
   "outputs": [],
   "source": [
    "# Options for x and y selectors\n",
    "\n",
    "xy_options = list(\n",
    "    ReinforcedVisits_Corner.columns[ReinforcedVisits_Corner.columns.isin([\"Visits\", \"Durations\"])]\n",
    ")  #'ObjectsReinforced','Training', 'Fly'\n",
    "\n",
    "# Define the selector widgets\n",
    "\n",
    "x_selector = bokeh.models.Select(\n",
    "    title=\"x\",\n",
    "    options=xy_options,\n",
    "    value=\"Visits\",\n",
    "    width=200,\n",
    ")\n",
    "\n",
    "y_selector = bokeh.models.Select(\n",
    "    title=\"y\",\n",
    "    options=xy_options,\n",
    "    value=\"Durations\",\n",
    "    width=200,\n",
    ")\n",
    "\n",
    "colorby_selector = bokeh.models.Select(\n",
    "    title=\"color by\",\n",
    "    options=[\n",
    "        \"none\",\n",
    "        \"ObjectsReinforced\",\n",
    "        \"Training\",\n",
    "        \"Fly\",\n",
    "    ],\n",
    "    value=\"none\",\n",
    "    width=200,\n",
    ")"
   ]
  },
  {
   "cell_type": "code",
   "execution_count": null,
   "metadata": {
    "pycharm": {
     "name": "#%%\n"
    }
   },
   "outputs": [],
   "source": [
    "# Column data source\n",
    "source = bokeh.models.ColumnDataSource(\n",
    "    dict(x=ReinforcedVisits_Corner[x_selector.value], y=ReinforcedVisits_Corner[y_selector.value],\n",
    "         \n",
    "        )\n",
    ")\n",
    "\n",
    "# Add a column for colors; for now, all bokeh's default blue\n",
    "source.data[\"color\"] = [\"#1f77b3\"] * len(ReinforcedVisits_Corner)\n",
    "\n",
    "# Make the plot\n",
    "p = bokeh.plotting.figure(\n",
    "    frame_height=500,\n",
    "    frame_width=500,\n",
    "    x_axis_label=x_selector.value,\n",
    "    y_axis_label=y_selector.value,\n",
    ")\n",
    "\n",
    "# Populate glyphs\n",
    "circle = p.circle(source=source, x=\"x\", y=\"y\", color=\"color\", \n",
    "                  #legend_group=\"color\",\n",
    "                 )"
   ]
  },
  {
   "cell_type": "code",
   "execution_count": null,
   "metadata": {
    "pycharm": {
     "name": "#%%\n"
    }
   },
   "outputs": [],
   "source": [
    "from bokeh.palettes import Category10\n",
    "import itertools\n",
    "\n",
    "colors = itertools.cycle(Category10[10])\n",
    "\n",
    "colors\n",
    "\n",
    "def color_gen():\n",
    "    yield from itertools.cycle(Category10[10])\n",
    "color = color_gen()"
   ]
  },
  {
   "cell_type": "code",
   "execution_count": null,
   "metadata": {
    "pycharm": {
     "name": "#%%\n"
    }
   },
   "outputs": [],
   "source": [
    "colors = []\n",
    "\n",
    "for fly, c in zip(ReinforcedVisits_Corner[\"Fly\"].unique(), color):\n",
    "    colors.append(c)\n",
    "\n",
    "colors\n",
    "#colors = colorgen() for flies in ReinforcedVisit[\"Fly\"]"
   ]
  },
  {
   "cell_type": "code",
   "execution_count": null,
   "metadata": {
    "pycharm": {
     "name": "#%%\n"
    }
   },
   "outputs": [],
   "source": [
    "def gfmt_callback(attr, new, old):\n",
    "    \"\"\"Callback for updating plot of GMFT results.\"\"\"\n",
    "    # Update color column\n",
    "    if colorby_selector.value == \"none\":\n",
    "        source.data[\"color\"] = [\"#1f77b3\"] * len(ReinforcedVisits_Corner)\n",
    "        \n",
    "    elif colorby_selector.value == \"ObjectReinforced\":\n",
    "        source.data[\"color\"] = [\n",
    "            \"#1f77b3\" if objects == \"Blue\" else \"#ff7e0e\"\n",
    "            for objects in ReinforcedVisits_Corner[\"ObjectsReinforced\"]\n",
    "        ]\n",
    "        \n",
    "    elif colorby_selector.value == \"Training\":\n",
    "        source.data[\"color\"] = [\n",
    "            \"#1f77b3\" if Training == \"Trained\" else \"#ff7e0e\"\n",
    "            for Training in ReinforcedVisits_Corner[\"Training\"]\n",
    "        ]\n",
    "\n",
    "    elif colorby_selector.value == \"Fly\":\n",
    "        source.data[\"color\"] = [\n",
    "            \n",
    "            colors for flies in ReinforcedVisits_Corner[\"Fly\"].unique()\n",
    "        ]\n",
    "\n",
    "    # Update x-data and axis label\n",
    "    source.data[\"x\"] = ReinforcedVisits_Corner[x_selector.value]\n",
    "    p.xaxis.axis_label = x_selector.value\n",
    "\n",
    "    # Update x-data and axis label\n",
    "    source.data[\"y\"] = ReinforcedVisits_Corner[y_selector.value]\n",
    "    p.yaxis.axis_label = y_selector.value\n",
    "\n",
    "\n",
    "# Connect selectors to callback\n",
    "colorby_selector.on_change(\"value\", gfmt_callback)\n",
    "x_selector.on_change(\"value\", gfmt_callback)\n",
    "y_selector.on_change(\"value\", gfmt_callback)\n",
    "\n",
    "# Build the layout\n",
    "gfmt_layout = bokeh.layouts.row(\n",
    "    p,\n",
    "    bokeh.layouts.Spacer(width=15),\n",
    "    bokeh.layouts.column(\n",
    "        x_selector,\n",
    "        bokeh.layouts.Spacer(height=15),\n",
    "        y_selector,\n",
    "        bokeh.layouts.Spacer(height=15),\n",
    "        colorby_selector,\n",
    "    ),\n",
    ")"
   ]
  },
  {
   "cell_type": "code",
   "execution_count": null,
   "metadata": {
    "pycharm": {
     "name": "#%%\n"
    }
   },
   "outputs": [],
   "source": [
    "def gfmt_app(doc):\n",
    "    doc.add_root(gfmt_layout)\n",
    "\n",
    "bokeh.io.show(gfmt_app, notebook_url=notebook_url)"
   ]
  },
  {
   "cell_type": "code",
   "execution_count": null,
   "metadata": {
    "pycharm": {
     "name": "#%%\n"
    }
   },
   "outputs": [],
   "source": [
    "# Column data source\n",
    "source = bokeh.models.ColumnDataSource(\n",
    "    dict(x=ReinforcedVisits_Corner[\"Visits\"], y=ReinforcedVisits_Corner[\"Durations\"],\n",
    "         \n",
    "        )\n",
    ")\n",
    "\n",
    "# Add a column for colors; for now, all bokeh's default blue\n",
    "source.data[\"color\"] = [\"#1f77b3\"] * len(ReinforcedVisits_Corner)\n",
    "\n",
    "# Make the plot\n",
    "p = bokeh.plotting.figure(\n",
    "    frame_height=500,\n",
    "    frame_width=500,\n",
    "    x_axis_label=x_selector.value,\n",
    "    y_axis_label=y_selector.value,\n",
    ")\n",
    "\n",
    "# Populate glyphs\n",
    "circle = p.circle(source=source, x=\"x\", y=\"y\", color=\"color\", \n",
    "                  #legend_group=\"color\",\n",
    "                 )\n",
    "\n",
    "bokeh.io.show(p)"
   ]
  },
  {
   "cell_type": "code",
   "execution_count": null,
   "metadata": {
    "jupyter": {
     "outputs_hidden": false
    },
    "pycharm": {
     "name": "#%%\n"
    }
   },
   "outputs": [],
   "source": [
    "def gfmt_callback(attr, new, old):\n",
    "    \"\"\"Callback for updating plot of GMFT results.\"\"\"\n",
    "    # Update color column\n",
    "    if colorby_selector.value == \"none\":\n",
    "        source.data[\"color\"] = [\"#1f77b3\"] * len(ReinforcedVisits_Corner)\n",
    "        \n",
    "    elif colorby_selector.value == \"ObjectReinforced\":\n",
    "        source.data[\"color\"] = [\n",
    "            \"#1f77b3\" if objects == \"Blue\" else \"#ff7e0e\"\n",
    "            for objects in ReinforcedVisits_Corner[\"ObjectsReinforced\"]\n",
    "        ]\n",
    "        \n",
    "    elif colorby_selector.value == \"Training\":\n",
    "        source.data[\"color\"] = [\n",
    "            \"#1f77b3\" if Training == \"Trained\" else \"#ff7e0e\"\n",
    "            for Training in ReinforcedVisits_Corner[\"Training\"]\n",
    "        ]\n",
    "\n",
    "    elif colorby_selector.value == \"Fly\":\n",
    "        source.data[\"color\"] = [\n",
    "            \n",
    "            colors for flies in ReinforcedVisits_Corner[\"Fly\"].unique()\n",
    "        ]\n",
    "\n",
    "    # Update x-data and axis label\n",
    "    source.data[\"x\"] = ReinforcedVisits_Corner[x_selector.value]\n",
    "    p.xaxis.axis_label = x_selector.value\n",
    "\n",
    "    # Update x-data and axis label\n",
    "    source.data[\"y\"] = ReinforcedVisits_Corner[y_selector.value]\n",
    "    p.yaxis.axis_label = y_selector.value\n",
    "\n",
    "\n",
    "# Connect selectors to callback\n",
    "colorby_selector.on_change(\"value\", gfmt_callback)\n",
    "x_selector.on_change(\"value\", gfmt_callback)\n",
    "y_selector.on_change(\"value\", gfmt_callback)\n",
    "\n",
    "# Build the layout\n",
    "gfmt_layout = bokeh.layouts.row(\n",
    "    p,\n",
    "    bokeh.layouts.Spacer(width=15),\n",
    "    bokeh.layouts.column(\n",
    "        x_selector,\n",
    "        bokeh.layouts.Spacer(height=15),\n",
    "        y_selector,\n",
    "        bokeh.layouts.Spacer(height=15),\n",
    "        colorby_selector,\n",
    "    ),\n",
    ")"
   ]
  },
  {
   "cell_type": "code",
   "execution_count": null,
   "metadata": {
    "jupyter": {
     "outputs_hidden": false
    },
    "pycharm": {
     "name": "#%%\n"
    }
   },
   "outputs": [],
   "source": [
    "def gfmt_app(doc):\n",
    "    doc.add_root(gfmt_layout)\n",
    "\n",
    "bokeh.io.show(gfmt_app, notebook_url=notebook_url)"
   ]
  },
  {
   "cell_type": "code",
   "execution_count": null,
   "metadata": {
    "pycharm": {
     "name": "#%%\n"
    }
   },
   "outputs": [],
   "source": [
    "# Column data source\n",
    "source = bokeh.models.ColumnDataSource(\n",
    "    dict(x=ReinforcedVisits_Corner[\"Visits\"],\n",
    "         y=ReinforcedVisits_Corner[\"Durations\"],\n",
    "         Fly=ReinforcedVisits_Corner['Fly'],\n",
    "         Training=ReinforcedVisits_Corner['Training'],\n",
    "         ObjectsReinforced=ReinforcedVisits_Corner['ObjectsReinforced']\n",
    "         \n",
    "        )\n",
    ")\n",
    "\n",
    "# Add a column for colors; for now, all bokeh's default blue\n",
    "source.data[\"color\"] = [\"#1f77b3\"] * len(ReinforcedVisits_Corner)\n",
    "\n",
    "source.data[\"color\"]"
   ]
  },
  {
   "cell_type": "code",
   "execution_count": null,
   "metadata": {
    "pycharm": {
     "name": "#%%\n"
    }
   },
   "outputs": [],
   "source": [
    "# Make the plot\n",
    "p = bokeh.plotting.figure(\n",
    "    frame_height=500,\n",
    "    frame_width=500,\n",
    "    x_axis_label=x_selector.value,\n",
    "    y_axis_label=y_selector.value,\n",
    ")\n",
    "\n",
    "# Populate glyphs\n",
    "circle = p.circle(source=source, x=\"x\", y=\"y\", color=\"color\",\n",
    "                  #legend_group=\"color\",\n",
    "                 )\n",
    "\n",
    "bokeh.io.show(p)"
   ]
  },
  {
   "cell_type": "code",
   "execution_count": null,
   "metadata": {
    "pycharm": {
     "name": "#%%\n"
    }
   },
   "outputs": [],
   "source": [
    "from bokeh.palettes import Category10\n",
    "import itertools\n",
    "\n",
    "colors = itertools.cycle(Category10[10])\n",
    "\n",
    "colors\n",
    "\n",
    "def color_gen():\n",
    "    yield from itertools.cycle(Category10[10])\n",
    "color = color_gen()"
   ]
  },
  {
   "cell_type": "code",
   "execution_count": null,
   "metadata": {
    "pycharm": {
     "name": "#%%\n"
    }
   },
   "outputs": [],
   "source": [
    "Flycolors = []\n",
    "\n",
    "for fly, c in zip(ReinforcedVisits_Corner[\"Fly\"].unique(), color):\n",
    "    Flycolors.append(c)\n",
    "\n",
    "Flycolors\n",
    "#colors = colorgen() for flies in ReinforcedVisit[\"Fly\"]"
   ]
  },
  {
   "cell_type": "code",
   "execution_count": null,
   "metadata": {
    "pycharm": {
     "name": "#%%\n"
    }
   },
   "outputs": [],
   "source": [
    "Fly = ReinforcedVisits_Corner['Fly'].astype('string').unique().tolist()\n"
   ]
  },
  {
   "cell_type": "code",
   "execution_count": null,
   "metadata": {
    "pycharm": {
     "name": "#%%\n"
    }
   },
   "outputs": [],
   "source": [
    "\n",
    "source.data['color'] = bokeh.transform.factor_cmap(source.data['color'], palette=bokeh.palettes.Viridis256, factors=Fly)"
   ]
  },
  {
   "cell_type": "code",
   "execution_count": null,
   "metadata": {
    "pycharm": {
     "name": "#%%\n"
    }
   },
   "outputs": [],
   "source": [
    "source.data[\"color\"] = index_cmap"
   ]
  },
  {
   "cell_type": "code",
   "execution_count": null,
   "metadata": {
    "pycharm": {
     "name": "#%%\n"
    }
   },
   "outputs": [],
   "source": [
    "p = bokeh.plotting.figure(\n",
    "    frame_height=500,\n",
    "    frame_width=500,\n",
    "    x_axis_label=x_selector.value,\n",
    "    y_axis_label=y_selector.value,\n",
    ")\n",
    "\n",
    "# Populate glyphs\n",
    "circle = p.circle(source=source, x=\"x\", y=\"y\", color=index_cmap,\n",
    "                  #legend_group=\"color\",\n",
    "                 )\n",
    "\n",
    "bokeh.io.show(p)"
   ]
  },
  {
   "cell_type": "code",
   "execution_count": null,
   "metadata": {
    "pycharm": {
     "name": "#%%\n"
    }
   },
   "outputs": [],
   "source": [
    "source.data[\"color\"] = [\n",
    "            \"#1f77b3\" if objects == \"Blue\" else \"#ff7e0e\"\n",
    "            for objects in ReinforcedVisits_Corner[\"ObjectsReinforced\"]\n",
    "        ]\n",
    "\n",
    "source.data[\"color\"]"
   ]
  },
  {
   "cell_type": "code",
   "execution_count": null,
   "metadata": {
    "pycharm": {
     "name": "#%%\n"
    }
   },
   "outputs": [],
   "source": [
    "p = bokeh.plotting.figure(\n",
    "    frame_height=500,\n",
    "    frame_width=500,\n",
    "    x_axis_label=x_selector.value,\n",
    "    y_axis_label=y_selector.value,\n",
    "    tooltips=[('fly', '@{Fly}'),\n",
    "              ('Training state', '@Training'),\n",
    "              ('Object reinforced', '@ObjectsReinforced')\n",
    "             ],\n",
    ")\n",
    "\n",
    "# Populate glyphs\n",
    "circle = p.circle(source=source, x=\"x\", y=\"y\", color=\"color\",\n",
    "                  #legend_group=\"color\",\n",
    "                 )\n",
    "\n",
    "bokeh.io.show(p)"
   ]
  },
  {
   "cell_type": "code",
   "execution_count": null,
   "metadata": {
    "pycharm": {
     "name": "#%%\n"
    }
   },
   "outputs": [],
   "source": [
    "Categories = TimeMelted[\"Condition\"].unique().tolist() + ['All']"
   ]
  }
 ],
 "metadata": {
  "kernelspec": {
   "display_name": "Python 3 (ipykernel)",
   "language": "python",
   "name": "python3"
  },
  "language_info": {
   "codemirror_mode": {
    "name": "ipython",
    "version": 3
   },
   "file_extension": ".py",
   "mimetype": "text/x-python",
   "name": "python",
   "nbconvert_exporter": "python",
   "pygments_lexer": "ipython3",
   "version": "3.10.4"
  }
 },
 "nbformat": 4,
 "nbformat_minor": 4
}
