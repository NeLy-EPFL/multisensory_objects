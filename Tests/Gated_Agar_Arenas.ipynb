{
 "cells": [
  {
   "cell_type": "code",
   "execution_count": null,
   "metadata": {
    "pycharm": {
     "name": "#%%\n"
    }
   },
   "outputs": [],
   "source": [
    "import pandas as pd\n",
    "import seaborn as sns\n",
    "import matplotlib.pyplot as plt\n",
    "import numpy as np\n",
    "\n",
    "import iqplot\n",
    "\n",
    "import bokeh.io\n",
    "import bokeh.models\n",
    "import bokeh.plotting\n",
    "import ast\n",
    "bokeh.io.output_notebook()"
   ]
  },
  {
   "cell_type": "code",
   "execution_count": null,
   "metadata": {
    "pycharm": {
     "name": "#%%\n"
    }
   },
   "outputs": [],
   "source": [
    "Data = pd.read_csv('/Volumes/Ramdya-Lab/DURRIEU_Matthias/Experimental_data/MultiSensory_Project/GatedArenas_Agar/Results/DataSetNew.csv')\n",
    "Data.head()"
   ]
  },
  {
   "cell_type": "code",
   "execution_count": null,
   "metadata": {
    "pycharm": {
     "name": "#%%\n"
    }
   },
   "outputs": [],
   "source": [
    "#Data['Face Right']\n",
    "\n",
    "Data_nostarve = Data[((Data['Training'] == 'Trained') & (Data['Starvation'] == 'Not starved')) | (Data['Training'] == 'Ctrl') ]\n",
    "Data_nostarve.head()"
   ]
  },
  {
   "cell_type": "code",
   "execution_count": null,
   "metadata": {
    "pycharm": {
     "name": "#%%\n"
    }
   },
   "outputs": [],
   "source": [
    "#AutoData.columns=AutoData.columns.droplevel(0)\n",
    "Melted = pd.melt(Data_nostarve,\n",
    "                 id_vars=['Training', 'Starvation','Reinforced_side'],\n",
    "                 value_name = 'Count',\n",
    "                 value_vars=['Peeks Left', 'Peeks Right', 'Peeks Top', 'Long Peeks Left', 'Long Peeks Right', 'Long Peeks Top','Face Left', 'Face Right', 'Face Top'],\n",
    "                 var_name='Type')"
   ]
  },
  {
   "cell_type": "code",
   "execution_count": null,
   "metadata": {
    "pycharm": {
     "name": "#%%\n"
    }
   },
   "outputs": [],
   "source": [
    "Melted"
   ]
  },
  {
   "cell_type": "code",
   "execution_count": null,
   "metadata": {
    "pycharm": {
     "name": "#%%\n"
    }
   },
   "outputs": [],
   "source": [
    "conditions = [\n",
    "    (Melted['Type'].str.contains('Long')),\n",
    "    (Melted['Type'].str.contains('Face')),\n",
    "    (('Long' not in Melted['Type']) & ('Face' not in Melted['Type'])) # This is not really working but still gives expected result\n",
    "]\n",
    "\n",
    "values = ['Squeeze', 'Fronts', 'Peeks']\n",
    "Melted['Beh'] = np.select(conditions,values)\n",
    "Melted.head()"
   ]
  },
  {
   "cell_type": "code",
   "execution_count": null,
   "metadata": {
    "pycharm": {
     "name": "#%%\n"
    }
   },
   "outputs": [],
   "source": [
    "conditions = [\n",
    "    (Melted['Reinforced_side'].str.contains('Right') & (Melted['Type'].str.contains('Right'))),\n",
    "    (Melted['Reinforced_side'].str.contains('Left') & (Melted['Type'].str.contains('Left'))),\n",
    "    (Melted['Reinforced_side'].str.contains('Right') & (Melted['Type'].str.contains('Left'))),\n",
    "    (Melted['Reinforced_side'].str.contains('Left') & (Melted['Type'].str.contains('Right'))),\n",
    "    (Melted['Type'].str.contains('Top')),\n",
    "]\n",
    "\n",
    "values = ['Rewarded Side', 'Rewarded Side', 'Punished Side', 'Punished Side', 'Empty Side']\n",
    "Melted['Condition'] = np.select(conditions,values)\n",
    "Melted.head()"
   ]
  },
  {
   "cell_type": "code",
   "execution_count": null,
   "metadata": {
    "pycharm": {
     "name": "#%%\n"
    }
   },
   "outputs": [],
   "source": [
    "conditions = [\n",
    "    (Melted['Training'].str.contains('Trained') & (Melted['Starvation'].str.contains('Overnight'))),\n",
    "    (Melted['Training'].str.contains('Trained') & (Melted['Starvation'].str.contains('Not'))),\n",
    "    (Melted['Training'].str.contains('Ctrl') & (Melted['Starvation'].str.contains('Overnight'))),\n",
    "    (Melted['Training'].str.contains('Ctrl') & (Melted['Starvation'].str.contains('Not'))),\n",
    "\n",
    "]\n",
    "\n",
    "values = ['Trained Starved', 'Trained', 'Control Starved', 'Control']\n",
    "Melted['Training_State'] = np.select(conditions,values)\n",
    "Melted.head()"
   ]
  },
  {
   "cell_type": "code",
   "execution_count": null,
   "metadata": {
    "pycharm": {
     "name": "#%%\n"
    }
   },
   "outputs": [],
   "source": [
    "g=sns.catplot(x='Condition', y = 'Count',\n",
    "            hue='Training_State', showfliers = False,\n",
    "            col='Beh',\n",
    "            kind=\"box\",\n",
    "            #row='Starvation',\n",
    "            data= Melted)\n",
    "g.map_dataframe(sns.stripplot,x='Condition', y = 'Count',\n",
    "            hue='Training_State', dodge=True,\n",
    "            palette=[\"#404040\"])\n",
    "plt.show"
   ]
  },
  {
   "cell_type": "code",
   "execution_count": null,
   "metadata": {
    "pycharm": {
     "name": "#%%\n"
    }
   },
   "outputs": [],
   "source": [
    "Melted.Training_State = pd.Categorical(Melted.Training_State,\n",
    "                                        categories=['Control Starved', 'Trained', ],\n",
    "                                        ordered=True)"
   ]
  },
  {
   "cell_type": "code",
   "execution_count": null,
   "metadata": {
    "pycharm": {
     "name": "#%%\n"
    }
   },
   "outputs": [],
   "source": [
    "sns.set(font_scale=1)\n",
    "g=sns.catplot(x='Condition', y = 'Count',\n",
    "            hue='Training_State', showfliers = False,\n",
    "            col='Beh',\n",
    "            kind=\"box\",\n",
    "            #row='Starvation',\n",
    "            data= Melted)\n",
    "g.map_dataframe(sns.stripplot,x='Condition', y = 'Count',\n",
    "            hue='Training_State', dodge=True,\n",
    "            palette=[\"#404040\"])\n",
    "plt.show\n",
    "\n",
    "plt.savefig('/Volumes/Ramdya-Lab/DURRIEU_Matthias/Experimental_data/MultiSensory_Project/GatedArenas_Agar/Results/Plots/220722_BehaviorPlot.png')"
   ]
  },
  {
   "cell_type": "code",
   "execution_count": null,
   "metadata": {
    "pycharm": {
     "name": "#%%\n"
    }
   },
   "outputs": [],
   "source": [
    "x = 'Condition'\n",
    "y = 'Count'\n",
    "p = bokeh.plotting.figure(\n",
    "    frame_width=400,\n",
    "    frame_height=300,\n",
    "    x_axis_label=x,\n",
    "    y_axis_label=y,\n",
    ")\n",
    "\n",
    "p.box"
   ]
  },
  {
   "cell_type": "code",
   "execution_count": null,
   "metadata": {
    "pycharm": {
     "name": "#%%\n"
    }
   },
   "outputs": [],
   "source": [
    "\n",
    "\n",
    "p = iqplot.box(\n",
    "    data=Data,\n",
    "    q=\"Count\",\n",
    "    cats=\"Condition\",\n",
    ")\n",
    "\n",
    "bokeh.io.show(p)\n"
   ]
  },
  {
   "cell_type": "code",
   "execution_count": null,
   "metadata": {
    "pycharm": {
     "name": "#%%\n"
    }
   },
   "outputs": [],
   "source": [
    "for behaviours in np.unique(Melted.Beh):\n",
    "\n",
    "    print (behaviours)\n",
    "\n",
    "    p = iqplot.ecdf(\n",
    "        data=Melted[Melted.Beh == behaviours],\n",
    "        q='Count',\n",
    "        style='staircase',\n",
    "        cats='Training_State',\n",
    "        #show_legend=False,\n",
    "        conf_int= True,\n",
    "    )\n",
    "\n",
    "    bokeh.io.show(p)"
   ]
  },
  {
   "cell_type": "code",
   "execution_count": null,
   "metadata": {
    "pycharm": {
     "name": "#%%\n"
    }
   },
   "outputs": [],
   "source": [
    "Grouped = Melted.groupby(Melted.Beh)"
   ]
  },
  {
   "cell_type": "code",
   "execution_count": null,
   "metadata": {
    "pycharm": {
     "name": "#%%\n"
    }
   },
   "outputs": [],
   "source": [
    "for behaviours in np.unique(Melted.Beh):\n",
    "\n",
    "    print (behaviours)\n",
    "    p = iqplot.stripbox(\n",
    "        data=Melted[Melted.Beh == behaviours],\n",
    "        q='Count',\n",
    "        #style='staircase',\n",
    "        cats='Training_State',\n",
    "        #show_legend=False,\n",
    "        box_kwargs=dict(line_width=2),\n",
    "        whisker_kwargs=dict(line_width=2),\n",
    "        jitter= True,\n",
    "\n",
    "    )\n",
    "\n",
    "    bokeh.io.show(p)"
   ]
  },
  {
   "cell_type": "code",
   "execution_count": null,
   "metadata": {
    "pycharm": {
     "name": "#%%\n"
    }
   },
   "outputs": [],
   "source": [
    "np.unique(Melted.Beh)"
   ]
  },
  {
   "cell_type": "code",
   "execution_count": null,
   "metadata": {
    "pycharm": {
     "name": "#%%\n"
    }
   },
   "outputs": [],
   "source": [
    "Data['Peekings_Left'] = sum(1 for i in Data['Durations_Corner_Left'] if i > param)"
   ]
  },
  {
   "cell_type": "code",
   "execution_count": null,
   "metadata": {
    "pycharm": {
     "name": "#%%\n"
    }
   },
   "outputs": [],
   "source": [
    "Peekparam = 80\n",
    "SqueezeParam = 160\n",
    "\n",
    "for index, row in Data.iterrows():\n",
    "    #print (row['Durations Left Corner'])\n",
    "\n",
    "    #print (1 for i in row['Durations Left Corner'])\n",
    "    Data.loc[index,\"Peeks Left\"] = sum(1 for i in ast.literal_eval(row['Durations Left Corner']) if i > Peekparam)\n",
    "    Data.loc[index,\"Squeeze Left\"] = sum(1 for i in ast.literal_eval(row['Durations Left Corner']) if i > SqueezeParam)\n",
    "    #Data_noWater_Simple['Peeks Left'][rows]= sum(1 for i in Data['Durations Left Corner'][rows] if i > param)\n",
    "    Data.loc[index,\"Peeks Right\"] = sum(1 for i in ast.literal_eval(row['Durations Right Corner']) if i > Peekparam)\n",
    "    Data.loc[index,\"Squeeze Right\"] = sum(1 for i in ast.literal_eval(row['Durations Right Corner']) if i > SqueezeParam)\n",
    "    Data.loc[index,\"Peeks Top\"] = sum(1 for i in ast.literal_eval(row['Durations Top Corner']) if i > Peekparam)\n",
    "    Data.loc[index,\"Squeeze Top\"] = sum(1 for i in ast.literal_eval(row['Durations Top Corner']) if i > SqueezeParam)\n",
    "\n",
    "       # Data_noWater_Simple.apply(sum(1 for i in Data['Durations Left Corner'] if i > param) for elements in Data['Durations Left Corner'])\n",
    "#Data_noWater_Simple['Peeks Left']"
   ]
  },
  {
   "cell_type": "code",
   "execution_count": null,
   "metadata": {
    "pycharm": {
     "name": "#%%\n"
    }
   },
   "outputs": [],
   "source": [
    "Melted = pd.melt(Data,\n",
    "                 id_vars=['Training', 'ObjectsReinforced','Reinforced_side',\n",
    "                          'Fly', 'Date'],\n",
    "                 value_name = 'Count',\n",
    "                 value_vars=['Peeks Left', 'Peeks Right', 'Peeks Top', 'Squeeze Left', 'Squeeze Right', 'Squeeze Top'],\n",
    "                 var_name='Type')"
   ]
  },
  {
   "cell_type": "code",
   "execution_count": null,
   "metadata": {
    "pycharm": {
     "name": "#%%\n"
    }
   },
   "outputs": [],
   "source": [
    "conditions = [\n",
    "    (Melted['Reinforced_side'].str.contains('Right') & (Melted['Type'].str.contains('Right'))),\n",
    "    (Melted['Reinforced_side'].str.contains('Left') & (Melted['Type'].str.contains('Left'))),\n",
    "    (Melted['Reinforced_side'].str.contains('Right') & (Melted['Type'].str.contains('Left'))),\n",
    "    (Melted['Reinforced_side'].str.contains('Left') & (Melted['Type'].str.contains('Right'))),\n",
    "    (Melted['Type'].str.contains('Top')),\n",
    "]\n",
    "\n",
    "values = ['Rewarded', 'Rewarded', 'Punished', 'Punished', 'Empty']\n",
    "Melted['Condition'] = np.select(conditions,values)\n",
    "#Melted.head()\n",
    "\n",
    "conditions = [\n",
    "    (Melted['Type'].str.contains('Peeks')),\n",
    "    (Melted['Type'].str.contains('Squeeze')),\n",
    "]\n",
    "\n",
    "values = ['Peeking', 'Squeezing',]\n",
    "Melted['Beh'] = np.select(conditions,values)\n",
    "#Melted.head()"
   ]
  },
  {
   "cell_type": "code",
   "execution_count": null,
   "metadata": {
    "pycharm": {
     "name": "#%%\n"
    }
   },
   "outputs": [],
   "source": [
    "sns.set(font_scale=1.5)\n",
    "\n",
    "g=sns.catplot(x='Condition', y = 'Count',\n",
    "            hue='Training', showfliers = False,\n",
    "            col='Beh',\n",
    "            kind=\"box\",\n",
    "            #row='Starvation',\n",
    "            data= Melted)\n",
    "g.map_dataframe(sns.stripplot,x='Condition', y = 'Count',\n",
    "            hue='Training', dodge=True,\n",
    "            palette=[\"#404040\"])\n",
    "plt.show\n",
    "\n",
    "plt.savefig('/Volumes/Ramdya-Lab/DURRIEU_Matthias/Experimental_data/MultiSensory_Project/GatedArenas_Agar/Results/AutoPlot.png')"
   ]
  },
  {
   "cell_type": "code",
   "execution_count": null,
   "metadata": {
    "pycharm": {
     "name": "#%%\n"
    }
   },
   "outputs": [],
   "source": [
    "sns.set(font_scale=1.5)\n",
    "\n",
    "g=sns.catplot(x='Condition', y = 'Count',\n",
    "            hue='Training', showfliers = False,\n",
    "            col='Beh', row='ObjectsReinforced',\n",
    "            kind=\"box\",\n",
    "            #row='Starvation',\n",
    "            data= Melted)\n",
    "g.map_dataframe(sns.stripplot,x='Condition', y = 'Count',\n",
    "            hue='Training', dodge=True,\n",
    "            palette=[\"#404040\"])\n",
    "plt.show"
   ]
  }
 ],
 "metadata": {
  "kernelspec": {
   "display_name": "Python 3",
   "language": "python",
   "name": "python3"
  },
  "language_info": {
   "codemirror_mode": {
    "name": "ipython",
    "version": 2
   },
   "file_extension": ".py",
   "mimetype": "text/x-python",
   "name": "python",
   "nbconvert_exporter": "python",
   "pygments_lexer": "ipython2",
   "version": "2.7.6"
  }
 },
 "nbformat": 4,
 "nbformat_minor": 0
}
