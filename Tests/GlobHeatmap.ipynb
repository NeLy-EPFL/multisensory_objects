{
 "cells": [
  {
   "cell_type": "code",
   "execution_count": null,
   "metadata": {
    "pycharm": {
     "name": "#%%\n"
    }
   },
   "outputs": [],
   "source": [
    "from pathlib import Path\n",
    "import pandas as pd\n",
    "import matplotlib.pyplot as plt\n"
   ]
  },
  {
   "cell_type": "code",
   "execution_count": null,
   "metadata": {
    "pycharm": {
     "name": "#%%\n"
    }
   },
   "outputs": [],
   "source": [
    "\n",
    "DataPath = Path ('/Volumes/Ramdya-Lab/DURRIEU_Matthias/Experimental_data/MultiSensory_Project/GatedArenas')\n",
    "Filters = ['Results', 'BadExp', 'Starved_Water']\n",
    "\n",
    "Files = [path for path in DataPath.rglob('*.csv') if any(match in path.as_posix() for match in Filters) is False]\n",
    "\n"
   ]
  },
  {
   "cell_type": "code",
   "execution_count": null,
   "metadata": {
    "pycharm": {
     "name": "#%%\n"
    }
   },
   "outputs": [],
   "source": [
    "Df = list()\n",
    "Flycount = 0\n",
    "for file in Files:\n",
    "        print (file.as_posix())\n",
    "        data = pd.read_csv(file)\n",
    "        data['Side'] = 'Left' if 'LeftRew' in file.as_posix() else 'Right'\n",
    "        Flycount+=1\n",
    "        data['Fly'] = Flycount\n",
    "        data['Training'] = 'Trained' if 'Trained' in file.as_posix() else 'Control'\n",
    "        middlex =(( max(data.pos_x) - min(data.pos_x) ) / 2) + min(data.pos_x)\n",
    "        data['ReverseX'] = 0\n",
    "        for frame in data.frame:\n",
    "            data['ReverseX'].loc[data.frame == frame] = data['pos_x'].loc[data.frame == frame] \\\n",
    "                                                        + (2*(middlex-data['pos_x'].loc[data.frame == frame]))\n",
    "        Df.append(data)\n",
    "\n",
    "Dataframe = pd.concat(Df, ignore_index=True)"
   ]
  },
  {
   "cell_type": "code",
   "execution_count": null,
   "metadata": {
    "pycharm": {
     "name": "#%%\n"
    }
   },
   "outputs": [],
   "source": [
    "import numpy as np\n",
    "#df['Normalized'] = np.where(df['Currency'] == '$', df['Budget'] * 0.78125, df['Budget'])\n",
    "Dataframe['TrueX'] = np.where(Dataframe.Side == \"Left\", Dataframe['pos_x'], Dataframe['ReverseX'])\n",
    "\n",
    "\n",
    "#Dataframe.loc['TrueX'] = Dataframe['pos_x'] if Dataframe['Side'] == 'Left' else Dataframe['ReverseX']"
   ]
  },
  {
   "cell_type": "code",
   "execution_count": null,
   "metadata": {
    "pycharm": {
     "name": "#%%\n"
    }
   },
   "outputs": [],
   "source": [
    "HeatTest = pd.read_csv('/Volumes/Ramdya-Lab/DURRIEU_Matthias/Experimental_data/MultiSensory_Project/GatedArenas/220304_LeftRew_BlueRew/Trained/Starved_noWater/220304/112821_s0a0_p0-0/Trained_Starved_noWater_p0-0_80fps_Trimmed_tracked.csv')"
   ]
  },
  {
   "cell_type": "code",
   "execution_count": null,
   "metadata": {
    "pycharm": {
     "name": "#%%\n"
    }
   },
   "outputs": [],
   "source": [
    "middlex =(( max(HeatTest.pos_x) - min(HeatTest.pos_x) ) / 2) + min(HeatTest.pos_x)\n",
    "\n",
    "for frame in HeatTest.frame:\n",
    "    HeatTest['ReverseX'][HeatTest.frame == frame] = HeatTest['pos_x'][HeatTest.frame == frame] + (2*(middlex-HeatTest['pos_x'][HeatTest.frame == frame]))"
   ]
  },
  {
   "cell_type": "code",
   "execution_count": null,
   "metadata": {
    "pycharm": {
     "name": "#%%\n"
    }
   },
   "outputs": [],
   "source": [
    "plt.figure(figsize=(5, 5))\n",
    "plt.hist2d(HeatTest['pos_x'], HeatTest['pos_y'], bins=30)\n",
    "plt.xlabel('X', fontsize=16)\n",
    "plt.ylabel('Y', fontsize=16)\n",
    "plt.gca().invert_yaxis()\n",
    "\n",
    "plt.tight_layout()\n"
   ]
  },
  {
   "cell_type": "code",
   "execution_count": null,
   "metadata": {
    "pycharm": {
     "name": "#%%\n"
    }
   },
   "outputs": [],
   "source": [
    "plt.figure(figsize=(5, 5))\n",
    "plt.hist2d(HeatTest['ReverseX'], HeatTest['pos_y'], bins=30)\n",
    "plt.xlabel('X', fontsize=16)\n",
    "plt.ylabel('Y', fontsize=16)\n",
    "plt.gca().invert_yaxis()\n",
    "\n",
    "plt.tight_layout()\n"
   ]
  },
  {
   "cell_type": "code",
   "execution_count": null,
   "metadata": {
    "pycharm": {
     "name": "#%%\n"
    }
   },
   "outputs": [],
   "source": [
    "min(HeatTest.pos_x)"
   ]
  },
  {
   "cell_type": "code",
   "execution_count": null,
   "metadata": {
    "pycharm": {
     "name": "#%%\n"
    }
   },
   "outputs": [],
   "source": [
    "421 - 184"
   ]
  },
  {
   "cell_type": "code",
   "execution_count": null,
   "metadata": {
    "pycharm": {
     "name": "#%%\n"
    }
   },
   "outputs": [],
   "source": [
    "421+237"
   ]
  },
  {
   "cell_type": "code",
   "execution_count": null,
   "metadata": {
    "pycharm": {
     "name": "#%%\n"
    }
   },
   "outputs": [],
   "source": [
    "import matplotlib as mpl\n",
    "Trained = Dataframe[Dataframe.Training==\"Trained\"]\n",
    "\n",
    "plt.figure(figsize=(5, 5))\n",
    "plt.hist2d(Trained['TrueX'], Trained['pos_y'], bins=30, cmap='viridis', norm=mpl.colors.LogNorm(),)\n",
    "plt.xlabel('X', fontsize=16)\n",
    "plt.ylabel('Y', fontsize=16)\n",
    "plt.gca().invert_yaxis()\n",
    "\n",
    "plt.tight_layout()"
   ]
  },
  {
   "cell_type": "code",
   "execution_count": null,
   "metadata": {
    "pycharm": {
     "name": "#%%\n"
    }
   },
   "outputs": [],
   "source": [
    "Controls = Dataframe[Dataframe.Training==\"Control\"]\n",
    "\n",
    "plt.figure(figsize=(5, 5))\n",
    "plt.hist2d(Controls['TrueX'], Controls['pos_y'], bins=30, cmap='viridis', norm=mpl.colors.LogNorm(),)\n",
    "plt.xlabel('X', fontsize=16)\n",
    "plt.ylabel('Y', fontsize=16)\n",
    "plt.gca().invert_yaxis()\n",
    "\n",
    "plt.tight_layout()"
   ]
  }
 ],
 "metadata": {
  "kernelspec": {
   "display_name": "Python 3",
   "language": "python",
   "name": "python3"
  },
  "language_info": {
   "codemirror_mode": {
    "name": "ipython",
    "version": 2
   },
   "file_extension": ".py",
   "mimetype": "text/x-python",
   "name": "python",
   "nbconvert_exporter": "python",
   "pygments_lexer": "ipython2",
   "version": "2.7.6"
  }
 },
 "nbformat": 4,
 "nbformat_minor": 0
}
