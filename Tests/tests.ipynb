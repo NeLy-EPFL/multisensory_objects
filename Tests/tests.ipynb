{
 "cells": [
  {
   "cell_type": "code",
   "execution_count": null,
   "metadata": {},
   "outputs": [],
   "source": [
    "#Move a file called bidule to a new folder, if bidule already exists in the new folder, rename the new file as bidule_1\n",
    " \n",
    "import os\n",
    "import shutil\n",
    "import glob\n",
    "\n",
    "def move_file_to_folder(file, folder):\n",
    "    if not os.path.exists(folder):\n",
    "        os.makedirs(folder)\n",
    "    if os.path.exists(folder + '/' + file):\n",
    "        i = 1\n",
    "        while os.path.exists(folder + '/' + file + '_' + str(i)):\n",
    "            i += 1\n",
    "        shutil.move(file, folder + '/' + file + '_' + str(i))\n",
    "    else:\n",
    "        shutil.move(file, folder + '/' + file)\n",
    "        \n",
    "# Rewrite the above function using pathlib instead of os and shutil\n",
    "\n",
    "from pathlib import Path\n",
    "\n",
    "def move_file_to_folder(file, folder):\n",
    "    folder = Path(folder)\n",
    "    folder.mkdir(parents=True, exist_ok=True)\n",
    "    file = Path(file)\n",
    "    if (folder / file).exists():\n",
    "        i = 1\n",
    "        while (folder / (file.stem + '_' + str(i) + file.suffix)).exists():\n",
    "            i += 1\n",
    "        file.rename(folder / (file.stem + '_' + str(i) + file.suffix))\n",
    "    else:\n",
    "        file.rename(folder / file)\n",
    "        \n"
   ]
  },
  {
   "cell_type": "code",
   "execution_count": null,
   "metadata": {},
   "outputs": [],
   "source": [
    "# Download completed\n",
    "exe_path = sys.executable\n",
    "\n",
    "exe_name = Path(exe_path).name\n",
    "\n",
    "current_dir = Path(exe_path).parent\n",
    "old_exe_dir = Path(current_dir / 'old_launcher')\n",
    "Path(old_exe_dir / 'launcher.exe').unlink(missing_ok=True)\n",
    "Path(old_exe_dir).mkdir(parents=True, exist_ok=True)\n",
    "\n",
    "if not Path(old_exe_dir / exe_name).exists():\n",
    "    shutil.move(exe_path, old_exe_dir )\n",
    "    move(self.downloaded_file, exe_path)\n",
    "    subprocess.Popen([exe_path])\n",
    "else:\n",
    "    move_file_to_folder(exe_name, old_exe_dir)\n",
    "    move_file_to_folder(self.downloaded_file, current_dir)\n",
    "    subprocess.Popen([exe_path])\n",
    "move(exe_path, old_exe_dir )\n",
    "move(self.downloaded_file, exe_path)\n",
    "subprocess.Popen([exe_path])"
   ]
  }
 ],
 "metadata": {
  "kernelspec": {
   "display_name": "TrackingAnalysis",
   "language": "python",
   "name": "python3"
  },
  "language_info": {
   "codemirror_mode": {
    "name": "ipython",
    "version": 3
   },
   "file_extension": ".py",
   "mimetype": "text/x-python",
   "name": "python",
   "nbconvert_exporter": "python",
   "pygments_lexer": "ipython3",
   "version": "3.10.4"
  },
  "vscode": {
   "interpreter": {
    "hash": "a10dcd6c5ba4f841b08c213cb10df2391c63c1275edb19c558150bb17ce2d2c0"
   }
  }
 },
 "nbformat": 4,
 "nbformat_minor": 2
}
