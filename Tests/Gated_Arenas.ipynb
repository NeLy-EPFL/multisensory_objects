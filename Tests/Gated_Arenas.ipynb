{
 "cells": [
  {
   "cell_type": "code",
   "execution_count": null,
   "metadata": {
    "pycharm": {
     "name": "#%%\n"
    }
   },
   "outputs": [],
   "source": [
    "import pandas as pd\n",
    "import seaborn as sns\n",
    "import matplotlib.pyplot as plt\n",
    "import numpy as np\n",
    "import ast\n",
    "import itertools\n",
    "\n",
    "import iqplot\n",
    "\n",
    "import bokeh.io\n",
    "import bokeh.models\n",
    "import bokeh.plotting\n",
    "import ast\n",
    "import holoviews as hv\n",
    "import colorcet\n",
    "bokeh.io.output_notebook()\n",
    "hv.extension('bokeh')"
   ]
  },
  {
   "cell_type": "code",
   "execution_count": null,
   "metadata": {
    "pycharm": {
     "name": "#%%\n"
    }
   },
   "outputs": [],
   "source": [
    "ManData = pd.read_csv(\"/Volumes/Ramdya-Lab/DURRIEU_Matthias/Experimental_data/MultiSensory_Project/GatedArenas/Results/Gated_arenas_Beh_manual_All.csv\")\n",
    "ManData.head()\n",
    "\n",
    "ManDatanoW = ManData.loc[ManData['Test']=='Starved_noWater']\n",
    "ManDatanoW = ManDatanoW.loc[ManData['Behaviour'] != 'LPeeking']\n",
    "ManDatanoW=ManDatanoW.loc[ManDatanoW['Behaviour'] != 'looping']\n",
    "\n",
    "conditions = [\n",
    "    (ManDatanoW['Gate'].str.contains('Left')),\n",
    "    (ManDatanoW['Gate'].str.contains('Right')),\n",
    "    (ManDatanoW['Gate'].str.contains('Top'))\n",
    "]\n",
    "\n",
    "values = ['Rewarded side', 'Punished side', 'Empty side']\n",
    "ManDatanoW['Condition'] = np.select(conditions,values)\n",
    "ManDatanoW.head()\n",
    "\n"
   ]
  },
  {
   "cell_type": "code",
   "execution_count": null,
   "metadata": {
    "pycharm": {
     "name": "#%%\n"
    }
   },
   "outputs": [],
   "source": [
    "sns.set(font_scale=1.5)\n",
    "\n",
    "g=sns.catplot(x='Count', y = 'Condition',\n",
    "            hue='Training', showfliers = False,\n",
    "            col='Behaviour',\n",
    "            kind=\"box\",\n",
    "            #row='Starvation',\n",
    "            data= ManDatanoW)\n",
    "g.map_dataframe(sns.stripplot,x='Count', y = 'Condition',\n",
    "            hue='Training', dodge=True,\n",
    "            palette=[\"#404040\"])\n",
    "g.set(\n",
    "      #xlabel=\"Relative time spent in 'rewarded' side\",\n",
    "      ylabel='',\n",
    "      #yticks=['Rewarded side', 'Punished side', 'Empty side'],\n",
    "      #xlim=(0,1),\n",
    "      #xticks=np.arange(0,1,0.1),\n",
    "      )\n",
    "\n",
    "plt.text(25, 3,\n",
    "         'n=7',\n",
    "         horizontalalignment='center',\n",
    "         verticalalignment='top',\n",
    "         )\n",
    "\n",
    "ax= g.axes\n",
    "ax[0][0].set_title('Peeking')\n",
    "ax[0][1].set_title('Squeezing')\n",
    "\n",
    "\n",
    "plt.show\n",
    "plt.savefig('/Volumes/Ramdya-Lab/DURRIEU_Matthias/Experimental_data/MultiSensory_Project/GatedArenas/Results/ManualPlot.png')"
   ]
  },
  {
   "cell_type": "code",
   "execution_count": null,
   "metadata": {
    "pycharm": {
     "name": "#%%\n"
    }
   },
   "outputs": [],
   "source": [
    "Data = pd.read_csv('/Volumes/Ramdya-Lab/DURRIEU_Matthias/Experimental_data/MultiSensory_Project/GatedArenas/Results/DataSetAugust22.csv')\n",
    "Data.head()"
   ]
  },
  {
   "cell_type": "code",
   "execution_count": null,
   "metadata": {
    "pycharm": {
     "name": "#%%\n"
    }
   },
   "outputs": [],
   "source": [
    "Data_noWater = Data[Data['Test Starvation'] == \"Overnight no Water\"]\n",
    "Data_noWater_Simple = Data_noWater[Data_noWater[\"Training Starvation\"] == \"Not starved\"]#.reset_index()"
   ]
  },
  {
   "cell_type": "code",
   "execution_count": null,
   "metadata": {
    "pycharm": {
     "name": "#%%\n"
    }
   },
   "outputs": [],
   "source": [
    "Data_noWater_Simple[\"Peeks Left\"] = [160] * len(Data_noWater_Simple)"
   ]
  },
  {
   "cell_type": "code",
   "execution_count": null,
   "metadata": {
    "pycharm": {
     "name": "#%%\n"
    }
   },
   "outputs": [],
   "source": [
    "Peekparam = 80\n",
    "SqueezeParam = 160\n",
    "\n",
    "for index, row in Data_noWater_Simple.iterrows():\n",
    "    #print (row['Durations Left Corner'])\n",
    "\n",
    "    #print (1 for i in row['Durations Left Corner'])\n",
    "    Data_noWater_Simple.loc[index,\"Peeks Left\"] = sum(1 for i in ast.literal_eval(row['Durations Left Corner']) if i > Peekparam)\n",
    "    Data_noWater_Simple.loc[index,\"Squeeze Left\"] = sum(1 for i in ast.literal_eval(row['Durations Left Corner']) if i > SqueezeParam)\n",
    "    #Data_noWater_Simple['Peeks Left'][rows]= sum(1 for i in Data['Durations Left Corner'][rows] if i > param)\n",
    "    Data_noWater_Simple.loc[index,\"Peeks Right\"] = sum(1 for i in ast.literal_eval(row['Durations Right Corner']) if i > Peekparam)\n",
    "    Data_noWater_Simple.loc[index,\"Squeeze Right\"] = sum(1 for i in ast.literal_eval(row['Durations Right Corner']) if i > SqueezeParam)\n",
    "    Data_noWater_Simple.loc[index,\"Peeks Top\"] = sum(1 for i in ast.literal_eval(row['Durations Top Corner']) if i > Peekparam)\n",
    "    Data_noWater_Simple.loc[index,\"Squeeze Top\"] = sum(1 for i in ast.literal_eval(row['Durations Top Corner']) if i > SqueezeParam)\n",
    "\n",
    "       # Data_noWater_Simple.apply(sum(1 for i in Data['Durations Left Corner'] if i > param) for elements in Data['Durations Left Corner'])\n",
    "#Data_noWater_Simple['Peeks Left']"
   ]
  },
  {
   "cell_type": "code",
   "execution_count": null,
   "metadata": {
    "pycharm": {
     "name": "#%%\n"
    }
   },
   "outputs": [],
   "source": [
    "Melted = pd.melt(Data_noWater_Simple,\n",
    "                 id_vars=['Training', 'ObjectsReinforced','Reinforced_side',\n",
    "                          'Fly', 'Date'],\n",
    "                 value_name = 'Count',\n",
    "                 value_vars=['Peeks Left', 'Peeks Right', 'Peeks Top', 'Squeeze Left', 'Squeeze Right', 'Squeeze Top'],\n",
    "                 var_name='Type')"
   ]
  },
  {
   "cell_type": "code",
   "execution_count": null,
   "metadata": {
    "pycharm": {
     "name": "#%%\n"
    }
   },
   "outputs": [],
   "source": [
    "conditions = [\n",
    "    (Melted['Reinforced_side'].str.contains('Right') & (Melted['Type'].str.contains('Right'))),\n",
    "    (Melted['Reinforced_side'].str.contains('Left') & (Melted['Type'].str.contains('Left'))),\n",
    "    (Melted['Reinforced_side'].str.contains('Right') & (Melted['Type'].str.contains('Left'))),\n",
    "    (Melted['Reinforced_side'].str.contains('Left') & (Melted['Type'].str.contains('Right'))),\n",
    "    (Melted['Type'].str.contains('Top')),\n",
    "]\n",
    "\n",
    "values = ['Rewarded Side', 'Rewarded Side', 'Punished Side', 'Punished Side', 'Empty Side']\n",
    "Melted['Condition'] = np.select(conditions,values)\n",
    "#Melted.head()\n",
    "\n",
    "conditions = [\n",
    "    (Melted['Type'].str.contains('Peeks')),\n",
    "    (Melted['Type'].str.contains('Squeeze')),\n",
    "]\n",
    "\n",
    "values = ['Peeking', 'Squeezing',]\n",
    "Melted['Beh'] = np.select(conditions,values)\n",
    "#Melted.head()"
   ]
  },
  {
   "cell_type": "code",
   "execution_count": null,
   "metadata": {
    "pycharm": {
     "name": "#%%\n"
    }
   },
   "outputs": [],
   "source": [
    "sns.set(font_scale=1.5)\n",
    "\n",
    "g=sns.catplot(x='Count', y = 'Condition',\n",
    "            hue='Training', showfliers = False,\n",
    "            col='Beh',\n",
    "            kind=\"box\",\n",
    "            #row='Starvation',\n",
    "            data= Melted)\n",
    "g.map_dataframe(sns.stripplot,x='Count', y = 'Condition',\n",
    "            hue='Training', dodge=True,\n",
    "            palette=[\"#404040\"])\n",
    "\n",
    "g.set(\n",
    "      #xlabel=\"Relative time spent in 'rewarded' side\",\n",
    "      ylabel='',\n",
    "      #yticks=[],\n",
    "      #xlim=(0,1),\n",
    "      #xticks=np.arange(0,1,0.1),\n",
    "      )\n",
    "\n",
    "plt.text(30, 3,\n",
    "         'n=30',\n",
    "         horizontalalignment='center',\n",
    "         verticalalignment='top',\n",
    "         )\n",
    "\n",
    "ax= g.axes\n",
    "ax[0][0].set_title('Peeking')\n",
    "ax[0][1].set_title('Squeezing')\n",
    "\n",
    "plt.show\n",
    "plt.savefig('/Volumes/Ramdya-Lab/DURRIEU_Matthias/Experimental_data/MultiSensory_Project/GatedArenas/Results/AutoPlot.png')"
   ]
  },
  {
   "cell_type": "code",
   "execution_count": null,
   "metadata": {
    "pycharm": {
     "name": "#%%\n"
    }
   },
   "outputs": [],
   "source": [
    "p_box = iqplot.stripbox(data=Data_noWater_Simple,\n",
    "                   q=\"Peeks Left\",\n",
    "                   cats=\"Training\",\n",
    "                   )\n",
    "\n",
    "bokeh.io.show(p_box)\n",
    "\n"
   ]
  },
  {
   "cell_type": "code",
   "execution_count": null,
   "metadata": {
    "pycharm": {
     "name": "#%%\n"
    }
   },
   "outputs": [],
   "source": [
    "source = bokeh.models.ColumnDataSource(\n",
    "    dict(\n",
    "        Training=Data_noWater_Simple[\"Training\"],\n",
    "        LCDurations=Data_noWater_Simple[\"Durations Left Corner\"],\n",
    "        LPeeks=Data_noWater_Simple[\"Peeks Left\"],\n",
    "    )\n",
    ")"
   ]
  },
  {
   "cell_type": "code",
   "execution_count": null,
   "metadata": {
    "pycharm": {
     "name": "#%%\n"
    }
   },
   "outputs": [],
   "source": [
    "s_box = iqplot.stripbox(data=source,\n",
    "                   q=source.data[\"LPeeks\"],\n",
    "                   cats=source.data[\"Training\"],\n",
    "                   )\n",
    "\n",
    "bokeh.io.show(s_box)"
   ]
  },
  {
   "cell_type": "code",
   "execution_count": null,
   "metadata": {
    "pycharm": {
     "name": "#%%\n"
    }
   },
   "outputs": [],
   "source": [
    "def no_ygrid_hook(plot, element):\n",
    "    \"\"\"Hook for disabling x-grid lines.\"\"\"\n",
    "    plot.handles[\"plot\"].ygrid.grid_line_color = None\n",
    "\n",
    "boxwhisker_opts = dict(\n",
    "    box_color=\"origin\",\n",
    "    box_line_color=\"white\",\n",
    "    box_line_width=1.5,\n",
    "    box_width=0.4,\n",
    "    cmap=colorcet.b_glasbey_category10,\n",
    "    frame_height=150,\n",
    "    frame_width=400,\n",
    "    hooks=[no_ygrid_hook],\n",
    "    invert_axes=True,\n",
    "    invert_yaxis=True,\n",
    "    outlier_line_alpha=0,\n",
    "    show_grid=True,\n",
    "    title=\"HoloViews\",\n",
    ")\n"
   ]
  },
  {
   "cell_type": "code",
   "execution_count": null,
   "metadata": {
    "pycharm": {
     "name": "#%%\n"
    }
   },
   "outputs": [],
   "source": [
    "import bokeh.sampledata.autompg\n",
    "df = bokeh.sampledata.autompg.autompg_clean\n",
    "df['cyl'] = df['cyl'].astype(str)\n",
    "\n",
    "testhv = hv.BoxWhisker(data=df, kdims=\"origin\", vdims=\"mpg\",).opts(**boxwhisker_opts)\n",
    "\n",
    "bokeh.io.show(testhv)"
   ]
  },
  {
   "cell_type": "code",
   "execution_count": null,
   "metadata": {
    "pycharm": {
     "name": "#%%\n"
    }
   },
   "outputs": [],
   "source": [
    "phv = hv.BoxWhisker(data=Data_noWater_Simple,\n",
    "                    kdims=\"Training\",\n",
    "                    vdims=\"Peeks Left\")#.opts(**boxwhisker_opts)\n",
    "\n",
    "bokeh.io.show(hv.render(phv))"
   ]
  },
  {
   "cell_type": "code",
   "execution_count": null,
   "metadata": {
    "pycharm": {
     "name": "#%%\n"
    }
   },
   "outputs": [],
   "source": [
    "lay = bokeh.layouts.row(p_box,p_box)\n",
    "bokeh.io.show(lay)"
   ]
  },
  {
   "cell_type": "code",
   "execution_count": null,
   "metadata": {
    "pycharm": {
     "name": "#%%\n"
    }
   },
   "outputs": [],
   "source": [
    "row = 10\n",
    "Data_noWater_Simple['Durations Left Corner'][row]"
   ]
  },
  {
   "cell_type": "code",
   "execution_count": null,
   "metadata": {
    "pycharm": {
     "name": "#%%\n"
    }
   },
   "outputs": [],
   "source": [
    "source = bokeh.models.ColumnDataSource(dict(Training=Data_noWater_Simple[\"Training\"],\n",
    "                                            LCDurations= Data_noWater_Simple['Durations Left Corner'],\n",
    "                                            LPeeks=Data_noWater_Simple['Peeks Left']))"
   ]
  },
  {
   "cell_type": "code",
   "execution_count": null,
   "metadata": {
    "pycharm": {
     "name": "#%%\n"
    }
   },
   "outputs": [],
   "source": [
    "p_box = iqplot.stripbox(source=source,\n",
    "                   q=\"LPeeks\",\n",
    "                   cats=\"Training\",\n",
    "                   )\n",
    "\n",
    "bokeh.io.show(p_box)"
   ]
  },
  {
   "cell_type": "code",
   "execution_count": null,
   "metadata": {
    "pycharm": {
     "name": "#%%\n"
    }
   },
   "outputs": [],
   "source": [
    "source.data['LPeeks']"
   ]
  },
  {
   "cell_type": "code",
   "execution_count": null,
   "metadata": {
    "pycharm": {
     "name": "#%%\n"
    }
   },
   "outputs": [],
   "source": [
    "Data_noWater_Simple[\"Durations Left Corner\"]"
   ]
  },
  {
   "cell_type": "code",
   "execution_count": null,
   "metadata": {
    "pycharm": {
     "name": "#%%\n"
    }
   },
   "outputs": [],
   "source": [
    "\n",
    "\n",
    "Durs = source.data['LCDurations']\n",
    "Durs = Durs.values"
   ]
  },
  {
   "cell_type": "code",
   "execution_count": null,
   "metadata": {
    "pycharm": {
     "name": "#%%\n"
    }
   },
   "outputs": [],
   "source": [
    "\n",
    "#Durs[0] = ast.literal_eval(Durs[0])\n",
    "for i in Durs:\n",
    "    Durs[i] = ast.literal_eval(Durs[i])"
   ]
  },
  {
   "cell_type": "code",
   "execution_count": null,
   "metadata": {
    "pycharm": {
     "name": "#%%\n"
    }
   },
   "outputs": [],
   "source": [
    "\n",
    "#for i in itertools.chain.from_iterable(Durs):\n",
    "\n",
    "    #print(ast.literal_eval(Durs[i]))\n",
    "\n",
    "Durs"
   ]
  },
  {
   "cell_type": "code",
   "execution_count": null,
   "metadata": {
    "pycharm": {
     "name": "#%%\n"
    }
   },
   "outputs": [],
   "source": [
    "param = 40\n",
    "for j in Durs:\n",
    "    #print(source.data['LCDurations'][row])\n",
    "    LPeeks = sum(1 for i in ast.literal_eval(Durs[j]) if i > param)\n",
    "    #source.data.loc[\"LPeeks\"] = sum(1 for i in ast.literal_eval(source.data['LCDurations'][row]) if i > param)\n",
    "\n",
    "#source.data[\"LPeeks\"]"
   ]
  },
  {
   "cell_type": "code",
   "execution_count": null,
   "metadata": {
    "pycharm": {
     "name": "#%%\n"
    }
   },
   "outputs": [],
   "source": [
    "Melted = pd.melt(Data_noWater_Simple,\n",
    "                 id_vars=['Training', 'ObjectsReinforced','Reinforced_side',\n",
    "                          'Fly', 'Date'],\n",
    "                 value_name = 'Count',\n",
    "                 value_vars=['Peeks Left', 'Peeks Right', 'Peeks Top', 'Long Peeks Left', 'Long Peeks Right', 'Long Peeks Top','Face Left', 'Face Right', 'Face Top'],\n",
    "                 var_name='Type')"
   ]
  },
  {
   "cell_type": "code",
   "execution_count": null,
   "metadata": {
    "pycharm": {
     "name": "#%%\n"
    }
   },
   "outputs": [],
   "source": [
    "conditions = [\n",
    "    (Melted['Reinforced_side'].str.contains('Right') & (Melted['Type'].str.contains('Right'))),\n",
    "    (Melted['Reinforced_side'].str.contains('Left') & (Melted['Type'].str.contains('Left'))),\n",
    "    (Melted['Reinforced_side'].str.contains('Right') & (Melted['Type'].str.contains('Left'))),\n",
    "    (Melted['Reinforced_side'].str.contains('Left') & (Melted['Type'].str.contains('Right'))),\n",
    "    (Melted['Type'].str.contains('Top')),\n",
    "]\n",
    "\n",
    "values = ['Rewarded Side', 'Rewarded Side', 'Punished Side', 'Punished Side', 'Empty Side']\n",
    "Melted['Condition'] = np.select(conditions,values)\n",
    "Melted.head()"
   ]
  },
  {
   "cell_type": "code",
   "execution_count": null,
   "metadata": {
    "pycharm": {
     "name": "#%%\n"
    }
   },
   "outputs": [],
   "source": [
    "conditions = [\n",
    "    (Melted['Type'].str.contains('Long')),\n",
    "    (Melted['Type'].str.contains('Face')),\n",
    "    (('Long' not in Melted['Type']) & ('Face' not in Melted['Type'])) # This is not really working but still gives expected result\n",
    "]\n",
    "\n",
    "values = ['Squeeze', 'Fronts', 'Peeks']\n",
    "Melted['Beh'] = np.select(conditions,values)\n",
    "Melted.head()"
   ]
  },
  {
   "cell_type": "code",
   "execution_count": null,
   "metadata": {
    "pycharm": {
     "name": "#%%\n"
    }
   },
   "outputs": [],
   "source": [
    "sns.set(font_scale=1)\n",
    "g=sns.catplot(x='Condition', y = 'Count',\n",
    "            hue='Training', showfliers = False,\n",
    "            col='Beh',\n",
    "            kind=\"box\",\n",
    "            row='ObjectsReinforced',\n",
    "            data= Melted)\n",
    "g.map_dataframe(sns.stripplot,x='Condition', y = 'Count',\n",
    "            hue='Training', dodge=True,\n",
    "            palette=[\"#404040\"])\n",
    "plt.show\n",
    "\n",
    "#plt.savefig('/Volumes/Ramdya-Lab/DURRIEU_Matthias/Experimental_data/MultiSensory_Project/GatedArenas/Results/220722_BehaviorPlot_ObjectSplit.png')"
   ]
  },
  {
   "cell_type": "code",
   "execution_count": null,
   "metadata": {
    "pycharm": {
     "name": "#%%\n"
    }
   },
   "outputs": [],
   "source": [
    "Melted.Training = pd.Categorical(Melted.Training,\n",
    "                                 categories=['Trained', 'Ctrl'])"
   ]
  },
  {
   "cell_type": "code",
   "execution_count": null,
   "metadata": {
    "pycharm": {
     "name": "#%%\n"
    }
   },
   "outputs": [],
   "source": [
    "TimeData = pd.read_csv('/Volumes/Ramdya-Lab/DURRIEU_Matthias/Experimental_data/MultiSensory_Project/GatedArenas/Results/DataSetNew.csv')\n",
    "\n",
    "TimeData.head()"
   ]
  },
  {
   "cell_type": "code",
   "execution_count": null,
   "metadata": {
    "pycharm": {
     "name": "#%%\n"
    }
   },
   "outputs": [],
   "source": [
    "TimeMelted = pd.melt(TimeData, id_vars=['Training', 'ObjectsReinforced',\n",
    "                                        'Reinforced_side', 'Date', 'Fly'],\n",
    "                     value_name = 'Values',\n",
    "                     value_vars=['Visits Left Corner', 'Durations Left Corner',\n",
    "          'Visits Right Corner', 'Durations Right Corner',\n",
    "          'Visits Top Corner', 'Durations Top Corner',\n",
    "          'Visits Left Front', 'Durations Left Front',\n",
    "          'Visits Right Front', 'Durations Right Front',\n",
    "          'Visits Top Front', 'Durations Top Front'],\n",
    "                     var_name=\"Variable\")\n",
    "\n",
    "TimeMelted[['Values',]] = TimeMelted[['Values',]].applymap(ast.literal_eval)\n",
    "TimeMelted = TimeMelted.explode('Values').drop_duplicates()\n",
    "\n",
    "conditions = [\n",
    "    (TimeMelted['Variable'].str.contains('Durations')),\n",
    "    (TimeMelted['Variable'].str.contains('Visits')),\n",
    "]\n",
    "\n",
    "values = ['Durations', 'Visits']\n",
    "TimeMelted['Kind'] = np.select(conditions,values)\n",
    "TimeMelted.head()\n",
    "\n",
    "conditions = [\n",
    "    (TimeMelted['Reinforced_side'].str.contains('Right') & (TimeMelted['Variable'].str.contains('Right'))),\n",
    "    (TimeMelted['Reinforced_side'].str.contains('Left') & (TimeMelted['Variable'].str.contains('Left'))),\n",
    "    (TimeMelted['Reinforced_side'].str.contains('Right') & (TimeMelted['Variable'].str.contains('Left'))),\n",
    "    (TimeMelted['Reinforced_side'].str.contains('Left') & (TimeMelted['Variable'].str.contains('Right'))),\n",
    "    (TimeMelted['Variable'].str.contains('Top')),\n",
    "]\n",
    "\n",
    "values = ['Rewarded Side', 'Rewarded Side', 'Punished Side', 'Punished Side', 'Empty Side']\n",
    "TimeMelted['Condition'] = np.select(conditions,values)\n",
    "TimeMelted.head()"
   ]
  },
  {
   "cell_type": "code",
   "execution_count": null,
   "metadata": {
    "pycharm": {
     "name": "#%%\n"
    }
   },
   "outputs": [],
   "source": [
    "ReinforcedVisit = TimeMelted[TimeMelted['Condition'] == \"Rewarded Side\"]\n",
    "\n",
    "ReinforcedVisit.loc[ReinforcedVisit['Variable'].str.contains('Visits'), 'Variable'] = 'Visits'\n",
    "ReinforcedVisit.loc[ReinforcedVisit['Variable'].str.contains('Durations'), 'Variable'] = 'Durations'\n",
    "\n",
    "ReinforcedVisit = ReinforcedVisit.reset_index().pivot_table(index = ['Fly', 'Training', 'ObjectsReinforced'],\n",
    "                                          columns = 'Variable',\n",
    "                                          values = 'Values').reset_index()"
   ]
  },
  {
   "cell_type": "code",
   "execution_count": null,
   "metadata": {
    "pycharm": {
     "name": "#%%\n"
    }
   },
   "outputs": [],
   "source": [
    "PunishedVisits = TimeMelted[TimeMelted['Condition'] == \"Punished Side\"]\n",
    "\n",
    "PunishedVisits.loc[PunishedVisits['Variable'].str.contains('Visits'), 'Variable'] = 'Visits'\n",
    "PunishedVisits.loc[PunishedVisits['Variable'].str.contains('Durations'), 'Variable'] = 'Durations'\n",
    "\n",
    "PunishedVisits = PunishedVisits.reset_index().pivot_table(index = ['Fly', 'Training', 'ObjectsReinforced'],\n",
    "                                          columns = 'Variable',\n",
    "                                          values = 'Values').reset_index()"
   ]
  },
  {
   "cell_type": "code",
   "execution_count": null,
   "metadata": {
    "pycharm": {
     "name": "#%%\n"
    }
   },
   "outputs": [],
   "source": [
    "# Create the figure, stored in variable `p`\n",
    "p = bokeh.plotting.figure(\n",
    "    frame_width=400,\n",
    "    frame_height=300,\n",
    "    x_axis_label='Visits time',\n",
    "    y_axis_label='Visits duration',\n",
    "    x_range=[0, 48000]\n",
    ")\n",
    "\n",
    "\n",
    "p.circle(\n",
    "    source= ReinforcedVisit[ReinforcedVisit['Training']== 'Trained'],\n",
    "    x='Visits',\n",
    "    y='Durations',\n",
    "    legend_label = 'Trained flies',\n",
    "\n",
    ")\n",
    "\n",
    "p.circle(\n",
    "    source=ReinforcedVisit[ReinforcedVisit['Training']== 'Ctrl'],\n",
    "    x='Visits',\n",
    "    y='Durations',\n",
    "    color = 'orange',\n",
    "    legend_label = 'Control flies'\n",
    ")\n",
    "\n",
    "bokeh.io.show(p)"
   ]
  },
  {
   "cell_type": "code",
   "execution_count": null,
   "metadata": {
    "pycharm": {
     "name": "#%%\n"
    }
   },
   "outputs": [],
   "source": [
    "# Create the figure, stored in variable `p`\n",
    "p = bokeh.plotting.figure(\n",
    "    frame_width=400,\n",
    "    frame_height=300,\n",
    "    x_axis_label='Visits time',\n",
    "    y_axis_label='Visits duration',\n",
    "    x_range=[0, 48000]\n",
    ")\n",
    "\n",
    "\n",
    "p.circle(\n",
    "    source= PunishedVisits[PunishedVisits['Training']== 'Trained'],\n",
    "    x='Visits',\n",
    "    y='Durations',\n",
    "    legend_label = 'Trained flies'\n",
    ")\n",
    "\n",
    "p.circle(\n",
    "    source=PunishedVisits[PunishedVisits['Training']== 'Ctrl'],\n",
    "    x='Visits',\n",
    "    y='Durations',\n",
    "    color = 'orange',\n",
    "    legend_label = 'Control flies'\n",
    ")\n",
    "\n",
    "bokeh.io.show(p)"
   ]
  },
  {
   "cell_type": "code",
   "execution_count": null,
   "metadata": {
    "pycharm": {
     "name": "#%%\n"
    }
   },
   "outputs": [],
   "source": [
    "EmptyVisits = TimeMelted[TimeMelted['Condition'] == \"Empty Side\"]\n",
    "\n",
    "EmptyVisits.loc[EmptyVisits['Variable'].str.contains('Visits'), 'Variable'] = 'Visits'\n",
    "EmptyVisits.loc[EmptyVisits['Variable'].str.contains('Durations'), 'Variable'] = 'Durations'\n",
    "\n",
    "EmptyVisits = EmptyVisits.reset_index().pivot_table(index = ['Fly', 'Training', 'ObjectsReinforced'],\n",
    "                                          columns = 'Variable',\n",
    "                                          values = 'Values').reset_index()"
   ]
  },
  {
   "cell_type": "code",
   "execution_count": null,
   "metadata": {
    "pycharm": {
     "name": "#%%\n"
    }
   },
   "outputs": [],
   "source": [
    "# Create the figure, stored in variable `p`\n",
    "p = bokeh.plotting.figure(\n",
    "    frame_width=400,\n",
    "    frame_height=300,\n",
    "    x_axis_label='Visits time',\n",
    "    y_axis_label='Visits duration',\n",
    "    x_range=[0, 48000]\n",
    ")\n",
    "\n",
    "\n",
    "p.circle(\n",
    "    source= EmptyVisits[EmptyVisits['Training']== 'Trained'],\n",
    "    x='Visits',\n",
    "    y='Durations',\n",
    "    legend_label = 'Trained flies'\n",
    ")\n",
    "\n",
    "p.circle(\n",
    "    source=EmptyVisits[EmptyVisits['Training']== 'Ctrl'],\n",
    "    x='Visits',\n",
    "    y='Durations',\n",
    "    color = 'orange',\n",
    "    legend_label = 'Control flies'\n",
    ")\n",
    "\n",
    "bokeh.io.show(p)"
   ]
  },
  {
   "cell_type": "code",
   "execution_count": null,
   "metadata": {
    "jupyter": {
     "outputs_hidden": false
    },
    "pycharm": {
     "name": "#%%\n"
    }
   },
   "outputs": [],
   "source": [
    "RightCornerVisits = TimeMelted[TimeMelted['Variable'].isin(['Visits Right Corner', 'Durations Right Corner'])].reset_index().pivot_table(index = ['Fly', 'Training'], columns = 'Variable', values = 'Values').reset_index()\n",
    "\n",
    "# Create the figure, stored in variable `p`\n",
    "p = bokeh.plotting.figure(\n",
    "    frame_width=400,\n",
    "    frame_height=300,\n",
    "    x_axis_label='Visits time',\n",
    "    y_axis_label='Visits duration'\n",
    ")\n",
    "\n",
    "\n",
    "p.circle(\n",
    "    source= RightCornerVisits[RightCornerVisits['Training']== 'Trained'],\n",
    "    x='Visits Right Corner',\n",
    "    y='Durations Right Corner',\n",
    "    legend_label = 'Trained flies'\n",
    ")\n",
    "\n",
    "p.circle(\n",
    "    source=RightCornerVisits[RightCornerVisits['Training']== 'Ctrl'],\n",
    "    x='Visits Right Corner',\n",
    "    y='Durations Right Corner',\n",
    "    color = 'orange',\n",
    "    legend_label = 'Control flies'\n",
    ")\n",
    "\n",
    "bokeh.io.show(p)"
   ]
  },
  {
   "cell_type": "markdown",
   "metadata": {
    "pycharm": {
     "name": "#%% md\n"
    }
   },
   "source": [
    "Bokeh boxplots"
   ]
  },
  {
   "cell_type": "code",
   "execution_count": null,
   "metadata": {
    "pycharm": {
     "name": "#%%\n"
    }
   },
   "outputs": [],
   "source": [
    "\n",
    "ThreshSlider = bokeh.models.Slider(\n",
    "    title=\"Peeks\",\n",
    "    start=0,\n",
    "    end=600,\n",
    "    step=10,\n",
    "    value=160\n",
    ")\n",
    "\n",
    "\n",
    "def slider_callback(attr, old, new):\n",
    "    param = ThreshSlider.value\n",
    "\n",
    "    Data['Peekings_Left'] = sum(1 for i in Data['Durations_Corner_Left'] if i > param)\n",
    "    #Peeks_Right = sum(1 for i in Durations_Corner_Right if i > 160)\n",
    "    #Peeks_Top = sum(1 for i in Durations_Corner_Top if i > 160)\n",
    "\n",
    "slider.on_change(\"value\", slider_callback)\n",
    "\n",
    "p_box = iqplot.stripbox(data=Data,\n",
    "                   q=\"Peekings_Left\",\n",
    "                   cats=\"Training\",\n",
    "                   )\n",
    "\n",
    "Box_layout = bokeh.layouts.row(\n",
    "    p_box,\n",
    "    bokeh.models.Spacer(width=15),\n",
    "    bokeh.layouts.column(\n",
    "        ThreshSlider,\n",
    "        width=200,\n",
    "    ),\n",
    ")\n",
    "\n",
    "def induction_app(doc):\n",
    "    doc.add_root(induction_layout)"
   ]
  },
  {
   "cell_type": "code",
   "execution_count": null,
   "metadata": {
    "pycharm": {
     "name": "#%%\n"
    }
   },
   "outputs": [],
   "source": [
    "param = 160\n",
    "\n",
    "Data['Peekings_Left'] = sum(1 for i in Data['Durations Left Corner'] if i > param)\n"
   ]
  },
  {
   "cell_type": "code",
   "execution_count": null,
   "metadata": {
    "pycharm": {
     "name": "#%%\n"
    }
   },
   "outputs": [],
   "source": [
    "# First time related plot\n",
    "\n",
    "Data = pd.read_csv(\n",
    "    '/Volumes/Ramdya-Lab/DURRIEU_Matthias/Experimental_data/MultiSensory_Project/GatedArenas/Results/DataSetAugust22.csv')\n",
    "Data.head()"
   ]
  },
  {
   "cell_type": "code",
   "execution_count": null,
   "metadata": {
    "pycharm": {
     "name": "#%%\n"
    }
   },
   "outputs": [],
   "source": [
    "\n",
    "Data = Data[Data['Test Starvation'] == \"Overnight no Water\"]\n",
    "Data = Data[Data[\"Training Starvation\"] == \"Not starved\"]  #.reset_index()\n",
    "\n",
    "Data['TimeSpentRewSide'] = 'i'\n",
    "\n",
    "conditions = [\n",
    "    ((Data[\"Reinforced_side\"].str.contains(\"Left\"))),\n",
    "    ((Data[\"Reinforced_side\"].str.contains(\"Right\"))),\n",
    "]\n",
    "values = [\n",
    "    Data['Relative Time Left'],\n",
    "    Data['Relative Time Right'],\n",
    "]\n",
    "Data[\"TimeSpentRewSide\"] = np.select(conditions, values)"
   ]
  },
  {
   "cell_type": "code",
   "execution_count": null,
   "metadata": {
    "pycharm": {
     "name": "#%%\n"
    }
   },
   "outputs": [],
   "source": [
    "\n",
    "#Data['TimeSpentRewSide'] = Data['Relative Time Left'] if Data['Reinforced_side'].str.contains('Left') else Data['Relative Time Right']\n",
    "sns.set_theme(font_scale=1.5)\n",
    "sns.set(rc={'figure.figsize': (10, 15)})\n",
    "\n",
    "g = sns.catplot(x='TimeSpentRewSide', y='Training',\n",
    "                hue='Training', showfliers=False,\n",
    "                #col='Gate',\n",
    "                kind=\"box\",\n",
    "                #row='Test',\n",
    "                data=Data)\n",
    "g.set_xticklabels(size=10)\n",
    "g.map_dataframe(sns.stripplot, x='TimeSpentRewSide', y='Training',\n",
    "                hue='Training', dodge=True,\n",
    "                palette=[\"#404040\"])\n",
    "g.refline(x=0.5,\n",
    "          color=\"red\",\n",
    "          )\n",
    "g.set(\n",
    "    xlabel=\"Relative time spent in 'rewarded' side\",\n",
    "    ylabel='',\n",
    "    #xlim=(0,1),\n",
    "    #xticks=np.arange(0,1,0.1),\n",
    ")\n",
    "plt.text(1, 1.5,\n",
    "         'n=30',\n",
    "         horizontalalignment='center',\n",
    "         verticalalignment='top',\n",
    "         )\n",
    "\n",
    "plt.show\n",
    "plt.savefig('/Volumes/Ramdya-Lab/DURRIEU_Matthias/Experimental_data/MultiSensory_Project/GatedArenas/Results/TimeSpentLR.png')\n"
   ]
  },
  {
   "cell_type": "code",
   "execution_count": null,
   "metadata": {
    "pycharm": {
     "name": "#%%\n"
    }
   },
   "outputs": [],
   "source": [
    "\n",
    "Data = pd.read_csv(\n",
    "    '/Volumes/Ramdya-Lab/DURRIEU_Matthias/Experimental_data/MultiSensory_Project/GatedArenas_Agar/Results/DataSetNew.csv')\n",
    "Data.head()"
   ]
  },
  {
   "cell_type": "code",
   "execution_count": null,
   "metadata": {
    "pycharm": {
     "name": "#%%\n"
    }
   },
   "outputs": [],
   "source": [
    "\n",
    "#Data_noWater = Data[Data['Test Starvation'] == \"Overnight no Water\"]\n",
    "#Data_noWater_Simple = Data_noWater[Data_noWater[\"Training Starvation\"] == \"Not starved\"]  #.reset_index()\n",
    "Data_noWater_Simple = Data\n",
    "\n",
    "Data_noWater_Simple[\"Peeks Left\"] = [160] * len(Data_noWater_Simple)\n",
    "Peekparam = 80\n",
    "SqueezeParam = 160\n",
    "\n",
    "for index, row in Data_noWater_Simple.iterrows():\n",
    "    #print (row['Durations Left Corner'])\n",
    "\n",
    "    #print (1 for i in row['Durations Left Corner'])\n",
    "    Data_noWater_Simple.loc[index, \"Peeks Left\"] = sum(\n",
    "        1 for i in ast.literal_eval(row['Durations Left Corner']) if i > Peekparam)\n",
    "    Data_noWater_Simple.loc[index, \"Squeeze Left\"] = sum(\n",
    "        1 for i in ast.literal_eval(row['Durations Left Corner']) if i > SqueezeParam)\n",
    "    #Data_noWater_Simple['Peeks Left'][rows]= sum(1 for i in Data['Durations Left Corner'][rows] if i > param)\n",
    "    Data_noWater_Simple.loc[index, \"Peeks Right\"] = sum(\n",
    "        1 for i in ast.literal_eval(row['Durations Right Corner']) if i > Peekparam)\n",
    "    Data_noWater_Simple.loc[index, \"Squeeze Right\"] = sum(\n",
    "        1 for i in ast.literal_eval(row['Durations Right Corner']) if i > SqueezeParam)\n",
    "    Data_noWater_Simple.loc[index, \"Peeks Top\"] = sum(\n",
    "        1 for i in ast.literal_eval(row['Durations Top Corner']) if i > Peekparam)\n",
    "    Data_noWater_Simple.loc[index, \"Squeeze Top\"] = sum(\n",
    "        1 for i in ast.literal_eval(row['Durations Top Corner']) if i > SqueezeParam)\n",
    "\n",
    "    # Data_noWater_Simple.apply(sum(1 for i in Data['Durations Left Corner'] if i > param) for elements in Data['Durations Left Corner'])\n",
    "#Data_noWater_Simple['Peeks Left']\n"
   ]
  },
  {
   "cell_type": "code",
   "execution_count": null,
   "metadata": {
    "pycharm": {
     "name": "#%%\n"
    }
   },
   "outputs": [],
   "source": [
    "\n",
    "Melted = pd.melt(Data_noWater_Simple,\n",
    "                 id_vars=['Training', 'ObjectsReinforced', 'Reinforced_side',\n",
    "                          'Fly', 'Date'],\n",
    "                 value_name='Count',\n",
    "                 value_vars=['Peeks Left', 'Peeks Right', 'Peeks Top', 'Squeeze Left', 'Squeeze Right', 'Squeeze Top'],\n",
    "                 var_name='Type')\n",
    "conditions = [\n",
    "    (Melted['Reinforced_side'].str.contains('Right') & (Melted['Type'].str.contains('Right'))),\n",
    "    (Melted['Reinforced_side'].str.contains('Left') & (Melted['Type'].str.contains('Left'))),\n",
    "    (Melted['Reinforced_side'].str.contains('Right') & (Melted['Type'].str.contains('Left'))),\n",
    "    (Melted['Reinforced_side'].str.contains('Left') & (Melted['Type'].str.contains('Right'))),\n",
    "    (Melted['Type'].str.contains('Top')),\n",
    "]\n",
    "\n",
    "values = ['Rewarded Side', 'Rewarded Side', 'Punished Side', 'Punished Side', 'Empty Side']\n",
    "Melted['Condition'] = np.select(conditions, values)\n",
    "#Melted.head()\n",
    "\n",
    "conditions = [\n",
    "    (Melted['Type'].str.contains('Peeks')),\n",
    "    (Melted['Type'].str.contains('Squeeze')),\n",
    "]\n",
    "\n",
    "values = ['Peeking', 'Squeezing', ]\n",
    "Melted['Beh'] = np.select(conditions, values)\n",
    "#Melted.head()\n",
    "sns.set(font_scale=1.5)\n",
    "\n",
    "g = sns.catplot(x='Count', y='Condition',\n",
    "                hue='Training', showfliers=False,\n",
    "                col='Beh',\n",
    "                kind=\"box\",\n",
    "                #row='Starvation',\n",
    "                data=Melted)\n",
    "g.map_dataframe(sns.stripplot, x='Count', y='Condition',\n",
    "                hue='Training', dodge=True,\n",
    "                palette=[\"#404040\"])\n",
    "\n",
    "g.set(\n",
    "    #xlabel=\"Relative time spent in 'rewarded' side\",\n",
    "    ylabel='',\n",
    "    #yticks=[],\n",
    "    #xlim=(0,1),\n",
    "    #xticks=np.arange(0,1,0.1),\n",
    ")\n",
    "\n",
    "plt.text(30, 3,\n",
    "         'n=30',\n",
    "         horizontalalignment='center',\n",
    "         verticalalignment='top',\n",
    "         )\n",
    "\n",
    "ax = g.axes\n",
    "ax[0][0].set_title('Peeking')\n",
    "ax[0][1].set_title('Squeezing')\n",
    "\n",
    "plt.show"
   ]
  }
 ],
 "metadata": {
  "kernelspec": {
   "display_name": "Python 3 (ipykernel)",
   "language": "python",
   "name": "python3"
  },
  "language_info": {
   "codemirror_mode": {
    "name": "ipython",
    "version": 3
   },
   "file_extension": ".py",
   "mimetype": "text/x-python",
   "name": "python",
   "nbconvert_exporter": "python",
   "pygments_lexer": "ipython3",
   "version": "3.10.4"
  }
 },
 "nbformat": 4,
 "nbformat_minor": 4
}
