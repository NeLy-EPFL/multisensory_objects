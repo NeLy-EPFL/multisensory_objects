{
 "cells": [
  {
   "cell_type": "code",
   "execution_count": null,
   "metadata": {
    "pycharm": {
     "name": "#%%\n"
    }
   },
   "outputs": [],
   "source": [
    "# importing libraries\n",
    "import numpy as np\n",
    "import cv2\n",
    "import tracktor as tr"
   ]
  },
  {
   "cell_type": "code",
   "execution_count": null,
   "metadata": {
    "pycharm": {
     "name": "#%%\n"
    }
   },
   "outputs": [],
   "source": [
    "\n",
    "# creating object\n",
    "fgbg1 = cv2.bgsegm.createBackgroundSubtractorMOG();\n",
    "fgbg2 = cv2.createBackgroundSubtractorMOG2();\n",
    "fgbg3 = cv2.bgsegm.createBackgroundSubtractorGMG(initializationFrames=120, decisionThreshold=0.5);\n",
    "fgbg4 = cv2.bgsegm.createBackgroundSubtractorCNT();\n",
    "fgbg5 = cv2.bgsegm.createBackgroundSubtractorGSOC()#default : 0.003\n",
    "fgbg6 = cv2.bgsegm.createBackgroundSubtractorLSBP()\n",
    "\n",
    "Frame = 500\n",
    "\n",
    "path = '/Users/ulric/Desktop/'\n",
    "video = 'Tile1_Merged_Trim'\n",
    "input_vidpath = path + video + '.mp4'"
   ]
  },
  {
   "cell_type": "code",
   "execution_count": null,
   "metadata": {
    "pycharm": {
     "name": "#%%\n"
    }
   },
   "outputs": [],
   "source": [
    "\n",
    "# capture frames from a camera\n",
    "cap = cv2.VideoCapture(input_vidpath);\n",
    "while(1):\n",
    "\t# read frames\n",
    "\tret, img = cap.read();\n",
    "\tthis = cap.get(1)\n",
    "\t#img = cv2.blur(img, (5, 5))\n",
    "    #gray = cv2.cvtColor(img, cv2.COLOR_BGR2GRAY)\n",
    "\n",
    "\n",
    "\t# apply mask for background subtraction\n",
    "\t#fgmask1 = fgbg1.apply(img);\n",
    "\t#fgmask2 = fgbg2.apply(img);\n",
    "\t#fgmask3 = fgbg3.apply(img);\n",
    "\t#fgmask4 = fgbg4.apply(img);\n",
    "\tfgmask5 = fgbg5.apply(img);\n",
    "\t#fgmask6 = fgbg6.apply(img);\n",
    "\n",
    "\tbg = fgbg5.getBackgroundImage()\n",
    "\n",
    "\t#font = cv2.FONT_HERSHEY_SCRIPT_SIMPLEX\n",
    "\t#cv2.putText(img, str(int(this)), (5,30), font, 1, (255,255,255), 2)\n",
    "\n",
    "\t#cv2.imshow('Original', img);\n",
    "\t#cv2.imshow('MOG', fgmask1);\n",
    "\t#cv2.imshow('MOG2', fgmask2);\n",
    "\t#cv2.imshow('GMG', fgmask3);\n",
    "\t#cv2.imshow('CNT', fgmask4)\n",
    "\tcv2.imshow('GSOC', fgmask5)\n",
    "\t#cv2.imshow('LSBP', fgmask6)\n",
    "\tcv2.imshow('background', bg)\n",
    "\n",
    "\tif this == Frame:\n",
    "\n",
    "\t\tcv2.imwrite(path+'Background.jpg', bg)\n",
    "\t\tbreak\n",
    "\n",
    "\tk = cv2.waitKey(30) & 0xff;\n",
    "\tif k == 27:\n",
    "\t\tbreak;\n",
    "\n",
    "cap.release();\n",
    "cv2.destroyAllWindows();"
   ]
  },
  {
   "cell_type": "code",
   "execution_count": null,
   "metadata": {
    "pycharm": {
     "name": "#%%\n"
    }
   },
   "outputs": [],
   "source": [
    "Background = cv2.imread(path+'Background.jpg')\n",
    "\n",
    "cap = cv2.VideoCapture(input_vidpath)\n",
    "while(1):\n",
    "\t# read frames\n",
    "\tret, img = cap.read()\n",
    "    #frame = cv2.GaussianBlur(frame,(15,15),0)\n",
    "\tsubtracted = cv2.absdiff(img, Background)\n",
    "\tret1, thresh = cv2.threshold(subtracted, 50, 255, cv2.THRESH_BINARY)\n",
    "\tcv2.imshow(\"window\", thresh)\n",
    "\n",
    "\tk = cv2.waitKey(30) & 0xff\n",
    "\tif k == 27:\n",
    "\t\tbreak\n",
    "\n",
    "cap.release()\n",
    "cv2.destroyAllWindows();"
   ]
  },
  {
   "cell_type": "code",
   "execution_count": null,
   "metadata": {
    "pycharm": {
     "name": "#%%\n"
    }
   },
   "outputs": [],
   "source": [
    "Background = cv2.imread(path+'Background.jpg')\n",
    "\n",
    "cap = cv2.VideoCapture(input_vidpath)\n",
    "while(1):\n",
    "\t# read frames\n",
    "\tret, img = cap.read()\n",
    "    #frame = cv2.GaussianBlur(frame,(15,15),0)\n",
    "\tsubtracted = cv2.absdiff(img, Background)\n",
    "\tret1, thresh = cv2.threshold(subtracted, 50, 255, cv2.THRESH_BINARY)\n",
    "\n",
    "\tfinal, contours, meas_last, meas_now = tr.detect_and_draw_contours(frame, thresh, meas_last, meas_now, min_area, max_area)\n",
    "        row_ind, col_ind = tr.hungarian_algorithm(meas_last, meas_now)\n",
    "        final, meas_now, df = tr.reorder_and_draw(final, colours, n_inds, col_ind, meas_now, df, mot, this)\n",
    "\n",
    "\tcv2.imshow(\"window\", thresh)\n",
    "\n",
    "\tk = cv2.waitKey(30) & 0xff\n",
    "\tif k == 27:\n",
    "\t\tbreak\n",
    "\n",
    "cap.release()\n",
    "cv2.destroyAllWindows();"
   ]
  }
 ],
 "metadata": {
  "kernelspec": {
   "display_name": "python(flytrack)",
   "language": "python",
   "name": "flytrack"
  },
  "language_info": {
   "codemirror_mode": {
    "name": "ipython",
    "version": 2
   },
   "file_extension": ".py",
   "mimetype": "text/x-python",
   "name": "python",
   "nbconvert_exporter": "python",
   "pygments_lexer": "ipython2",
   "version": "2.7.6"
  }
 },
 "nbformat": 4,
 "nbformat_minor": 0
}
